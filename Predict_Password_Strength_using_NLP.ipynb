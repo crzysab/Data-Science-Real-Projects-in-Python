{
  "nbformat": 4,
  "nbformat_minor": 0,
  "metadata": {
    "colab": {
      "name": "Predict Password Strength using NLP.ipynb",
      "provenance": [],
      "authorship_tag": "ABX9TyMEmRdL9MxwXDYIpSOKGEsY",
      "include_colab_link": true
    },
    "kernelspec": {
      "name": "python3",
      "display_name": "Python 3"
    },
    "language_info": {
      "name": "python"
    }
  },
  "cells": [
    {
      "cell_type": "markdown",
      "metadata": {
        "id": "view-in-github",
        "colab_type": "text"
      },
      "source": [
        "<a href=\"https://colab.research.google.com/github/sabsabrina/Data-Science-Real-Projects-in-Python/blob/main/Predict_Password_Strength_using_NLP.ipynb\" target=\"_parent\"><img src=\"https://colab.research.google.com/assets/colab-badge.svg\" alt=\"Open In Colab\"/></a>"
      ]
    },
    {
      "cell_type": "markdown",
      "metadata": {
        "id": "dRGiMZV_00WC"
      },
      "source": [
        "Exploring Data"
      ]
    },
    {
      "cell_type": "code",
      "metadata": {
        "colab": {
          "base_uri": "https://localhost:8080/",
          "height": 292
        },
        "id": "GPAVXzoYyAhk",
        "outputId": "49e0aadd-19a4-412a-e73a-baf00cad30fc"
      },
      "source": [
        "import pandas as pd\n",
        "import numpy as np\n",
        "import seaborn as sns\n",
        "import warnings\n",
        "warnings.filterwarnings('ignore')\n",
        "from google.colab import drive\n",
        "\n",
        "drive.mount('/content/drive')\n",
        "data = pd.read_csv(\"/content/drive/My Drive/dataset/data.csv\",error_bad_lines=False)\n",
        "data.head()"
      ],
      "execution_count": 2,
      "outputs": [
        {
          "output_type": "stream",
          "text": [
            "Mounted at /content/drive\n"
          ],
          "name": "stdout"
        },
        {
          "output_type": "stream",
          "text": [
            "b'Skipping line 2810: expected 2 fields, saw 5\\nSkipping line 4641: expected 2 fields, saw 5\\nSkipping line 7171: expected 2 fields, saw 5\\nSkipping line 11220: expected 2 fields, saw 5\\nSkipping line 13809: expected 2 fields, saw 5\\nSkipping line 14132: expected 2 fields, saw 5\\nSkipping line 14293: expected 2 fields, saw 5\\nSkipping line 14865: expected 2 fields, saw 5\\nSkipping line 17419: expected 2 fields, saw 5\\nSkipping line 22801: expected 2 fields, saw 5\\nSkipping line 25001: expected 2 fields, saw 5\\nSkipping line 26603: expected 2 fields, saw 5\\nSkipping line 26742: expected 2 fields, saw 5\\nSkipping line 29702: expected 2 fields, saw 5\\nSkipping line 32767: expected 2 fields, saw 5\\nSkipping line 32878: expected 2 fields, saw 5\\nSkipping line 35643: expected 2 fields, saw 5\\nSkipping line 36550: expected 2 fields, saw 5\\nSkipping line 38732: expected 2 fields, saw 5\\nSkipping line 40567: expected 2 fields, saw 5\\nSkipping line 40576: expected 2 fields, saw 5\\nSkipping line 41864: expected 2 fields, saw 5\\nSkipping line 46861: expected 2 fields, saw 5\\nSkipping line 47939: expected 2 fields, saw 5\\nSkipping line 48628: expected 2 fields, saw 5\\nSkipping line 48908: expected 2 fields, saw 5\\nSkipping line 57582: expected 2 fields, saw 5\\nSkipping line 58782: expected 2 fields, saw 5\\nSkipping line 58984: expected 2 fields, saw 5\\nSkipping line 61518: expected 2 fields, saw 5\\nSkipping line 63451: expected 2 fields, saw 5\\nSkipping line 68141: expected 2 fields, saw 5\\nSkipping line 72083: expected 2 fields, saw 5\\nSkipping line 74027: expected 2 fields, saw 5\\nSkipping line 77811: expected 2 fields, saw 5\\nSkipping line 83958: expected 2 fields, saw 5\\nSkipping line 85295: expected 2 fields, saw 5\\nSkipping line 88665: expected 2 fields, saw 5\\nSkipping line 89198: expected 2 fields, saw 5\\nSkipping line 92499: expected 2 fields, saw 5\\nSkipping line 92751: expected 2 fields, saw 5\\nSkipping line 93689: expected 2 fields, saw 5\\nSkipping line 94776: expected 2 fields, saw 5\\nSkipping line 97334: expected 2 fields, saw 5\\nSkipping line 102316: expected 2 fields, saw 5\\nSkipping line 103421: expected 2 fields, saw 5\\nSkipping line 106872: expected 2 fields, saw 5\\nSkipping line 109363: expected 2 fields, saw 5\\nSkipping line 110117: expected 2 fields, saw 5\\nSkipping line 110465: expected 2 fields, saw 5\\nSkipping line 113843: expected 2 fields, saw 5\\nSkipping line 115634: expected 2 fields, saw 5\\nSkipping line 121518: expected 2 fields, saw 5\\nSkipping line 123692: expected 2 fields, saw 5\\nSkipping line 124708: expected 2 fields, saw 5\\nSkipping line 129608: expected 2 fields, saw 5\\nSkipping line 133176: expected 2 fields, saw 5\\nSkipping line 135532: expected 2 fields, saw 5\\nSkipping line 138042: expected 2 fields, saw 5\\nSkipping line 139485: expected 2 fields, saw 5\\nSkipping line 140401: expected 2 fields, saw 5\\nSkipping line 144093: expected 2 fields, saw 5\\nSkipping line 149850: expected 2 fields, saw 5\\nSkipping line 151831: expected 2 fields, saw 5\\nSkipping line 158014: expected 2 fields, saw 5\\nSkipping line 162047: expected 2 fields, saw 5\\nSkipping line 164515: expected 2 fields, saw 5\\nSkipping line 170313: expected 2 fields, saw 5\\nSkipping line 171325: expected 2 fields, saw 5\\nSkipping line 171424: expected 2 fields, saw 5\\nSkipping line 175920: expected 2 fields, saw 5\\nSkipping line 176210: expected 2 fields, saw 5\\nSkipping line 183603: expected 2 fields, saw 5\\nSkipping line 190264: expected 2 fields, saw 5\\nSkipping line 191683: expected 2 fields, saw 5\\nSkipping line 191988: expected 2 fields, saw 5\\nSkipping line 195450: expected 2 fields, saw 5\\nSkipping line 195754: expected 2 fields, saw 5\\nSkipping line 197124: expected 2 fields, saw 5\\nSkipping line 199263: expected 2 fields, saw 5\\nSkipping line 202603: expected 2 fields, saw 5\\nSkipping line 209960: expected 2 fields, saw 5\\nSkipping line 213218: expected 2 fields, saw 5\\nSkipping line 217060: expected 2 fields, saw 5\\nSkipping line 220121: expected 2 fields, saw 5\\nSkipping line 223518: expected 2 fields, saw 5\\nSkipping line 226293: expected 2 fields, saw 5\\nSkipping line 227035: expected 2 fields, saw 7\\nSkipping line 227341: expected 2 fields, saw 5\\nSkipping line 227808: expected 2 fields, saw 5\\nSkipping line 228516: expected 2 fields, saw 5\\nSkipping line 228733: expected 2 fields, saw 5\\nSkipping line 232043: expected 2 fields, saw 5\\nSkipping line 232426: expected 2 fields, saw 5\\nSkipping line 234490: expected 2 fields, saw 5\\nSkipping line 239626: expected 2 fields, saw 5\\nSkipping line 240461: expected 2 fields, saw 5\\nSkipping line 244518: expected 2 fields, saw 5\\nSkipping line 245395: expected 2 fields, saw 5\\nSkipping line 246168: expected 2 fields, saw 5\\nSkipping line 246655: expected 2 fields, saw 5\\nSkipping line 246752: expected 2 fields, saw 5\\nSkipping line 247189: expected 2 fields, saw 5\\nSkipping line 250276: expected 2 fields, saw 5\\nSkipping line 255327: expected 2 fields, saw 5\\nSkipping line 257094: expected 2 fields, saw 5\\n'\n",
            "b'Skipping line 264626: expected 2 fields, saw 5\\nSkipping line 265028: expected 2 fields, saw 5\\nSkipping line 269150: expected 2 fields, saw 5\\nSkipping line 271360: expected 2 fields, saw 5\\nSkipping line 273975: expected 2 fields, saw 5\\nSkipping line 274742: expected 2 fields, saw 5\\nSkipping line 276227: expected 2 fields, saw 5\\nSkipping line 279807: expected 2 fields, saw 5\\nSkipping line 283425: expected 2 fields, saw 5\\nSkipping line 287468: expected 2 fields, saw 5\\nSkipping line 292995: expected 2 fields, saw 5\\nSkipping line 293496: expected 2 fields, saw 5\\nSkipping line 293735: expected 2 fields, saw 5\\nSkipping line 295060: expected 2 fields, saw 5\\nSkipping line 296643: expected 2 fields, saw 5\\nSkipping line 296848: expected 2 fields, saw 5\\nSkipping line 308926: expected 2 fields, saw 5\\nSkipping line 310360: expected 2 fields, saw 5\\nSkipping line 317004: expected 2 fields, saw 5\\nSkipping line 318207: expected 2 fields, saw 5\\nSkipping line 331783: expected 2 fields, saw 5\\nSkipping line 333864: expected 2 fields, saw 5\\nSkipping line 335958: expected 2 fields, saw 5\\nSkipping line 336290: expected 2 fields, saw 5\\nSkipping line 343526: expected 2 fields, saw 5\\nSkipping line 343857: expected 2 fields, saw 5\\nSkipping line 344059: expected 2 fields, saw 5\\nSkipping line 348691: expected 2 fields, saw 5\\nSkipping line 353446: expected 2 fields, saw 5\\nSkipping line 357073: expected 2 fields, saw 5\\nSkipping line 359753: expected 2 fields, saw 5\\nSkipping line 359974: expected 2 fields, saw 5\\nSkipping line 366534: expected 2 fields, saw 5\\nSkipping line 369514: expected 2 fields, saw 5\\nSkipping line 377759: expected 2 fields, saw 5\\nSkipping line 379327: expected 2 fields, saw 5\\nSkipping line 380769: expected 2 fields, saw 5\\nSkipping line 381073: expected 2 fields, saw 5\\nSkipping line 381489: expected 2 fields, saw 5\\nSkipping line 386304: expected 2 fields, saw 5\\nSkipping line 387635: expected 2 fields, saw 5\\nSkipping line 389613: expected 2 fields, saw 5\\nSkipping line 392604: expected 2 fields, saw 5\\nSkipping line 393184: expected 2 fields, saw 5\\nSkipping line 395530: expected 2 fields, saw 5\\nSkipping line 396939: expected 2 fields, saw 5\\nSkipping line 397385: expected 2 fields, saw 5\\nSkipping line 397509: expected 2 fields, saw 5\\nSkipping line 402902: expected 2 fields, saw 5\\nSkipping line 405187: expected 2 fields, saw 5\\nSkipping line 408412: expected 2 fields, saw 5\\nSkipping line 419423: expected 2 fields, saw 5\\nSkipping line 420962: expected 2 fields, saw 5\\nSkipping line 425965: expected 2 fields, saw 5\\nSkipping line 427496: expected 2 fields, saw 5\\nSkipping line 438881: expected 2 fields, saw 5\\nSkipping line 439776: expected 2 fields, saw 5\\nSkipping line 440345: expected 2 fields, saw 5\\nSkipping line 445507: expected 2 fields, saw 5\\nSkipping line 445548: expected 2 fields, saw 5\\nSkipping line 447184: expected 2 fields, saw 5\\nSkipping line 448603: expected 2 fields, saw 5\\nSkipping line 451732: expected 2 fields, saw 5\\nSkipping line 458249: expected 2 fields, saw 5\\nSkipping line 460274: expected 2 fields, saw 5\\nSkipping line 467630: expected 2 fields, saw 5\\nSkipping line 473961: expected 2 fields, saw 5\\nSkipping line 476281: expected 2 fields, saw 5\\nSkipping line 478010: expected 2 fields, saw 5\\nSkipping line 478322: expected 2 fields, saw 5\\nSkipping line 479999: expected 2 fields, saw 5\\nSkipping line 480898: expected 2 fields, saw 5\\nSkipping line 481688: expected 2 fields, saw 5\\nSkipping line 485193: expected 2 fields, saw 5\\nSkipping line 485519: expected 2 fields, saw 5\\nSkipping line 486000: expected 2 fields, saw 5\\nSkipping line 489063: expected 2 fields, saw 5\\nSkipping line 494525: expected 2 fields, saw 5\\nSkipping line 495009: expected 2 fields, saw 5\\nSkipping line 501954: expected 2 fields, saw 5\\nSkipping line 508035: expected 2 fields, saw 5\\nSkipping line 508828: expected 2 fields, saw 5\\nSkipping line 509833: expected 2 fields, saw 5\\nSkipping line 510410: expected 2 fields, saw 5\\nSkipping line 518229: expected 2 fields, saw 5\\nSkipping line 520302: expected 2 fields, saw 5\\nSkipping line 520340: expected 2 fields, saw 5\\n'\n",
            "b'Skipping line 525174: expected 2 fields, saw 5\\nSkipping line 526251: expected 2 fields, saw 5\\nSkipping line 529611: expected 2 fields, saw 5\\nSkipping line 531398: expected 2 fields, saw 5\\nSkipping line 534146: expected 2 fields, saw 5\\nSkipping line 544954: expected 2 fields, saw 5\\nSkipping line 553002: expected 2 fields, saw 5\\nSkipping line 553883: expected 2 fields, saw 5\\nSkipping line 553887: expected 2 fields, saw 5\\nSkipping line 553915: expected 2 fields, saw 5\\nSkipping line 554172: expected 2 fields, saw 5\\nSkipping line 563534: expected 2 fields, saw 5\\nSkipping line 565191: expected 2 fields, saw 5\\nSkipping line 574108: expected 2 fields, saw 5\\nSkipping line 574412: expected 2 fields, saw 5\\nSkipping line 575985: expected 2 fields, saw 5\\nSkipping line 580091: expected 2 fields, saw 5\\nSkipping line 582682: expected 2 fields, saw 5\\nSkipping line 585885: expected 2 fields, saw 5\\nSkipping line 590171: expected 2 fields, saw 5\\nSkipping line 591924: expected 2 fields, saw 5\\nSkipping line 592515: expected 2 fields, saw 5\\nSkipping line 593888: expected 2 fields, saw 5\\nSkipping line 596245: expected 2 fields, saw 5\\nSkipping line 607344: expected 2 fields, saw 5\\nSkipping line 607633: expected 2 fields, saw 5\\nSkipping line 610939: expected 2 fields, saw 5\\nSkipping line 613638: expected 2 fields, saw 5\\nSkipping line 615643: expected 2 fields, saw 5\\nSkipping line 615901: expected 2 fields, saw 5\\nSkipping line 617389: expected 2 fields, saw 5\\nSkipping line 634641: expected 2 fields, saw 5\\nSkipping line 635755: expected 2 fields, saw 5\\nSkipping line 646243: expected 2 fields, saw 5\\nSkipping line 647165: expected 2 fields, saw 5\\nSkipping line 648610: expected 2 fields, saw 5\\nSkipping line 648772: expected 2 fields, saw 5\\nSkipping line 651833: expected 2 fields, saw 5\\nSkipping line 653663: expected 2 fields, saw 5\\nSkipping line 656233: expected 2 fields, saw 5\\nSkipping line 656694: expected 2 fields, saw 5\\nSkipping line 659783: expected 2 fields, saw 5\\nSkipping line 660478: expected 2 fields, saw 5\\nSkipping line 661133: expected 2 fields, saw 5\\nSkipping line 661736: expected 2 fields, saw 5\\nSkipping line 669827: expected 2 fields, saw 5\\n'\n"
          ],
          "name": "stderr"
        },
        {
          "output_type": "execute_result",
          "data": {
            "text/html": [
              "<div>\n",
              "<style scoped>\n",
              "    .dataframe tbody tr th:only-of-type {\n",
              "        vertical-align: middle;\n",
              "    }\n",
              "\n",
              "    .dataframe tbody tr th {\n",
              "        vertical-align: top;\n",
              "    }\n",
              "\n",
              "    .dataframe thead th {\n",
              "        text-align: right;\n",
              "    }\n",
              "</style>\n",
              "<table border=\"1\" class=\"dataframe\">\n",
              "  <thead>\n",
              "    <tr style=\"text-align: right;\">\n",
              "      <th></th>\n",
              "      <th>password</th>\n",
              "      <th>strength</th>\n",
              "    </tr>\n",
              "  </thead>\n",
              "  <tbody>\n",
              "    <tr>\n",
              "      <th>0</th>\n",
              "      <td>kzde5577</td>\n",
              "      <td>1</td>\n",
              "    </tr>\n",
              "    <tr>\n",
              "      <th>1</th>\n",
              "      <td>kino3434</td>\n",
              "      <td>1</td>\n",
              "    </tr>\n",
              "    <tr>\n",
              "      <th>2</th>\n",
              "      <td>visi7k1yr</td>\n",
              "      <td>1</td>\n",
              "    </tr>\n",
              "    <tr>\n",
              "      <th>3</th>\n",
              "      <td>megzy123</td>\n",
              "      <td>1</td>\n",
              "    </tr>\n",
              "    <tr>\n",
              "      <th>4</th>\n",
              "      <td>lamborghin1</td>\n",
              "      <td>1</td>\n",
              "    </tr>\n",
              "  </tbody>\n",
              "</table>\n",
              "</div>"
            ],
            "text/plain": [
              "      password  strength\n",
              "0     kzde5577         1\n",
              "1     kino3434         1\n",
              "2    visi7k1yr         1\n",
              "3     megzy123         1\n",
              "4  lamborghin1         1"
            ]
          },
          "metadata": {
            "tags": []
          },
          "execution_count": 2
        }
      ]
    },
    {
      "cell_type": "code",
      "metadata": {
        "colab": {
          "base_uri": "https://localhost:8080/"
        },
        "id": "UtVnIOio0ByA",
        "outputId": "6013e7eb-1169-46cd-ef84-c9b2be0f61cf"
      },
      "source": [
        "data['strength'].unique()"
      ],
      "execution_count": 3,
      "outputs": [
        {
          "output_type": "execute_result",
          "data": {
            "text/plain": [
              "array([1, 2, 0])"
            ]
          },
          "metadata": {
            "tags": []
          },
          "execution_count": 3
        }
      ]
    },
    {
      "cell_type": "code",
      "metadata": {
        "colab": {
          "base_uri": "https://localhost:8080/"
        },
        "id": "Sv0CtSYb0IuU",
        "outputId": "964241f3-afe9-438d-c4ae-135a532b3acf"
      },
      "source": [
        "data.isna().sum()"
      ],
      "execution_count": 5,
      "outputs": [
        {
          "output_type": "execute_result",
          "data": {
            "text/plain": [
              "password    1\n",
              "strength    0\n",
              "dtype: int64"
            ]
          },
          "metadata": {
            "tags": []
          },
          "execution_count": 5
        }
      ]
    },
    {
      "cell_type": "code",
      "metadata": {
        "colab": {
          "base_uri": "https://localhost:8080/",
          "height": 80
        },
        "id": "zrJALYs40TTa",
        "outputId": "f6d70c29-89eb-47bb-d882-abbb1dd1df51"
      },
      "source": [
        "data[data['password'].isnull()]"
      ],
      "execution_count": 6,
      "outputs": [
        {
          "output_type": "execute_result",
          "data": {
            "text/html": [
              "<div>\n",
              "<style scoped>\n",
              "    .dataframe tbody tr th:only-of-type {\n",
              "        vertical-align: middle;\n",
              "    }\n",
              "\n",
              "    .dataframe tbody tr th {\n",
              "        vertical-align: top;\n",
              "    }\n",
              "\n",
              "    .dataframe thead th {\n",
              "        text-align: right;\n",
              "    }\n",
              "</style>\n",
              "<table border=\"1\" class=\"dataframe\">\n",
              "  <thead>\n",
              "    <tr style=\"text-align: right;\">\n",
              "      <th></th>\n",
              "      <th>password</th>\n",
              "      <th>strength</th>\n",
              "    </tr>\n",
              "  </thead>\n",
              "  <tbody>\n",
              "    <tr>\n",
              "      <th>367579</th>\n",
              "      <td>NaN</td>\n",
              "      <td>0</td>\n",
              "    </tr>\n",
              "  </tbody>\n",
              "</table>\n",
              "</div>"
            ],
            "text/plain": [
              "       password  strength\n",
              "367579      NaN         0"
            ]
          },
          "metadata": {
            "tags": []
          },
          "execution_count": 6
        }
      ]
    },
    {
      "cell_type": "code",
      "metadata": {
        "id": "SHI-NiVH0mBz"
      },
      "source": [
        "data.dropna(inplace=True)"
      ],
      "execution_count": 7,
      "outputs": []
    },
    {
      "cell_type": "code",
      "metadata": {
        "colab": {
          "base_uri": "https://localhost:8080/"
        },
        "id": "9AlO3VT50qcm",
        "outputId": "ba6d4154-08b1-4eea-ae68-43cd3ab57e23"
      },
      "source": [
        "data.isna().sum()"
      ],
      "execution_count": 8,
      "outputs": [
        {
          "output_type": "execute_result",
          "data": {
            "text/plain": [
              "password    0\n",
              "strength    0\n",
              "dtype: int64"
            ]
          },
          "metadata": {
            "tags": []
          },
          "execution_count": 8
        }
      ]
    },
    {
      "cell_type": "code",
      "metadata": {
        "colab": {
          "base_uri": "https://localhost:8080/",
          "height": 296
        },
        "id": "GCORXB8803aQ",
        "outputId": "f26c1e09-fbdc-41be-fd22-420237b3d7ec"
      },
      "source": [
        "sns.countplot(data['strength'])"
      ],
      "execution_count": 9,
      "outputs": [
        {
          "output_type": "execute_result",
          "data": {
            "text/plain": [
              "<matplotlib.axes._subplots.AxesSubplot at 0x7fc884883b10>"
            ]
          },
          "metadata": {
            "tags": []
          },
          "execution_count": 9
        },
        {
          "output_type": "display_data",
          "data": {
            "image/png": "[encoded data removed]",
            "text/plain": [
              "<Figure size 432x288 with 1 Axes>"
            ]
          },
          "metadata": {
            "tags": [],
            "needs_background": "light"
          }
        }
      ]
    },
    {
      "cell_type": "code",
      "metadata": {
        "id": "PY_9AcjG2bi5"
      },
      "source": [
        "password_tuple = np.array(data)"
      ],
      "execution_count": 10,
      "outputs": []
    },
    {
      "cell_type": "code",
      "metadata": {
        "colab": {
          "base_uri": "https://localhost:8080/"
        },
        "id": "2_UEfohA3B4Y",
        "outputId": "e9eab368-66ae-4993-8521-c58243d4453e"
      },
      "source": [
        "password_tuple"
      ],
      "execution_count": 11,
      "outputs": [
        {
          "output_type": "execute_result",
          "data": {
            "text/plain": [
              "array([['kzde5577', 1],\n",
              "       ['kino3434', 1],\n",
              "       ['visi7k1yr', 1],\n",
              "       ...,\n",
              "       ['184520socram', 1],\n",
              "       ['marken22a', 1],\n",
              "       ['fxx4pw4g', 1]], dtype=object)"
            ]
          },
          "metadata": {
            "tags": []
          },
          "execution_count": 11
        }
      ]
    },
    {
      "cell_type": "code",
      "metadata": {
        "id": "jmhJ-XxH3XIB"
      },
      "source": [
        "import random\n",
        "random.shuffle(password_tuple)"
      ],
      "execution_count": 12,
      "outputs": []
    },
    {
      "cell_type": "code",
      "metadata": {
        "id": "GZRPw1LH3u9F"
      },
      "source": [
        "x = [labels[0] for labels in password_tuple]\n",
        "y = [labels[1] for labels in password_tuple]"
      ],
      "execution_count": 13,
      "outputs": []
    },
    {
      "cell_type": "code",
      "metadata": {
        "colab": {
          "base_uri": "https://localhost:8080/"
        },
        "id": "2S5jhbnr4C0j",
        "outputId": "59466d73-9377-4001-e6f0-b42dbe4d411c"
      },
      "source": [
        "x"
      ],
      "execution_count": 14,
      "outputs": [
        {
          "output_type": "execute_result",
          "data": {
            "text/plain": [
              "['kzde5577',\n",
              " 'kino3434',\n",
              " 'visi7k1yr',\n",
              " 'kzde5577',\n",
              " 'kzde5577',\n",
              " 'lamborghin1',\n",
              " 'lamborghin1',\n",
              " 'megzy123',\n",
              " 'AVYq1lDE4MgAZfNt',\n",
              " 'lamborghin1',\n",
              " 'kino3434',\n",
              " 'v1118714',\n",
              " 'jytifok873',\n",
              " 'u6c8vhow',\n",
              " 'WUt9IZzE0OQ7PkNE',\n",
              " 'megzy123',\n",
              " 'AVYq1lDE4MgAZfNt',\n",
              " 'AVYq1lDE4MgAZfNt',\n",
              " 'g067057895',\n",
              " '612035180tok',\n",
              " 'megzy123',\n",
              " 'jytifok873',\n",
              " 'megzy123',\n",
              " '6975038lp',\n",
              " 'u6c8vhow',\n",
              " 'kino3434',\n",
              " '0169395484a',\n",
              " 'lamborghin1',\n",
              " 'jytifok873',\n",
              " 'g067057895',\n",
              " 'elyass15@ajilent-ci',\n",
              " '52558000aaa',\n",
              " 'visi7k1yr',\n",
              " '612035180tok',\n",
              " '6975038lp',\n",
              " 'memjan123',\n",
              " 'WUt9IZzE0OQ7PkNE',\n",
              " 'jerusalem393',\n",
              " 'lamborghin1',\n",
              " 'universe2908',\n",
              " 'fk9qi21m',\n",
              " 'lsdlsd1',\n",
              " 'lamborghin1',\n",
              " 'lsdlsd1',\n",
              " 'AVYq1lDE4MgAZfNt',\n",
              " 'g067057895',\n",
              " 'asgaliu11',\n",
              " 'fk9qi21m',\n",
              " 'asv5o9yu',\n",
              " 'yqugu927',\n",
              " 'hpqkoxsn5',\n",
              " 'fk9qi21m',\n",
              " 'as326159',\n",
              " 'olmaz.',\n",
              " 'jerusalem393',\n",
              " 'sbl571017',\n",
              " 'gaymaids1',\n",
              " 'hpqkoxsn5',\n",
              " 'prisonbreak1',\n",
              " 'olmaz.',\n",
              " 'AVYq1lDE4MgAZfNt',\n",
              " 'jerusalem393',\n",
              " 'kino3434',\n",
              " 'kjkjkj1',\n",
              " 'klara-tershina3H',\n",
              " 'jytifok873',\n",
              " 'g067057895',\n",
              " '612035180tok',\n",
              " 'yqugu927',\n",
              " 'schalke04',\n",
              " 'd04m11',\n",
              " 'pHyqueDIyNQ8vmhb',\n",
              " 'prisonbreak1',\n",
              " 'u6c8vhow',\n",
              " 'as326159',\n",
              " 'faranumar91',\n",
              " 'ok>bdk',\n",
              " 'hpqkoxsn5',\n",
              " 'universe2908',\n",
              " 'matiofox08',\n",
              " 'intel1',\n",
              " 'openup12',\n",
              " 'bgrvl80',\n",
              " 'asgaliu11',\n",
              " 'j09000',\n",
              " 'exitos2009',\n",
              " 'exitos2009',\n",
              " 'kzde5577',\n",
              " 'olmaz.',\n",
              " 'AVYq1lDE4MgAZfNt',\n",
              " '123477889a',\n",
              " 'alimagik1',\n",
              " 'obstacle25',\n",
              " 'gdfn76',\n",
              " 'asv5o9yu',\n",
              " 'calcifer32',\n",
              " 'patri1973',\n",
              " '52558000aaa',\n",
              " 'exitos2009',\n",
              " 'kswa2mrv',\n",
              " 'kino3434',\n",
              " 'kino3434',\n",
              " 'hayhayq2',\n",
              " 'schalke04',\n",
              " 'trabajonet9',\n",
              " 'calcifer32',\n",
              " 'fahad123',\n",
              " 'kino3434',\n",
              " 'yllime123',\n",
              " 'yqugu927',\n",
              " 'fahad123',\n",
              " 'gkrqjs6',\n",
              " '2021848709.',\n",
              " 'yitbos77',\n",
              " '612035180tok',\n",
              " 'go7kew7a2po',\n",
              " 'ns2b0727',\n",
              " 'idofo673',\n",
              " 'mickael12',\n",
              " 'hpqkoxsn5',\n",
              " 'cesarmaio1',\n",
              " 'obstacle25',\n",
              " 'snolyuj04',\n",
              " 'kzde5577',\n",
              " 'jonothepoop1',\n",
              " '612035180tok',\n",
              " 'gdfn76',\n",
              " 'xyws951753',\n",
              " 'yk530mg8',\n",
              " 'xiau5ff',\n",
              " 'rntprns7',\n",
              " 'cigicigi123',\n",
              " 'jerusalem393',\n",
              " 'schalke04',\n",
              " 'moken7',\n",
              " 'matiofox08',\n",
              " 'mickael12',\n",
              " 'kswa2mrv',\n",
              " '929865yt',\n",
              " 'asv5o9yu',\n",
              " 'hpqkoxsn5',\n",
              " 'pato221182',\n",
              " '3vszncp4',\n",
              " '20Dgw7TQ0OQVdly7',\n",
              " 'fnmsdha476',\n",
              " 'aquhih220',\n",
              " '3vszncp4',\n",
              " 'yitbos77',\n",
              " '123maxbala',\n",
              " 'universe2908',\n",
              " 'tamanagung6',\n",
              " 'RPFUOUDQwMwVW0AS',\n",
              " '3y6iwef2g6',\n",
              " 'bgrvl80',\n",
              " 'vehat387',\n",
              " 'ns2b0727',\n",
              " 'jytifok873',\n",
              " 'gdfn76',\n",
              " 'xyws951753',\n",
              " 'mazdarx7',\n",
              " 'sknq7m0',\n",
              " 'as326159',\n",
              " '2010server',\n",
              " 'jalingo1',\n",
              " 'www32223222',\n",
              " 'mazdarx7',\n",
              " 'p@sslng2diword',\n",
              " 'mmm23mm',\n",
              " 'xiau5ff',\n",
              " 'poseidon2011',\n",
              " 'ga98SIzk0NwhiZaE',\n",
              " 'p@sslng2diword',\n",
              " 'v1118714',\n",
              " 'omakiva153',\n",
              " '929865yt',\n",
              " 'khmer100.03278&?><Mnb',\n",
              " '123477889a',\n",
              " 'w9209640',\n",
              " 'openup12',\n",
              " 'pato221182',\n",
              " 'lsdlsd1',\n",
              " '10Erjrlmebup0n',\n",
              " 'fahad123',\n",
              " 'asgaliu11',\n",
              " 'jUV4dSDQwNwPpA36',\n",
              " 'exitos2009',\n",
              " 'RqsuUsDYxNgr8T40',\n",
              " 'potatobus150',\n",
              " 'sasuke4',\n",
              " 'gaymaids1',\n",
              " 'zoobike04',\n",
              " 'njmania114',\n",
              " '52558000aaa',\n",
              " 'trabajonet9',\n",
              " 'sasuke4',\n",
              " 'jerusalem393',\n",
              " 'elyass15@ajilent-ci',\n",
              " 'fnmsdha476',\n",
              " 'yqugu927',\n",
              " 'trabajonet9',\n",
              " 'yqugu927',\n",
              " '20Dgw7TQ0OQVdly7',\n",
              " 'mickael12',\n",
              " 'farrukhcse12',\n",
              " 'alchimie79',\n",
              " 'cigicigi123',\n",
              " 'oekojWyH120063',\n",
              " '3y6iwef2g6',\n",
              " 'www32223222',\n",
              " 'universe2908',\n",
              " 'TyWM72UNEex8Q8Y',\n",
              " 'yitbos77',\n",
              " '1972vishara',\n",
              " 'yqugu927',\n",
              " '6975038lp',\n",
              " 'pHyqueDIyNQ8vmhb',\n",
              " 'yqugu927',\n",
              " 'sasuke4',\n",
              " 'sknq7m0',\n",
              " '10Erjrlmebup0n',\n",
              " 'finisterra1',\n",
              " 'sknq7m0',\n",
              " '147963asd',\n",
              " '838188linh',\n",
              " 'asv5o9yu',\n",
              " 'poseidon2011',\n",
              " 'planes123',\n",
              " 'nK0yKXTU0NQHZE2e',\n",
              " 'v10rica',\n",
              " 'v1118714',\n",
              " 'ass359',\n",
              " 'megzy123',\n",
              " 'il0vey0u',\n",
              " 'mustang337',\n",
              " 'IjUcOtYqAwel725',\n",
              " 'sasuke4',\n",
              " 'icap12',\n",
              " 'tin030201',\n",
              " 'sbl571017',\n",
              " 'yut0838828185',\n",
              " 'jerusalem393',\n",
              " '7mV0pKTA3MgHy8Jv',\n",
              " 'bugatti01',\n",
              " 'ga98SIzk0NwhiZaE',\n",
              " 'go7kew7a2po',\n",
              " 'megzy123',\n",
              " 'yk530mg8',\n",
              " 'znbl5tj1',\n",
              " 'bozoxik602',\n",
              " 'kjkjkj1',\n",
              " 'il0vey0u',\n",
              " 'ok>bdk',\n",
              " 'ebacuro434',\n",
              " 'khmer100.03278&?><Mnb',\n",
              " 'TyWM72UNEex8Q8Y',\n",
              " 'kikeq102',\n",
              " 'k9b8cz6aj2',\n",
              " 'kino3434',\n",
              " 'wibi182d',\n",
              " '123maxbala',\n",
              " 'kry1z9',\n",
              " 'enziitoo1234',\n",
              " 'peluchin4',\n",
              " 'owote852',\n",
              " 'klara-tershina3H',\n",
              " 'yut0838828185',\n",
              " 'jytifok873',\n",
              " 'icap12',\n",
              " 'mazdarx7',\n",
              " 'kuntz80',\n",
              " '147963asd',\n",
              " 'pHyqueDIyNQ8vmhb',\n",
              " '1972vishara',\n",
              " '612035180tok',\n",
              " 'mustang337',\n",
              " 'a0972986650',\n",
              " 'bellsuki1',\n",
              " 'fahad123',\n",
              " 'universe2908',\n",
              " 'njmania114',\n",
              " 'u6c8vhow',\n",
              " 'czuodhj972',\n",
              " 'elonex24',\n",
              " 'ubojig109',\n",
              " 'puegwajy416',\n",
              " '4fqa52vecr',\n",
              " 'sydney213',\n",
              " 'cockw0mble',\n",
              " '5gzj5uf',\n",
              " '6yy6yy',\n",
              " '838188linh',\n",
              " 'juliel009',\n",
              " 'j09000',\n",
              " '147963asd',\n",
              " 'jerusalem393',\n",
              " 'oekojWyH120063',\n",
              " '123net123',\n",
              " 'farrukhcse12',\n",
              " '20010509wang',\n",
              " 'kVczcljg4OA25Aeb',\n",
              " 'hpqkoxsn5',\n",
              " 'kinga22',\n",
              " 'caramelo9',\n",
              " 'mickael12',\n",
              " 'abizar08',\n",
              " 'sknq7m0',\n",
              " 'w9209640',\n",
              " '6tequila6',\n",
              " 'kzde5577',\n",
              " 'josue12',\n",
              " 'ejeko677',\n",
              " 'polo2014',\n",
              " 'hisnipes1',\n",
              " 'v1118714',\n",
              " 'hayhayq2',\n",
              " 'vehat387',\n",
              " 'asv5o9yu',\n",
              " 'mmm23mm',\n",
              " 'kP82iqDMxNgBMxBP',\n",
              " '0112358mayin0',\n",
              " '612035180tok',\n",
              " '123maxbala',\n",
              " 'universe2908',\n",
              " 'x8512514',\n",
              " 'patty94',\n",
              " 'czuodhj972',\n",
              " '6yy6yy',\n",
              " 'njmania114',\n",
              " 'balamuc123',\n",
              " 'mathilde54550',\n",
              " 'bellsuki1',\n",
              " 'gandhi8513',\n",
              " 'pablo321159',\n",
              " 'xlxlxl777',\n",
              " 'omakiva153',\n",
              " 'barra23',\n",
              " 'asv5o9yu',\n",
              " 'patty94',\n",
              " 'mickael12',\n",
              " 'sebo82',\n",
              " 'change201',\n",
              " 'owote852',\n",
              " 'puegwajy416',\n",
              " '1234159hero',\n",
              " 'hayhayq2',\n",
              " 'schalke04',\n",
              " 'mohantra1',\n",
              " 'isqizkg1',\n",
              " '838188linh',\n",
              " 'wibi182d',\n",
              " 'ldteugao6',\n",
              " 'planes123',\n",
              " 'nicolas05',\n",
              " 'han19660120',\n",
              " 'ycqtgdso3',\n",
              " 'kyxvufl37',\n",
              " 'cigicigi123',\n",
              " 'shotiko18',\n",
              " 'kinga22',\n",
              " 'yu4cmn',\n",
              " 'XqMB7vDMzOQocAFV',\n",
              " 'z888888',\n",
              " 'mario489800',\n",
              " 'gtlek',\n",
              " 'okn9zp9o',\n",
              " 'openup12',\n",
              " 'snolyuj04',\n",
              " 'g3rappa',\n",
              " 'khmer100.03278&?><Mnb',\n",
              " 'cUFUSYKIPuGo024',\n",
              " '7mV0pKTA3MgHy8Jv',\n",
              " 'DTUQG5jU5MwmR1L9',\n",
              " '838188linh',\n",
              " 'puegwajy416',\n",
              " 'a03242241431a',\n",
              " 'webstudio8',\n",
              " 'u03kz6ez',\n",
              " 'woon12',\n",
              " 'mohantra1',\n",
              " 'sbaUsoTA1OAzuevI',\n",
              " '838188linh',\n",
              " 'yut0838828185',\n",
              " 'nello11',\n",
              " 'webstudio8',\n",
              " 'Oshity07142014',\n",
              " 'universe2908',\n",
              " 'pHyqueDIyNQ8vmhb',\n",
              " 'jbtcnd6',\n",
              " 'jr88072635',\n",
              " 'enziitoo1234',\n",
              " '20010509wang',\n",
              " 'a110804032',\n",
              " 'kyodai666',\n",
              " 'finisterra1',\n",
              " 'tim80327',\n",
              " 'wuzyci421',\n",
              " 'warriors08',\n",
              " 'mickael12',\n",
              " 'senghong2009',\n",
              " 'exitos2009',\n",
              " 'ubojig109',\n",
              " '631ihOZogELoVap',\n",
              " 'y0unus',\n",
              " 'roxana1993',\n",
              " '1ngaymuadong',\n",
              " 'lrhxmevb620',\n",
              " 'pekai2004',\n",
              " 'megzy123',\n",
              " 'u6c8vhow',\n",
              " 'aosmaxd0',\n",
              " 'nokia6020',\n",
              " 'prisonbreak1',\n",
              " 'xiau5ff',\n",
              " 'den019520',\n",
              " '20010509wang',\n",
              " 'd4xQ3LjUwMQFVCYQ',\n",
              " 'owote852',\n",
              " '612035180tok',\n",
              " 'u6c8vhow',\n",
              " 'rLLh4WDQ2OAWbDO5',\n",
              " 'gdfn76',\n",
              " 'matiz4533',\n",
              " 'edcmki90',\n",
              " 'klara-tershina3H',\n",
              " '7942vikas',\n",
              " 'ryjypes139',\n",
              " 'UF1Z2WjE5Mg26R1K',\n",
              " 't8IkFRDIxMAFV2JW',\n",
              " 'juany57',\n",
              " 'nokia6020',\n",
              " 'frhnsvelhfr1',\n",
              " 'wo9aiwangyan',\n",
              " 'visi7k1yr',\n",
              " 'czuodhj972',\n",
              " 'teemteem97',\n",
              " '159951josh',\n",
              " 'sebo82',\n",
              " 'pHyqueDIyNQ8vmhb',\n",
              " 'kjkjkj1',\n",
              " 'pugceya468',\n",
              " 's4m2dx9e6',\n",
              " 'obstacle25',\n",
              " '2GnTStTE4Mw4MTwv',\n",
              " '1katertje',\n",
              " 'teste10',\n",
              " 'a0972986650',\n",
              " 'sandra0547',\n",
              " 'UF1Z2WjE5Mg26R1K',\n",
              " 'autan88',\n",
              " 'marita1',\n",
              " 'hodygid757',\n",
              " 'owote852',\n",
              " 'calcifer32',\n",
              " '147963asd',\n",
              " 'tim80327',\n",
              " 'megzy123',\n",
              " 'potatobus150',\n",
              " 'josue12',\n",
              " 'oatcake87',\n",
              " 'fahad123',\n",
              " 'marita1',\n",
              " 'ts34a3fodh3i',\n",
              " 'khaled12',\n",
              " 'elyass15@ajilent-ci',\n",
              " 'hayhayq2',\n",
              " 'kjkjkj1',\n",
              " 'lofebop480',\n",
              " 'fahad123',\n",
              " 'adminmao888',\n",
              " 'yllime123',\n",
              " 'balamuc123',\n",
              " '1katertje',\n",
              " 'gerardway1',\n",
              " 'kenneth610',\n",
              " 'byeypb2',\n",
              " 'aquhih220',\n",
              " 'colorado27',\n",
              " 'elonex24',\n",
              " 'a03242241431a',\n",
              " 'aquhih220',\n",
              " '12345yolanda',\n",
              " 'sofietou74',\n",
              " 'QWERTY0011',\n",
              " 'matiofox08',\n",
              " 'a0972986650',\n",
              " 'yllime123',\n",
              " 'paladinas1',\n",
              " 'q0pv0fk',\n",
              " 'khurram_',\n",
              " '3vszncp4',\n",
              " 'olmaz.',\n",
              " 'rrilni1747',\n",
              " 'ejeko677',\n",
              " 'fk9qi21m',\n",
              " 'patty94',\n",
              " 's9830950044',\n",
              " '1katertje',\n",
              " 'gdfn76',\n",
              " 'fbjurcd961',\n",
              " 'mega0109',\n",
              " 'osimeytju12',\n",
              " 'qefoquf1uf',\n",
              " 'aio42fv',\n",
              " 'qwekl12',\n",
              " 'memjan123',\n",
              " 'pugceya468',\n",
              " 'pikey231',\n",
              " 'WUt9IZzE0OQ7PkNE',\n",
              " 'vuqADUSatAJO800',\n",
              " 'kikeq102',\n",
              " 'gozv3e5',\n",
              " 'studenko123',\n",
              " 'upomel180',\n",
              " 'deryxi704',\n",
              " '6tequila6',\n",
              " 'asgaliu11',\n",
              " 'elonex24',\n",
              " 'aosmaxd0',\n",
              " 'wo9aiwangyan',\n",
              " 'tukaxo486',\n",
              " 'zedika521',\n",
              " 'cockw0mble',\n",
              " '64whbrb351',\n",
              " 'xtswdypgh936',\n",
              " 'bencike7',\n",
              " 'just1n0k',\n",
              " 'hola45',\n",
              " 'witek1709',\n",
              " 'denise18',\n",
              " 'klara-tershina3H',\n",
              " 'desmondkok21',\n",
              " 'wxS2ztDk4OATjBfI',\n",
              " 'arigato3',\n",
              " 'juliel009',\n",
              " 'ajyrew547',\n",
              " 'clave2013',\n",
              " 'denise18',\n",
              " 'mohantra1',\n",
              " '0VKWoODkwOAc0pZK',\n",
              " 'lamborghin1',\n",
              " 'amoadios321',\n",
              " 'sbaUsoTA1OAzuevI',\n",
              " 'princ3sa',\n",
              " 'uziwocy148',\n",
              " 'junaid5',\n",
              " '631ihOZogELoVap',\n",
              " 'paladinas1',\n",
              " 'beijing168',\n",
              " 'tukaxo486',\n",
              " '123477889a',\n",
              " 'ebogel225',\n",
              " 'yk530mg8',\n",
              " '2GnTStTE4Mw4MTwv',\n",
              " 'kVczcljg4OA25Aeb',\n",
              " 'colorado27',\n",
              " 'jEzZXUTE3MgJ4fVk',\n",
              " 'owote852',\n",
              " '2yz4ewwg',\n",
              " '33kanun03',\n",
              " '1972vishara',\n",
              " 'gpc151192',\n",
              " 'clave08',\n",
              " 'jbtcnd6',\n",
              " 'jalal123456',\n",
              " 'patri1973',\n",
              " 'popo0404',\n",
              " 'yhwbzci130',\n",
              " '1justogax',\n",
              " 'kzde5577',\n",
              " 'yk530mg8',\n",
              " 'virush1n1',\n",
              " 'faisal213',\n",
              " 'xp;ysmybst',\n",
              " 'khmer100.03278&?><Mnb',\n",
              " 'gutergut599',\n",
              " 'lqksuym982',\n",
              " 'pato221182',\n",
              " '01161590m',\n",
              " 'whosdabest1',\n",
              " 'klara-tershina3H',\n",
              " '101010hadis',\n",
              " '3y6iwef2g6',\n",
              " 'grazi0201',\n",
              " 'oekojWyH120063',\n",
              " 'taccy12',\n",
              " 'iacool99',\n",
              " 'DTUQG5jU5MwmR1L9',\n",
              " 'onurb1994',\n",
              " 'qn5xpg3k00',\n",
              " '7942vikas',\n",
              " 'killer5',\n",
              " 'clyioqzgw42',\n",
              " 'jalal123456',\n",
              " 'e667794c1d',\n",
              " 'woaini0',\n",
              " 'afavin964',\n",
              " 'papasito1991',\n",
              " 'yy4129',\n",
              " 'cUFUSYKIPuGo024',\n",
              " 'p2share',\n",
              " 'hlQ8gDTExMQWkeda',\n",
              " 'koabcswzt3',\n",
              " 'PEPITO00',\n",
              " 'AS0130066',\n",
              " 'visi7k1yr',\n",
              " 'cyborged69',\n",
              " 'WUt9IZzE0OQ7PkNE',\n",
              " 'z3ro1sm',\n",
              " 'pikey231',\n",
              " 'aquhih220',\n",
              " 'avanakit72',\n",
              " 'jr88072635',\n",
              " 'ns2b0727',\n",
              " 'ahibyg892',\n",
              " 'pugceya468',\n",
              " 'cifinew817',\n",
              " 'pastorius88',\n",
              " 'ejeko677',\n",
              " 'kino3434',\n",
              " 'abizar08',\n",
              " 'cerner09',\n",
              " 'Herzberg@ABBOTT33656888commerce',\n",
              " 'oscar69',\n",
              " 'lofebop480',\n",
              " 'tin030201',\n",
              " 'aio42fv',\n",
              " 'p@sslng2diword',\n",
              " 'lrhxmevb620',\n",
              " 'teemteem97',\n",
              " 'umetic21',\n",
              " 'natalia12',\n",
              " 'adminmao888',\n",
              " 'rLLh4WDQ2OAWbDO5',\n",
              " 'owote852',\n",
              " 'enziitoo1234',\n",
              " 'ebogel225',\n",
              " 'w9209640',\n",
              " '631ihOZogELoVap',\n",
              " 'wibi182d',\n",
              " 'franczuk33',\n",
              " 'caramelo9',\n",
              " 'tin030201',\n",
              " 'XqMB7vDMzOQocAFV',\n",
              " '1qa2ws3ed4rf',\n",
              " 'sono11',\n",
              " 'sarahi1628',\n",
              " 'hosna1368',\n",
              " 'gvczfel801',\n",
              " 'password0880',\n",
              " 'angelinajol52',\n",
              " 'oscar2002',\n",
              " 'jesmond26',\n",
              " 'wearehis7',\n",
              " 'uqilyni846',\n",
              " 'rsuvxz08b',\n",
              " 'moimoimoi9',\n",
              " 'snolyuj04',\n",
              " 'afavin964',\n",
              " 'holamundo1',\n",
              " 'RPFUOUDQwMwVW0AS',\n",
              " 'QWERTY0011',\n",
              " 'woogee04',\n",
              " 'enziitoo1234',\n",
              " 'gtlek',\n",
              " 'puegwajy416',\n",
              " 'planes123',\n",
              " 'walterivl13',\n",
              " 'xanyrum650',\n",
              " 'XqMB7vDMzOQocAFV',\n",
              " 'kayal123',\n",
              " '2010server',\n",
              " 'wo9aiwangyan',\n",
              " 'zjl0kx03',\n",
              " 'itengf12',\n",
              " 'YADHJIGSAWS11',\n",
              " '7l1hu1xa',\n",
              " 'gdfn76',\n",
              " 'exusop649',\n",
              " 'damyvo114',\n",
              " 'damyvo114',\n",
              " '4fqa52vecr',\n",
              " 'den019520',\n",
              " 'bc5e4vca',\n",
              " 'patata91',\n",
              " '2021848709.',\n",
              " 'jalal123456',\n",
              " 'lollies1989',\n",
              " '4165000yakub',\n",
              " 'q0pv0fk',\n",
              " 'tahseen75',\n",
              " 'rqmswof2llb0',\n",
              " 'killer5',\n",
              " 'Iamthelegend1!',\n",
              " 'teemteem97',\n",
              " 'alimagik1',\n",
              " '1katertje',\n",
              " 'tia150979',\n",
              " 'medebizu3',\n",
              " 'X34y2CzY5MACs6kp',\n",
              " '2010server',\n",
              " 'yut0838828185',\n",
              " 'medebizu3',\n",
              " 'deryxi704',\n",
              " 'angelinajol52',\n",
              " 'pugceya468',\n",
              " 'a03242241431a',\n",
              " 'qefoquf1uf',\n",
              " '20Dgw7TQ0OQVdly7',\n",
              " 'lqksuym982',\n",
              " 'cristiano7',\n",
              " 'portales1',\n",
              " 'demon10',\n",
              " 'keithar1',\n",
              " 'sw10d014',\n",
              " 'matiofox08',\n",
              " 'eVl19ADIxNAmU09N',\n",
              " 'hisnipes1',\n",
              " 'aslanmarco007',\n",
              " 'yzxwvgbdu503',\n",
              " 'padhila30',\n",
              " 'folashade1',\n",
              " 'ginger972',\n",
              " 'kayal123',\n",
              " 'omakiva153',\n",
              " 'diarie1',\n",
              " 'sbl571017',\n",
              " 'mazdarx7',\n",
              " 'mario489800',\n",
              " 'a2486315',\n",
              " 'urban1',\n",
              " '6tequila6',\n",
              " 'alodise603',\n",
              " '52756652a',\n",
              " 'clyioqzgw42',\n",
              " 'dK4dWOjM1OAPeisw',\n",
              " 'pr0f1s10',\n",
              " 'MT766631',\n",
              " 'nhfdff2512',\n",
              " 'faqih82',\n",
              " 'fr8OClDY1MAdEhHa',\n",
              " 'ym2130104',\n",
              " 'upyjlneg80',\n",
              " 'amoadios321',\n",
              " 'bencike7',\n",
              " '2021848709.',\n",
              " 'zedika521',\n",
              " 'jytifok873',\n",
              " 'kino3434',\n",
              " 'sd6x9s3s',\n",
              " 'taulant123',\n",
              " 'ycqtgdso3',\n",
              " 'vehat387',\n",
              " 'faisal213',\n",
              " 'kuntz80',\n",
              " 'folashade1',\n",
              " 'tim80327',\n",
              " 'angelinajol52',\n",
              " 'purpledog1992',\n",
              " '090mca090',\n",
              " 'diegote10',\n",
              " 'luiskeko31',\n",
              " '19821010a',\n",
              " 'tia150979',\n",
              " 'yut0838828185',\n",
              " 'a0972986650',\n",
              " 'mathilde54550',\n",
              " '5874813o',\n",
              " 'angelinajol52',\n",
              " 'bgrvl80',\n",
              " 'wxS2ztDk4OATjBfI',\n",
              " 'stalucia66',\n",
              " 'planes123',\n",
              " 'pilatyj280',\n",
              " 'ppnyadam09',\n",
              " 'w1ll1ams',\n",
              " 'a2486315',\n",
              " 'qefoquf1uf',\n",
              " 'sbnivetha123',\n",
              " 'yitbos77',\n",
              " 'ginger972',\n",
              " 'sun4shine76',\n",
              " 'finisterra1',\n",
              " '3y6iwef2g6',\n",
              " '030005qw',\n",
              " 'gandhi8513',\n",
              " 'patri1973',\n",
              " 'kP82iqDMxNgBMxBP',\n",
              " 'byeypb2',\n",
              " 's0xwym7h',\n",
              " 'pardalgg5',\n",
              " 'xanyrum650',\n",
              " 'cyborged69',\n",
              " 'idofo673',\n",
              " 'clumsy0619',\n",
              " 'jr88072635',\n",
              " 'sebo82',\n",
              " 'plumilla1',\n",
              " 'sun4shine76',\n",
              " 'owary200',\n",
              " 'macias2010',\n",
              " 'm4r4hne',\n",
              " 'Ju6BIMTU0MwYXtL4',\n",
              " 'plumilla1',\n",
              " 'taccy12',\n",
              " '1justogax',\n",
              " 'berserk18',\n",
              " 'viri13',\n",
              " 'paulino123',\n",
              " 'ilonu497',\n",
              " 'cribrot1200',\n",
              " '2652033abc',\n",
              " 'xtswdypgh936',\n",
              " 'iL1BEmTUyMg8YYbn',\n",
              " 'tuto0378',\n",
              " '00J46LTAxMgME7C4',\n",
              " 'bellsuki1',\n",
              " 'g067057895',\n",
              " 'p2share',\n",
              " 'jorge1489',\n",
              " 'yzxwvgbdu503',\n",
              " 'oioo9og',\n",
              " 'tucagu356',\n",
              " 'deivid1991',\n",
              " 'hodygid757',\n",
              " 'zeitgeist1',\n",
              " '1ngaymuadong',\n",
              " '2010server',\n",
              " 'd04m11',\n",
              " 'poseidon2011',\n",
              " 'jesmond26',\n",
              " 'teste10',\n",
              " 'frhnsvelhfr1',\n",
              " 'v1118714',\n",
              " 'yut0838828185',\n",
              " 'vocal0619',\n",
              " 'YADHJIGSAWS11',\n",
              " 'jntjmh7',\n",
              " 'atigi839',\n",
              " '763EBFC5',\n",
              " 'tollak123',\n",
              " 'rqmswof2llb0',\n",
              " 'angelinajol52',\n",
              " '5874813o',\n",
              " 'sergius1964',\n",
              " '147963asd',\n",
              " 'copyfile09',\n",
              " 'mario489800',\n",
              " 'sbl571017',\n",
              " 'ab11223344',\n",
              " 'hodaq103',\n",
              " 'jalal123456',\n",
              " 'portales1',\n",
              " 'paola1995',\n",
              " 'kate13',\n",
              " '123linux',\n",
              " 'zedika521',\n",
              " 'raykuaz32',\n",
              " 'umetic21',\n",
              " 'ryjypes139',\n",
              " 'krishna2',\n",
              " 'den019520',\n",
              " 'virush1n1',\n",
              " 'mashhood_afzal21087',\n",
              " 'v1118714',\n",
              " 'ziKYRyqewaxE717',\n",
              " 'bambink182',\n",
              " 'just1n0k',\n",
              " 'hpqkoxsn5',\n",
              " 'RPFUOUDQwMwVW0AS',\n",
              " 'viri13',\n",
              " 'ezekiel720',\n",
              " 'ppnyadam09',\n",
              " 'hide68',\n",
              " 'la3na4you',\n",
              " 'z7zbgIDkzMQeHUd9',\n",
              " 'yilmaz070',\n",
              " '5gzj5uf',\n",
              " 'juanito00',\n",
              " 'alhama11408',\n",
              " '4165000yakub',\n",
              " 'lofebop480',\n",
              " 'kaiden12',\n",
              " 'uoaef06gfqeb',\n",
              " 'jl440033',\n",
              " 'control9',\n",
              " '4osxw4r',\n",
              " 'bjolgvhs69',\n",
              " 'mashhood_afzal21087',\n",
              " 'ryjypes139',\n",
              " 'p2share',\n",
              " 'QWERTY0011',\n",
              " 'r0cker',\n",
              " 'adfbwrnt4',\n",
              " 'ahibyg892',\n",
              " 'ts02521712',\n",
              " 'fudijep286',\n",
              " 'wo9aiwangyan',\n",
              " 'kjkjkj1',\n",
              " 'junaid5',\n",
              " 'afan520307',\n",
              " 'ixehawojEPe418',\n",
              " 'enziitoo1234',\n",
              " 'raykuaz32',\n",
              " 'maulana79',\n",
              " 'caramelo9',\n",
              " 'aliki123',\n",
              " 'byeypb2',\n",
              " 'yhigkenj5',\n",
              " 'pxjwmeqyn5',\n",
              " 'ejeko677',\n",
              " 'vehat387',\n",
              " 'seeyouagain1',\n",
              " 'jeckericek24',\n",
              " 'patri1973',\n",
              " 'ajyrew547',\n",
              " 'patty94',\n",
              " '1234159hero',\n",
              " 'vmdo3i',\n",
              " 'yami12',\n",
              " '123nicole',\n",
              " 'ci0n3exor',\n",
              " 'kukimuki123',\n",
              " '6yy6yy',\n",
              " 'balamuc123',\n",
              " 'rntprns7',\n",
              " '5874813o',\n",
              " 'zcsntdmhe098',\n",
              " 'mazdarx7',\n",
              " 'biologie1998',\n",
              " 'deryxi704',\n",
              " '5gzj5uf',\n",
              " 'Iamthelegend1!',\n",
              " 'jannia5',\n",
              " '2GnTStTE4Mw4MTwv',\n",
              " 'meena25',\n",
              " '241189dumai',\n",
              " 'islamasma12',\n",
              " 'XqMB7vDMzOQocAFV',\n",
              " 'LypOJUfuLYrO477',\n",
              " 'rLLh4WDQ2OAWbDO5',\n",
              " 'xx18121982',\n",
              " 'macias2010',\n",
              " 'uxyloga692',\n",
              " 'AVYq1lDE4MgAZfNt',\n",
              " '52756652a',\n",
              " 'cc71797805',\n",
              " 'carla99',\n",
              " 'jsm159167',\n",
              " 'ahibyg892',\n",
              " 'ryjypes139',\n",
              " 'maulana79',\n",
              " 'juliel009',\n",
              " 'oscar2002',\n",
              " 'ninja420',\n",
              " 'djda1203zj',\n",
              " 'medebizu3',\n",
              " '19821010a',\n",
              " 'clumsy0619',\n",
              " 'sbl571017',\n",
              " 'adfbwrnt4',\n",
              " '225arysorIgEKa',\n",
              " 'kitty555',\n",
              " 'meena25',\n",
              " 'farrukhcse12',\n",
              " 'rqmswof2llb0',\n",
              " 'acgyj188',\n",
              " 'PSVkampioen2013',\n",
              " 'ydd45ee',\n",
              " '3f5xd41l0ik7',\n",
              " 'hpw1907v',\n",
              " 'robot425',\n",
              " 'sucupi516',\n",
              " 'graciela2',\n",
              " 'zu20081965',\n",
              " 'zuryvu986',\n",
              " 'kate13',\n",
              " 'iubat09',\n",
              " 'webhost08',\n",
              " 'mndzbqkv651',\n",
              " 'ewvjbilan4',\n",
              " 'numero2',\n",
              " 'kunyukbabi69',\n",
              " 'X9WVojjE4MgVAIiR',\n",
              " 'Herzberg@ABBOTT33656888commerce',\n",
              " 'www32223222',\n",
              " 'la3na4you',\n",
              " 'bencike7',\n",
              " 'robot425',\n",
              " 'v8porwar3',\n",
              " 'v8porwar3',\n",
              " 'kb6188',\n",
              " 'pardalgg5',\n",
              " 'clyioqzgw42',\n",
              " 'zjl0kx03',\n",
              " 'AS0130066',\n",
              " 'servbot88',\n",
              " '10Erjrlmebup0n',\n",
              " 'njmania114',\n",
              " 'elonex24',\n",
              " 'ilunia20',\n",
              " ...]"
            ]
          },
          "metadata": {
            "tags": []
          },
          "execution_count": 14
        }
      ]
    },
    {
      "cell_type": "markdown",
      "metadata": {
        "id": "iJJ8dTluC0NG"
      },
      "source": [
        "Apply TF-IDF on Data"
      ]
    },
    {
      "cell_type": "code",
      "metadata": {
        "id": "SJQH4IQN7tBu"
      },
      "source": [
        "def word_divide_char(inputs):\n",
        "  character = []\n",
        "  for i in inputs :\n",
        "    character.append(i)\n",
        "  return character"
      ],
      "execution_count": 15,
      "outputs": []
    },
    {
      "cell_type": "code",
      "metadata": {
        "colab": {
          "base_uri": "https://localhost:8080/"
        },
        "id": "dYO0JyVnDkYC",
        "outputId": "e5f20196-4643-423a-cf6a-3992d4357180"
      },
      "source": [
        "word_divide_char('kzde5577')"
      ],
      "execution_count": 16,
      "outputs": [
        {
          "output_type": "execute_result",
          "data": {
            "text/plain": [
              "['k', 'z', 'd', 'e', '5', '5', '7', '7']"
            ]
          },
          "metadata": {
            "tags": []
          },
          "execution_count": 16
        }
      ]
    },
    {
      "cell_type": "code",
      "metadata": {
        "id": "ataSfKI-D9MA"
      },
      "source": [
        "from sklearn.feature_extraction.text import TfidfVectorizer"
      ],
      "execution_count": 17,
      "outputs": []
    },
    {
      "cell_type": "code",
      "metadata": {
        "id": "O7Q5zpmREW4X"
      },
      "source": [
        "vectorizer = TfidfVectorizer(tokenizer=word_divide_char)"
      ],
      "execution_count": 18,
      "outputs": []
    },
    {
      "cell_type": "code",
      "metadata": {
        "id": "E2QUGgtdE0m2"
      },
      "source": [
        "X = vectorizer.fit_transform(x)"
      ],
      "execution_count": 19,
      "outputs": []
    },
    {
      "cell_type": "code",
      "metadata": {
        "colab": {
          "base_uri": "https://localhost:8080/"
        },
        "id": "uCpMUgAOE-GX",
        "outputId": "433cdaaa-7dc8-470c-f9b3-ddebb249b1fc"
      },
      "source": [
        "X.shape"
      ],
      "execution_count": 20,
      "outputs": [
        {
          "output_type": "execute_result",
          "data": {
            "text/plain": [
              "(669639, 129)"
            ]
          },
          "metadata": {
            "tags": []
          },
          "execution_count": 20
        }
      ]
    },
    {
      "cell_type": "code",
      "metadata": {
        "colab": {
          "base_uri": "https://localhost:8080/"
        },
        "id": "4AfWzkXNFUqh",
        "outputId": "2fd8834a-efdd-43b3-827d-28a68f644f6f"
      },
      "source": [
        "vectorizer.get_feature_names()"
      ],
      "execution_count": 21,
      "outputs": [
        {
          "output_type": "execute_result",
          "data": {
            "text/plain": [
              "['\\x02',\n",
              " '\\x05',\n",
              " '\\x06',\n",
              " '\\x08',\n",
              " '\\x0f',\n",
              " '\\x10',\n",
              " '\\x13',\n",
              " '\\x16',\n",
              " '\\x17',\n",
              " '\\x19',\n",
              " '\\x1b',\n",
              " '\\x1c',\n",
              " '\\x1d',\n",
              " '\\x1e',\n",
              " ' ',\n",
              " '!',\n",
              " '\"',\n",
              " '#',\n",
              " '$',\n",
              " '%',\n",
              " '&',\n",
              " '(',\n",
              " ')',\n",
              " '*',\n",
              " '+',\n",
              " '-',\n",
              " '.',\n",
              " '/',\n",
              " '0',\n",
              " '1',\n",
              " '2',\n",
              " '3',\n",
              " '4',\n",
              " '5',\n",
              " '6',\n",
              " '7',\n",
              " '8',\n",
              " '9',\n",
              " ';',\n",
              " '<',\n",
              " '=',\n",
              " '>',\n",
              " '?',\n",
              " '@',\n",
              " '[',\n",
              " '\\\\',\n",
              " ']',\n",
              " '^',\n",
              " '_',\n",
              " '`',\n",
              " 'a',\n",
              " 'b',\n",
              " 'c',\n",
              " 'd',\n",
              " 'e',\n",
              " 'f',\n",
              " 'g',\n",
              " 'h',\n",
              " 'i',\n",
              " 'j',\n",
              " 'k',\n",
              " 'l',\n",
              " 'm',\n",
              " 'n',\n",
              " 'o',\n",
              " 'p',\n",
              " 'q',\n",
              " 'r',\n",
              " 's',\n",
              " 't',\n",
              " 'u',\n",
              " 'v',\n",
              " 'w',\n",
              " 'x',\n",
              " 'y',\n",
              " 'z',\n",
              " '{',\n",
              " '|',\n",
              " '}',\n",
              " '~',\n",
              " '\\xa0',\n",
              " '¡',\n",
              " '¦',\n",
              " '«',\n",
              " '°',\n",
              " '±',\n",
              " '²',\n",
              " '³',\n",
              " 'µ',\n",
              " '·',\n",
              " 'º',\n",
              " '¼',\n",
              " '¾',\n",
              " '¿',\n",
              " '×',\n",
              " 'ß',\n",
              " 'à',\n",
              " 'á',\n",
              " 'â',\n",
              " 'ã',\n",
              " 'ä',\n",
              " 'å',\n",
              " 'æ',\n",
              " 'ç',\n",
              " 'è',\n",
              " 'é',\n",
              " 'ê',\n",
              " 'î',\n",
              " 'ð',\n",
              " 'ñ',\n",
              " 'ò',\n",
              " 'ó',\n",
              " 'ô',\n",
              " 'õ',\n",
              " 'ö',\n",
              " '÷',\n",
              " 'ù',\n",
              " 'ú',\n",
              " 'û',\n",
              " 'ü',\n",
              " 'ý',\n",
              " 'þ',\n",
              " 'ÿ',\n",
              " 'œ',\n",
              " 'ƒ',\n",
              " '—',\n",
              " '‚',\n",
              " '‹',\n",
              " '›']"
            ]
          },
          "metadata": {
            "tags": []
          },
          "execution_count": 21
        }
      ]
    },
    {
      "cell_type": "code",
      "metadata": {
        "colab": {
          "base_uri": "https://localhost:8080/"
        },
        "id": "k7Zu7el7FmB6",
        "outputId": "909a43a4-40ec-48db-c6ea-d1f9c3a4c19c"
      },
      "source": [
        "first_document_vector = X[0]\n",
        "first_document_vector"
      ],
      "execution_count": 23,
      "outputs": [
        {
          "output_type": "execute_result",
          "data": {
            "text/plain": [
              "<1x129 sparse matrix of type '<class 'numpy.float64'>'\n",
              "\twith 6 stored elements in Compressed Sparse Row format>"
            ]
          },
          "metadata": {
            "tags": []
          },
          "execution_count": 23
        }
      ]
    },
    {
      "cell_type": "code",
      "metadata": {
        "colab": {
          "base_uri": "https://localhost:8080/"
        },
        "id": "pP6FwmDSF7s1",
        "outputId": "78db398d-53ad-44c4-e831-cceb031c71d9"
      },
      "source": [
        "first_document_vector.T.todense()"
      ],
      "execution_count": 24,
      "outputs": [
        {
          "output_type": "execute_result",
          "data": {
            "text/plain": [
              "matrix([[0.        ],\n",
              "        [0.        ],\n",
              "        [0.        ],\n",
              "        [0.        ],\n",
              "        [0.        ],\n",
              "        [0.        ],\n",
              "        [0.        ],\n",
              "        [0.        ],\n",
              "        [0.        ],\n",
              "        [0.        ],\n",
              "        [0.        ],\n",
              "        [0.        ],\n",
              "        [0.        ],\n",
              "        [0.        ],\n",
              "        [0.        ],\n",
              "        [0.        ],\n",
              "        [0.        ],\n",
              "        [0.        ],\n",
              "        [0.        ],\n",
              "        [0.        ],\n",
              "        [0.        ],\n",
              "        [0.        ],\n",
              "        [0.        ],\n",
              "        [0.        ],\n",
              "        [0.        ],\n",
              "        [0.        ],\n",
              "        [0.        ],\n",
              "        [0.        ],\n",
              "        [0.        ],\n",
              "        [0.        ],\n",
              "        [0.        ],\n",
              "        [0.        ],\n",
              "        [0.        ],\n",
              "        [0.56715661],\n",
              "        [0.        ],\n",
              "        [0.59089618],\n",
              "        [0.        ],\n",
              "        [0.        ],\n",
              "        [0.        ],\n",
              "        [0.        ],\n",
              "        [0.        ],\n",
              "        [0.        ],\n",
              "        [0.        ],\n",
              "        [0.        ],\n",
              "        [0.        ],\n",
              "        [0.        ],\n",
              "        [0.        ],\n",
              "        [0.        ],\n",
              "        [0.        ],\n",
              "        [0.        ],\n",
              "        [0.        ],\n",
              "        [0.        ],\n",
              "        [0.        ],\n",
              "        [0.28564142],\n",
              "        [0.22123332],\n",
              "        [0.        ],\n",
              "        [0.        ],\n",
              "        [0.        ],\n",
              "        [0.        ],\n",
              "        [0.        ],\n",
              "        [0.29201396],\n",
              "        [0.        ],\n",
              "        [0.        ],\n",
              "        [0.        ],\n",
              "        [0.        ],\n",
              "        [0.        ],\n",
              "        [0.        ],\n",
              "        [0.        ],\n",
              "        [0.        ],\n",
              "        [0.        ],\n",
              "        [0.        ],\n",
              "        [0.        ],\n",
              "        [0.        ],\n",
              "        [0.        ],\n",
              "        [0.        ],\n",
              "        [0.33670125],\n",
              "        [0.        ],\n",
              "        [0.        ],\n",
              "        [0.        ],\n",
              "        [0.        ],\n",
              "        [0.        ],\n",
              "        [0.        ],\n",
              "        [0.        ],\n",
              "        [0.        ],\n",
              "        [0.        ],\n",
              "        [0.        ],\n",
              "        [0.        ],\n",
              "        [0.        ],\n",
              "        [0.        ],\n",
              "        [0.        ],\n",
              "        [0.        ],\n",
              "        [0.        ],\n",
              "        [0.        ],\n",
              "        [0.        ],\n",
              "        [0.        ],\n",
              "        [0.        ],\n",
              "        [0.        ],\n",
              "        [0.        ],\n",
              "        [0.        ],\n",
              "        [0.        ],\n",
              "        [0.        ],\n",
              "        [0.        ],\n",
              "        [0.        ],\n",
              "        [0.        ],\n",
              "        [0.        ],\n",
              "        [0.        ],\n",
              "        [0.        ],\n",
              "        [0.        ],\n",
              "        [0.        ],\n",
              "        [0.        ],\n",
              "        [0.        ],\n",
              "        [0.        ],\n",
              "        [0.        ],\n",
              "        [0.        ],\n",
              "        [0.        ],\n",
              "        [0.        ],\n",
              "        [0.        ],\n",
              "        [0.        ],\n",
              "        [0.        ],\n",
              "        [0.        ],\n",
              "        [0.        ],\n",
              "        [0.        ],\n",
              "        [0.        ],\n",
              "        [0.        ],\n",
              "        [0.        ],\n",
              "        [0.        ],\n",
              "        [0.        ],\n",
              "        [0.        ],\n",
              "        [0.        ]])"
            ]
          },
          "metadata": {
            "tags": []
          },
          "execution_count": 24
        }
      ]
    },
    {
      "cell_type": "code",
      "metadata": {
        "id": "eYd4LvA2GWng"
      },
      "source": [
        "df = pd.DataFrame(first_document_vector.T.todense(),index=vectorizer.get_feature_names(), columns=['TF-IDF'])"
      ],
      "execution_count": 25,
      "outputs": []
    },
    {
      "cell_type": "code",
      "metadata": {
        "colab": {
          "base_uri": "https://localhost:8080/",
          "height": 419
        },
        "id": "AxtGw45zGq7I",
        "outputId": "b3226903-edf0-4120-fdc9-f998fad7c305"
      },
      "source": [
        "df.sort_values(by='TF-IDF', ascending=False)"
      ],
      "execution_count": 27,
      "outputs": [
        {
          "output_type": "execute_result",
          "data": {
            "text/html": [
              "<div>\n",
              "<style scoped>\n",
              "    .dataframe tbody tr th:only-of-type {\n",
              "        vertical-align: middle;\n",
              "    }\n",
              "\n",
              "    .dataframe tbody tr th {\n",
              "        vertical-align: top;\n",
              "    }\n",
              "\n",
              "    .dataframe thead th {\n",
              "        text-align: right;\n",
              "    }\n",
              "</style>\n",
              "<table border=\"1\" class=\"dataframe\">\n",
              "  <thead>\n",
              "    <tr style=\"text-align: right;\">\n",
              "      <th></th>\n",
              "      <th>TF-IDF</th>\n",
              "    </tr>\n",
              "  </thead>\n",
              "  <tbody>\n",
              "    <tr>\n",
              "      <th>7</th>\n",
              "      <td>0.590896</td>\n",
              "    </tr>\n",
              "    <tr>\n",
              "      <th>5</th>\n",
              "      <td>0.567157</td>\n",
              "    </tr>\n",
              "    <tr>\n",
              "      <th>z</th>\n",
              "      <td>0.336701</td>\n",
              "    </tr>\n",
              "    <tr>\n",
              "      <th>k</th>\n",
              "      <td>0.292014</td>\n",
              "    </tr>\n",
              "    <tr>\n",
              "      <th>d</th>\n",
              "      <td>0.285641</td>\n",
              "    </tr>\n",
              "    <tr>\n",
              "      <th>...</th>\n",
              "      <td>...</td>\n",
              "    </tr>\n",
              "    <tr>\n",
              "      <th>;</th>\n",
              "      <td>0.000000</td>\n",
              "    </tr>\n",
              "    <tr>\n",
              "      <th>9</th>\n",
              "      <td>0.000000</td>\n",
              "    </tr>\n",
              "    <tr>\n",
              "      <th>8</th>\n",
              "      <td>0.000000</td>\n",
              "    </tr>\n",
              "    <tr>\n",
              "      <th>6</th>\n",
              "      <td>0.000000</td>\n",
              "    </tr>\n",
              "    <tr>\n",
              "      <th>›</th>\n",
              "      <td>0.000000</td>\n",
              "    </tr>\n",
              "  </tbody>\n",
              "</table>\n",
              "<p>129 rows × 1 columns</p>\n",
              "</div>"
            ],
            "text/plain": [
              "      TF-IDF\n",
              "7   0.590896\n",
              "5   0.567157\n",
              "z   0.336701\n",
              "k   0.292014\n",
              "d   0.285641\n",
              "..       ...\n",
              ";   0.000000\n",
              "9   0.000000\n",
              "8   0.000000\n",
              "6   0.000000\n",
              "›   0.000000\n",
              "\n",
              "[129 rows x 1 columns]"
            ]
          },
          "metadata": {
            "tags": []
          },
          "execution_count": 27
        }
      ]
    },
    {
      "cell_type": "markdown",
      "metadata": {
        "id": "wD1p1HzNInBM"
      },
      "source": [
        "Apply Logistic Regression on Data"
      ]
    },
    {
      "cell_type": "code",
      "metadata": {
        "id": "seh_ZHChIikg"
      },
      "source": [
        "from sklearn.model_selection import train_test_split"
      ],
      "execution_count": 28,
      "outputs": []
    },
    {
      "cell_type": "code",
      "metadata": {
        "id": "oh67a2YhJPkQ"
      },
      "source": [
        "X_train, X_test, y_train, y_test = train_test_split(X,y,test_size=0.2)"
      ],
      "execution_count": 29,
      "outputs": []
    },
    {
      "cell_type": "code",
      "metadata": {
        "colab": {
          "base_uri": "https://localhost:8080/"
        },
        "id": "_6fVEXdmJntS",
        "outputId": "2cc4ff50-a039-454d-c22b-db852c97b40c"
      },
      "source": [
        "X_train.shape"
      ],
      "execution_count": 30,
      "outputs": [
        {
          "output_type": "execute_result",
          "data": {
            "text/plain": [
              "(535711, 129)"
            ]
          },
          "metadata": {
            "tags": []
          },
          "execution_count": 30
        }
      ]
    },
    {
      "cell_type": "code",
      "metadata": {
        "id": "l3PRRRL5J3g6"
      },
      "source": [
        "from sklearn.linear_model import LogisticRegression"
      ],
      "execution_count": 31,
      "outputs": []
    },
    {
      "cell_type": "code",
      "metadata": {
        "id": "ORlRn7v-KTRA"
      },
      "source": [
        "clf = LogisticRegression(random_state=0,multi_class='multinomial')"
      ],
      "execution_count": 36,
      "outputs": []
    },
    {
      "cell_type": "code",
      "metadata": {
        "colab": {
          "base_uri": "https://localhost:8080/"
        },
        "id": "meqRGWu2KmF1",
        "outputId": "47844174-b0e4-40a2-f69c-b10d693a156e"
      },
      "source": [
        "clf.fit(X_train,y_train)"
      ],
      "execution_count": 37,
      "outputs": [
        {
          "output_type": "execute_result",
          "data": {
            "text/plain": [
              "LogisticRegression(C=1.0, class_weight=None, dual=False, fit_intercept=True,\n",
              "                   intercept_scaling=1, l1_ratio=None, max_iter=100,\n",
              "                   multi_class='multinomial', n_jobs=None, penalty='l2',\n",
              "                   random_state=0, solver='lbfgs', tol=0.0001, verbose=0,\n",
              "                   warm_start=False)"
            ]
          },
          "metadata": {
            "tags": []
          },
          "execution_count": 37
        }
      ]
    },
    {
      "cell_type": "code",
      "metadata": {
        "colab": {
          "base_uri": "https://localhost:8080/"
        },
        "id": "kbc4HDCxNH3z",
        "outputId": "32eb8326-a2fc-46bb-b054-72669db30946"
      },
      "source": [
        "dt=np.array(['%@123abcd'])\n",
        "pred = vectorizer.transform(dt)\n",
        "clf.predict(pred)"
      ],
      "execution_count": 39,
      "outputs": [
        {
          "output_type": "execute_result",
          "data": {
            "text/plain": [
              "array([2])"
            ]
          },
          "metadata": {
            "tags": []
          },
          "execution_count": 39
        }
      ]
    },
    {
      "cell_type": "code",
      "metadata": {
        "colab": {
          "base_uri": "https://localhost:8080/"
        },
        "id": "AAFJQ941N4uT",
        "outputId": "89c6b7d5-e548-47fc-ea9f-c00dcc521f1d"
      },
      "source": [
        "y_pred = clf.predict(X_test)\n",
        "y_pred"
      ],
      "execution_count": 40,
      "outputs": [
        {
          "output_type": "execute_result",
          "data": {
            "text/plain": [
              "array([1, 2, 1, ..., 1, 1, 1])"
            ]
          },
          "metadata": {
            "tags": []
          },
          "execution_count": 40
        }
      ]
    },
    {
      "cell_type": "markdown",
      "metadata": {
        "id": "UNaj5mMIQKZA"
      },
      "source": [
        "Checking Accuracy of Model"
      ]
    },
    {
      "cell_type": "code",
      "metadata": {
        "id": "DUqKHC5xQCl6"
      },
      "source": [
        "from sklearn.metrics import confusion_matrix, accuracy_score"
      ],
      "execution_count": 41,
      "outputs": []
    },
    {
      "cell_type": "code",
      "metadata": {
        "colab": {
          "base_uri": "https://localhost:8080/"
        },
        "id": "cDA9pOdbQ_QG",
        "outputId": "25db707c-81fb-41c4-b72e-14cf6db383e3"
      },
      "source": [
        "cm = confusion_matrix(y_test,y_pred)\n",
        "print(cm)\n",
        "print(accuracy_score(y_test,y_pred))"
      ],
      "execution_count": 42,
      "outputs": [
        {
          "output_type": "stream",
          "text": [
            "[[ 5358 12652    16]\n",
            " [ 3985 92910  2555]\n",
            " [   40  5030 11382]]\n",
            "0.8187234932202377\n"
          ],
          "name": "stdout"
        }
      ]
    },
    {
      "cell_type": "code",
      "metadata": {
        "id": "F3fpzVCrR4VY"
      },
      "source": [
        "from sklearn.metrics import classification_report"
      ],
      "execution_count": 43,
      "outputs": []
    },
    {
      "cell_type": "code",
      "metadata": {
        "colab": {
          "base_uri": "https://localhost:8080/"
        },
        "id": "qYUxwGpVR-wC",
        "outputId": "c5adaf8a-298f-47f4-cbc8-b5b7627bbe5d"
      },
      "source": [
        "print(classification_report(y_test,y_pred))"
      ],
      "execution_count": 44,
      "outputs": [
        {
          "output_type": "stream",
          "text": [
            "              precision    recall  f1-score   support\n",
            "\n",
            "           0       0.57      0.30      0.39     18026\n",
            "           1       0.84      0.93      0.88     99450\n",
            "           2       0.82      0.69      0.75     16452\n",
            "\n",
            "    accuracy                           0.82    133928\n",
            "   macro avg       0.74      0.64      0.67    133928\n",
            "weighted avg       0.80      0.82      0.80    133928\n",
            "\n"
          ],
          "name": "stdout"
        }
      ]
    }
  ]
}