{
  "nbformat": 4,
  "nbformat_minor": 0,
  "metadata": {
    "colab": {
      "name": "Predict_Temperature_of_Different_Cities.ipynb",
      "provenance": [],
      "collapsed_sections": [],
      "authorship_tag": "ABX9TyMwvQ8G4EF1nxZLD7R1sJRU",
      "include_colab_link": true
    },
    "kernelspec": {
      "name": "python3",
      "display_name": "Python 3"
    },
    "language_info": {
      "name": "python"
    }
  },
  "cells": [
    {
      "cell_type": "markdown",
      "metadata": {
        "id": "view-in-github",
        "colab_type": "text"
      },
      "source": [
        "<a href=\"https://colab.research.google.com/github/crzysab/Data-Science-Real-Projects-in-Python/blob/main/Predict_Temperature_of_Different_Cities.ipynb\" target=\"_parent\"><img src=\"https://colab.research.google.com/assets/colab-badge.svg\" alt=\"Open In Colab\"/></a>"
      ]
    },
    {
      "cell_type": "markdown",
      "metadata": {
        "id": "gNqV4cdNFQV3"
      },
      "source": [
        "**Predict Temperature of Different Cities using Time Series Analysis  Algorithms**\n",
        "\n",
        "___"
      ]
    },
    {
      "cell_type": "markdown",
      "metadata": {
        "id": "EDn1EMWaJwQ2"
      },
      "source": [
        "**Analyse Whether Global Warming\n",
        "exists or not**"
      ]
    },
    {
      "cell_type": "code",
      "metadata": {
        "id": "vIvUK0y_EmUJ"
      },
      "source": [
        "import pandas as pd\n",
        "import numpy as np\n",
        "import seaborn as sns\n",
        "import plotly.express as px\n",
        "import matplotlib.pyplot as plt\n",
        "import warnings\n",
        "warnings.filterwarnings('ignore')"
      ],
      "execution_count": 2,
      "outputs": []
    },
    {
      "cell_type": "code",
      "metadata": {
        "colab": {
          "base_uri": "https://localhost:8080/"
        },
        "id": "jgHfiuDdLry7",
        "outputId": "52977413-618b-4e86-bba5-d6845899cc76"
      },
      "source": [
        "from google.colab import drive\n",
        "\n",
        "drive.mount('/content/drive')\n",
        "global_temp = pd.read_csv(\"/content/drive/My Drive/dataset/GlobalTemperatures.csv\")"
      ],
      "execution_count": 3,
      "outputs": [
        {
          "output_type": "stream",
          "name": "stdout",
          "text": [
            "Mounted at /content/drive\n"
          ]
        }
      ]
    },
    {
      "cell_type": "code",
      "metadata": {
        "colab": {
          "base_uri": "https://localhost:8080/",
          "height": 309
        },
        "id": "m4OjlGFUMahb",
        "outputId": "199a9de2-75ec-45bb-ec7b-a3d9d30e88c6"
      },
      "source": [
        "global_temp.head()"
      ],
      "execution_count": 4,
      "outputs": [
        {
          "output_type": "execute_result",
          "data": {
            "text/html": [
              "<div>\n",
              "<style scoped>\n",
              "    .dataframe tbody tr th:only-of-type {\n",
              "        vertical-align: middle;\n",
              "    }\n",
              "\n",
              "    .dataframe tbody tr th {\n",
              "        vertical-align: top;\n",
              "    }\n",
              "\n",
              "    .dataframe thead th {\n",
              "        text-align: right;\n",
              "    }\n",
              "</style>\n",
              "<table border=\"1\" class=\"dataframe\">\n",
              "  <thead>\n",
              "    <tr style=\"text-align: right;\">\n",
              "      <th></th>\n",
              "      <th>dt</th>\n",
              "      <th>LandAverageTemperature</th>\n",
              "      <th>LandAverageTemperatureUncertainty</th>\n",
              "      <th>LandMaxTemperature</th>\n",
              "      <th>LandMaxTemperatureUncertainty</th>\n",
              "      <th>LandMinTemperature</th>\n",
              "      <th>LandMinTemperatureUncertainty</th>\n",
              "      <th>LandAndOceanAverageTemperature</th>\n",
              "      <th>LandAndOceanAverageTemperatureUncertainty</th>\n",
              "    </tr>\n",
              "  </thead>\n",
              "  <tbody>\n",
              "    <tr>\n",
              "      <th>0</th>\n",
              "      <td>1750-01-01</td>\n",
              "      <td>3.034</td>\n",
              "      <td>3.574</td>\n",
              "      <td>NaN</td>\n",
              "      <td>NaN</td>\n",
              "      <td>NaN</td>\n",
              "      <td>NaN</td>\n",
              "      <td>NaN</td>\n",
              "      <td>NaN</td>\n",
              "    </tr>\n",
              "    <tr>\n",
              "      <th>1</th>\n",
              "      <td>1750-02-01</td>\n",
              "      <td>3.083</td>\n",
              "      <td>3.702</td>\n",
              "      <td>NaN</td>\n",
              "      <td>NaN</td>\n",
              "      <td>NaN</td>\n",
              "      <td>NaN</td>\n",
              "      <td>NaN</td>\n",
              "      <td>NaN</td>\n",
              "    </tr>\n",
              "    <tr>\n",
              "      <th>2</th>\n",
              "      <td>1750-03-01</td>\n",
              "      <td>5.626</td>\n",
              "      <td>3.076</td>\n",
              "      <td>NaN</td>\n",
              "      <td>NaN</td>\n",
              "      <td>NaN</td>\n",
              "      <td>NaN</td>\n",
              "      <td>NaN</td>\n",
              "      <td>NaN</td>\n",
              "    </tr>\n",
              "    <tr>\n",
              "      <th>3</th>\n",
              "      <td>1750-04-01</td>\n",
              "      <td>8.490</td>\n",
              "      <td>2.451</td>\n",
              "      <td>NaN</td>\n",
              "      <td>NaN</td>\n",
              "      <td>NaN</td>\n",
              "      <td>NaN</td>\n",
              "      <td>NaN</td>\n",
              "      <td>NaN</td>\n",
              "    </tr>\n",
              "    <tr>\n",
              "      <th>4</th>\n",
              "      <td>1750-05-01</td>\n",
              "      <td>11.573</td>\n",
              "      <td>2.072</td>\n",
              "      <td>NaN</td>\n",
              "      <td>NaN</td>\n",
              "      <td>NaN</td>\n",
              "      <td>NaN</td>\n",
              "      <td>NaN</td>\n",
              "      <td>NaN</td>\n",
              "    </tr>\n",
              "  </tbody>\n",
              "</table>\n",
              "</div>"
            ],
            "text/plain": [
              "           dt  ...  LandAndOceanAverageTemperatureUncertainty\n",
              "0  1750-01-01  ...                                        NaN\n",
              "1  1750-02-01  ...                                        NaN\n",
              "2  1750-03-01  ...                                        NaN\n",
              "3  1750-04-01  ...                                        NaN\n",
              "4  1750-05-01  ...                                        NaN\n",
              "\n",
              "[5 rows x 9 columns]"
            ]
          },
          "metadata": {},
          "execution_count": 4
        }
      ]
    },
    {
      "cell_type": "code",
      "metadata": {
        "colab": {
          "base_uri": "https://localhost:8080/",
          "height": 35
        },
        "id": "B05jL-AvNFPp",
        "outputId": "6e9ecc39-b968-4c9b-f2ba-cb4af261b3c5"
      },
      "source": [
        "#Mendapatkan data tahun\n",
        "global_temp['dt'][0].split('-')[0]"
      ],
      "execution_count": 5,
      "outputs": [
        {
          "output_type": "execute_result",
          "data": {
            "application/vnd.google.colaboratory.intrinsic+json": {
              "type": "string"
            },
            "text/plain": [
              "'1750'"
            ]
          },
          "metadata": {},
          "execution_count": 5
        }
      ]
    },
    {
      "cell_type": "code",
      "metadata": {
        "id": "GnBsNchYNQmx"
      },
      "source": [
        "def fetch_year(date):\n",
        "  return date.split('-')[0]"
      ],
      "execution_count": 6,
      "outputs": []
    },
    {
      "cell_type": "code",
      "metadata": {
        "id": "PlrEuNdINejp"
      },
      "source": [
        "#Menggunakan fungsi fetch_year ke dalam kolom dt dan membuat kolom baru\n",
        "\n",
        "global_temp['years']=global_temp['dt'].apply(fetch_year)"
      ],
      "execution_count": 7,
      "outputs": []
    },
    {
      "cell_type": "code",
      "metadata": {
        "colab": {
          "base_uri": "https://localhost:8080/",
          "height": 309
        },
        "id": "tB4CcaivNxqh",
        "outputId": "a003ba5d-ba7f-4e8b-83d5-0c6f6a6d5d98"
      },
      "source": [
        "global_temp.head()"
      ],
      "execution_count": 8,
      "outputs": [
        {
          "output_type": "execute_result",
          "data": {
            "text/html": [
              "<div>\n",
              "<style scoped>\n",
              "    .dataframe tbody tr th:only-of-type {\n",
              "        vertical-align: middle;\n",
              "    }\n",
              "\n",
              "    .dataframe tbody tr th {\n",
              "        vertical-align: top;\n",
              "    }\n",
              "\n",
              "    .dataframe thead th {\n",
              "        text-align: right;\n",
              "    }\n",
              "</style>\n",
              "<table border=\"1\" class=\"dataframe\">\n",
              "  <thead>\n",
              "    <tr style=\"text-align: right;\">\n",
              "      <th></th>\n",
              "      <th>dt</th>\n",
              "      <th>LandAverageTemperature</th>\n",
              "      <th>LandAverageTemperatureUncertainty</th>\n",
              "      <th>LandMaxTemperature</th>\n",
              "      <th>LandMaxTemperatureUncertainty</th>\n",
              "      <th>LandMinTemperature</th>\n",
              "      <th>LandMinTemperatureUncertainty</th>\n",
              "      <th>LandAndOceanAverageTemperature</th>\n",
              "      <th>LandAndOceanAverageTemperatureUncertainty</th>\n",
              "      <th>years</th>\n",
              "    </tr>\n",
              "  </thead>\n",
              "  <tbody>\n",
              "    <tr>\n",
              "      <th>0</th>\n",
              "      <td>1750-01-01</td>\n",
              "      <td>3.034</td>\n",
              "      <td>3.574</td>\n",
              "      <td>NaN</td>\n",
              "      <td>NaN</td>\n",
              "      <td>NaN</td>\n",
              "      <td>NaN</td>\n",
              "      <td>NaN</td>\n",
              "      <td>NaN</td>\n",
              "      <td>1750</td>\n",
              "    </tr>\n",
              "    <tr>\n",
              "      <th>1</th>\n",
              "      <td>1750-02-01</td>\n",
              "      <td>3.083</td>\n",
              "      <td>3.702</td>\n",
              "      <td>NaN</td>\n",
              "      <td>NaN</td>\n",
              "      <td>NaN</td>\n",
              "      <td>NaN</td>\n",
              "      <td>NaN</td>\n",
              "      <td>NaN</td>\n",
              "      <td>1750</td>\n",
              "    </tr>\n",
              "    <tr>\n",
              "      <th>2</th>\n",
              "      <td>1750-03-01</td>\n",
              "      <td>5.626</td>\n",
              "      <td>3.076</td>\n",
              "      <td>NaN</td>\n",
              "      <td>NaN</td>\n",
              "      <td>NaN</td>\n",
              "      <td>NaN</td>\n",
              "      <td>NaN</td>\n",
              "      <td>NaN</td>\n",
              "      <td>1750</td>\n",
              "    </tr>\n",
              "    <tr>\n",
              "      <th>3</th>\n",
              "      <td>1750-04-01</td>\n",
              "      <td>8.490</td>\n",
              "      <td>2.451</td>\n",
              "      <td>NaN</td>\n",
              "      <td>NaN</td>\n",
              "      <td>NaN</td>\n",
              "      <td>NaN</td>\n",
              "      <td>NaN</td>\n",
              "      <td>NaN</td>\n",
              "      <td>1750</td>\n",
              "    </tr>\n",
              "    <tr>\n",
              "      <th>4</th>\n",
              "      <td>1750-05-01</td>\n",
              "      <td>11.573</td>\n",
              "      <td>2.072</td>\n",
              "      <td>NaN</td>\n",
              "      <td>NaN</td>\n",
              "      <td>NaN</td>\n",
              "      <td>NaN</td>\n",
              "      <td>NaN</td>\n",
              "      <td>NaN</td>\n",
              "      <td>1750</td>\n",
              "    </tr>\n",
              "  </tbody>\n",
              "</table>\n",
              "</div>"
            ],
            "text/plain": [
              "           dt  ...  years\n",
              "0  1750-01-01  ...   1750\n",
              "1  1750-02-01  ...   1750\n",
              "2  1750-03-01  ...   1750\n",
              "3  1750-04-01  ...   1750\n",
              "4  1750-05-01  ...   1750\n",
              "\n",
              "[5 rows x 10 columns]"
            ]
          },
          "metadata": {},
          "execution_count": 8
        }
      ]
    },
    {
      "cell_type": "code",
      "metadata": {
        "colab": {
          "base_uri": "https://localhost:8080/",
          "height": 419
        },
        "id": "9MUfiaYxO_EA",
        "outputId": "68e375a5-c198-4bc7-ee2f-1d9f41288139"
      },
      "source": [
        "#Mendapatkan Nilai Rata-Rata Pertahun\n",
        "\n",
        "data = global_temp.groupby('years').agg({'LandAverageTemperature':'mean', 'LandAverageTemperatureUncertainty':'mean'}).reset_index()\n",
        "data"
      ],
      "execution_count": 9,
      "outputs": [
        {
          "output_type": "execute_result",
          "data": {
            "text/html": [
              "<div>\n",
              "<style scoped>\n",
              "    .dataframe tbody tr th:only-of-type {\n",
              "        vertical-align: middle;\n",
              "    }\n",
              "\n",
              "    .dataframe tbody tr th {\n",
              "        vertical-align: top;\n",
              "    }\n",
              "\n",
              "    .dataframe thead th {\n",
              "        text-align: right;\n",
              "    }\n",
              "</style>\n",
              "<table border=\"1\" class=\"dataframe\">\n",
              "  <thead>\n",
              "    <tr style=\"text-align: right;\">\n",
              "      <th></th>\n",
              "      <th>years</th>\n",
              "      <th>LandAverageTemperature</th>\n",
              "      <th>LandAverageTemperatureUncertainty</th>\n",
              "    </tr>\n",
              "  </thead>\n",
              "  <tbody>\n",
              "    <tr>\n",
              "      <th>0</th>\n",
              "      <td>1750</td>\n",
              "      <td>8.719364</td>\n",
              "      <td>2.637818</td>\n",
              "    </tr>\n",
              "    <tr>\n",
              "      <th>1</th>\n",
              "      <td>1751</td>\n",
              "      <td>7.976143</td>\n",
              "      <td>2.781143</td>\n",
              "    </tr>\n",
              "    <tr>\n",
              "      <th>2</th>\n",
              "      <td>1752</td>\n",
              "      <td>5.779833</td>\n",
              "      <td>2.977000</td>\n",
              "    </tr>\n",
              "    <tr>\n",
              "      <th>3</th>\n",
              "      <td>1753</td>\n",
              "      <td>8.388083</td>\n",
              "      <td>3.176000</td>\n",
              "    </tr>\n",
              "    <tr>\n",
              "      <th>4</th>\n",
              "      <td>1754</td>\n",
              "      <td>8.469333</td>\n",
              "      <td>3.494250</td>\n",
              "    </tr>\n",
              "    <tr>\n",
              "      <th>...</th>\n",
              "      <td>...</td>\n",
              "      <td>...</td>\n",
              "      <td>...</td>\n",
              "    </tr>\n",
              "    <tr>\n",
              "      <th>261</th>\n",
              "      <td>2011</td>\n",
              "      <td>9.516000</td>\n",
              "      <td>0.082000</td>\n",
              "    </tr>\n",
              "    <tr>\n",
              "      <th>262</th>\n",
              "      <td>2012</td>\n",
              "      <td>9.507333</td>\n",
              "      <td>0.083417</td>\n",
              "    </tr>\n",
              "    <tr>\n",
              "      <th>263</th>\n",
              "      <td>2013</td>\n",
              "      <td>9.606500</td>\n",
              "      <td>0.097667</td>\n",
              "    </tr>\n",
              "    <tr>\n",
              "      <th>264</th>\n",
              "      <td>2014</td>\n",
              "      <td>9.570667</td>\n",
              "      <td>0.090167</td>\n",
              "    </tr>\n",
              "    <tr>\n",
              "      <th>265</th>\n",
              "      <td>2015</td>\n",
              "      <td>9.831000</td>\n",
              "      <td>0.092167</td>\n",
              "    </tr>\n",
              "  </tbody>\n",
              "</table>\n",
              "<p>266 rows × 3 columns</p>\n",
              "</div>"
            ],
            "text/plain": [
              "    years  LandAverageTemperature  LandAverageTemperatureUncertainty\n",
              "0    1750                8.719364                           2.637818\n",
              "1    1751                7.976143                           2.781143\n",
              "2    1752                5.779833                           2.977000\n",
              "3    1753                8.388083                           3.176000\n",
              "4    1754                8.469333                           3.494250\n",
              "..    ...                     ...                                ...\n",
              "261  2011                9.516000                           0.082000\n",
              "262  2012                9.507333                           0.083417\n",
              "263  2013                9.606500                           0.097667\n",
              "264  2014                9.570667                           0.090167\n",
              "265  2015                9.831000                           0.092167\n",
              "\n",
              "[266 rows x 3 columns]"
            ]
          },
          "metadata": {},
          "execution_count": 9
        }
      ]
    },
    {
      "cell_type": "code",
      "metadata": {
        "colab": {
          "base_uri": "https://localhost:8080/",
          "height": 204
        },
        "id": "SgubF6InQRUd",
        "outputId": "b9e33d2c-a8dc-4e59-b778-08175743a931"
      },
      "source": [
        "data['uncertainty_top'] = data['LandAverageTemperature'] + data['LandAverageTemperatureUncertainty']\n",
        "data['uncertainty_bottom'] = data['LandAverageTemperature'] - data['LandAverageTemperatureUncertainty']\n",
        "data.head()"
      ],
      "execution_count": 10,
      "outputs": [
        {
          "output_type": "execute_result",
          "data": {
            "text/html": [
              "<div>\n",
              "<style scoped>\n",
              "    .dataframe tbody tr th:only-of-type {\n",
              "        vertical-align: middle;\n",
              "    }\n",
              "\n",
              "    .dataframe tbody tr th {\n",
              "        vertical-align: top;\n",
              "    }\n",
              "\n",
              "    .dataframe thead th {\n",
              "        text-align: right;\n",
              "    }\n",
              "</style>\n",
              "<table border=\"1\" class=\"dataframe\">\n",
              "  <thead>\n",
              "    <tr style=\"text-align: right;\">\n",
              "      <th></th>\n",
              "      <th>years</th>\n",
              "      <th>LandAverageTemperature</th>\n",
              "      <th>LandAverageTemperatureUncertainty</th>\n",
              "      <th>uncertainty_top</th>\n",
              "      <th>uncertainty_bottom</th>\n",
              "    </tr>\n",
              "  </thead>\n",
              "  <tbody>\n",
              "    <tr>\n",
              "      <th>0</th>\n",
              "      <td>1750</td>\n",
              "      <td>8.719364</td>\n",
              "      <td>2.637818</td>\n",
              "      <td>11.357182</td>\n",
              "      <td>6.081545</td>\n",
              "    </tr>\n",
              "    <tr>\n",
              "      <th>1</th>\n",
              "      <td>1751</td>\n",
              "      <td>7.976143</td>\n",
              "      <td>2.781143</td>\n",
              "      <td>10.757286</td>\n",
              "      <td>5.195000</td>\n",
              "    </tr>\n",
              "    <tr>\n",
              "      <th>2</th>\n",
              "      <td>1752</td>\n",
              "      <td>5.779833</td>\n",
              "      <td>2.977000</td>\n",
              "      <td>8.756833</td>\n",
              "      <td>2.802833</td>\n",
              "    </tr>\n",
              "    <tr>\n",
              "      <th>3</th>\n",
              "      <td>1753</td>\n",
              "      <td>8.388083</td>\n",
              "      <td>3.176000</td>\n",
              "      <td>11.564083</td>\n",
              "      <td>5.212083</td>\n",
              "    </tr>\n",
              "    <tr>\n",
              "      <th>4</th>\n",
              "      <td>1754</td>\n",
              "      <td>8.469333</td>\n",
              "      <td>3.494250</td>\n",
              "      <td>11.963583</td>\n",
              "      <td>4.975083</td>\n",
              "    </tr>\n",
              "  </tbody>\n",
              "</table>\n",
              "</div>"
            ],
            "text/plain": [
              "  years  LandAverageTemperature  ...  uncertainty_top  uncertainty_bottom\n",
              "0  1750                8.719364  ...        11.357182            6.081545\n",
              "1  1751                7.976143  ...        10.757286            5.195000\n",
              "2  1752                5.779833  ...         8.756833            2.802833\n",
              "3  1753                8.388083  ...        11.564083            5.212083\n",
              "4  1754                8.469333  ...        11.963583            4.975083\n",
              "\n",
              "[5 rows x 5 columns]"
            ]
          },
          "metadata": {},
          "execution_count": 10
        }
      ]
    },
    {
      "cell_type": "code",
      "metadata": {
        "colab": {
          "base_uri": "https://localhost:8080/"
        },
        "id": "6oO--EBYRsn0",
        "outputId": "6cdc96e8-97b6-4248-f44f-f8a35e6c0696"
      },
      "source": [
        "data.columns"
      ],
      "execution_count": 11,
      "outputs": [
        {
          "output_type": "execute_result",
          "data": {
            "text/plain": [
              "Index(['years', 'LandAverageTemperature', 'LandAverageTemperatureUncertainty',\n",
              "       'uncertainty_top', 'uncertainty_bottom'],\n",
              "      dtype='object')"
            ]
          },
          "metadata": {},
          "execution_count": 11
        }
      ]
    },
    {
      "cell_type": "code",
      "metadata": {
        "colab": {
          "base_uri": "https://localhost:8080/"
        },
        "id": "_Ol-t7yTWEKX",
        "outputId": "494b9d3a-1b4a-472a-81a6-929885edad77"
      },
      "source": [
        "pip install plotly"
      ],
      "execution_count": null,
      "outputs": [
        {
          "output_type": "stream",
          "name": "stdout",
          "text": [
            "Requirement already satisfied: plotly in /usr/local/lib/python3.7/dist-packages (4.4.1)\n",
            "Requirement already satisfied: retrying>=1.3.3 in /usr/local/lib/python3.7/dist-packages (from plotly) (1.3.3)\n",
            "Requirement already satisfied: six in /usr/local/lib/python3.7/dist-packages (from plotly) (1.15.0)\n"
          ]
        }
      ]
    },
    {
      "cell_type": "code",
      "metadata": {
        "colab": {
          "base_uri": "https://localhost:8080/",
          "height": 295
        },
        "id": "j8DYAPWTSBjL",
        "outputId": "377f486c-0483-47b5-b246-c1cd49485b4d"
      },
      "source": [
        "plt.plot(data['years'], data['LandAverageTemperature'], 'r-' )\n",
        "plt.plot(data['years'], data['uncertainty_top'], 'g-' )\n",
        "plt.plot(data['years'], data['uncertainty_bottom'], 'b-' )\n",
        "plt.title('Avg Land Temp in World')\n",
        "plt.xlabel('Years')\n",
        "plt.ylabel('Temp')\n",
        "plt.show()"
      ],
      "execution_count": 12,
      "outputs": [
        {
          "output_type": "display_data",
          "data": {
            "image/png": "[encoded data removed]",
            "text/plain": [
              "<Figure size 432x288 with 1 Axes>"
            ]
          },
          "metadata": {
            "needs_background": "light"
          }
        }
      ]
    },
    {
      "cell_type": "code",
      "metadata": {
        "colab": {
          "base_uri": "https://localhost:8080/",
          "height": 542
        },
        "id": "JmTbSZRwY5E5",
        "outputId": "7793950f-4d97-47af-c012-e2fcd4f064bd"
      },
      "source": [
        "#fig = px.line(data, x='years', y=['LandAverageTemperature', 'uncertainty_top', 'uncertainty_bottom'], title='Avg Land Temp in World')\n",
        "fig = px.line(data, x='years', y='LandAverageTemperature', title='Avg Land Temp in World')\n",
        "#fig = px.line(data, x='years', y='uncertainty_top', title='Avg Land Temp in World')\n",
        "#fig = px.line(data, x='years', y='uncertainty_bottom', title='Avg Land Temp in World')\n",
        "fig.show()"
      ],
      "execution_count": 13,
      "outputs": [
        {
          "output_type": "display_data",
          "data": {
            "text/html": [
              "<html>\n",
              "<head><meta charset=\"utf-8\" /></head>\n",
              "<body>\n",
              "    <div>\n",
              "            <script src=\"https://cdnjs.cloudflare.com/ajax/libs/mathjax/2.7.5/MathJax.js?config=TeX-AMS-MML_SVG\"></script><script type=\"text/javascript\">if (window.MathJax) {MathJax.Hub.Config({SVG: {font: \"STIX-Web\"}});}</script>\n",
              "                <script type=\"text/javascript\">window.PlotlyConfig = {MathJaxConfig: 'local'};</script>\n",
              "        <script src=\"https://cdn.plot.ly/plotly-latest.min.js\"></script>    \n",
              "            <div id=\"a7f7a619-1244-46d8-b560-514c17d3840c\" class=\"plotly-graph-div\" style=\"height:525px; width:100%;\"></div>\n",
              "            <script type=\"text/javascript\">\n",
              "                \n",
              "                    window.PLOTLYENV=window.PLOTLYENV || {};\n",
              "                    \n",
              "                if (document.getElementById(\"a7f7a619-1244-46d8-b560-514c17d3840c\")) {\n",
              "                    Plotly.newPlot(\n",
              "                        'a7f7a619-1244-46d8-b560-514c17d3840c',\n",
              "                        [{\"hoverlabel\": {\"namelength\": 0}, \"hovertemplate\": \"years=%{x}<br>LandAverageTemperature=%{y}\", \"legendgroup\": \"\", \"line\": {\"color\": \"#636efa\", \"dash\": \"solid\"}, \"mode\": \"lines\", \"name\": \"\", \"showlegend\": false, \"type\": \"scatter\", \"x\": [\"1750\", \"1751\", \"1752\", \"1753\", \"1754\", \"1755\", \"1756\", \"1757\", \"1758\", \"1759\", \"1760\", \"1761\", \"1762\", \"1763\", \"1764\", \"1765\", \"1766\", \"1767\", \"1768\", \"1769\", \"1770\", \"1771\", \"1772\", \"1773\", \"1774\", \"1775\", \"1776\", \"1777\", \"1778\", \"1779\", \"1780\", \"1781\", \"1782\", \"1783\", \"1784\", \"1785\", \"1786\", \"1787\", \"1788\", \"1789\", \"1790\", \"1791\", \"1792\", \"1793\", \"1794\", \"1795\", \"1796\", \"1797\", \"1798\", \"1799\", \"1800\", \"1801\", \"1802\", \"1803\", \"1804\", \"1805\", \"1806\", \"1807\", \"1808\", \"1809\", \"1810\", \"1811\", \"1812\", \"1813\", \"1814\", \"1815\", \"1816\", \"1817\", \"1818\", \"1819\", \"1820\", \"1821\", \"1822\", \"1823\", \"1824\", \"1825\", \"1826\", \"1827\", \"1828\", \"1829\", \"1830\", \"1831\", \"1832\", \"1833\", \"1834\", \"1835\", \"1836\", \"1837\", \"1838\", \"1839\", \"1840\", \"1841\", \"1842\", \"1843\", \"1844\", \"1845\", \"1846\", \"1847\", \"1848\", \"1849\", \"1850\", \"1851\", \"1852\", \"1853\", \"1854\", \"1855\", \"1856\", \"1857\", \"1858\", \"1859\", \"1860\", \"1861\", \"1862\", \"1863\", \"1864\", \"1865\", \"1866\", \"1867\", \"1868\", \"1869\", \"1870\", \"1871\", \"1872\", \"1873\", \"1874\", \"1875\", \"1876\", \"1877\", \"1878\", \"1879\", \"1880\", \"1881\", \"1882\", \"1883\", \"1884\", \"1885\", \"1886\", \"1887\", \"1888\", \"1889\", \"1890\", \"1891\", \"1892\", \"1893\", \"1894\", \"1895\", \"1896\", \"1897\", \"1898\", \"1899\", \"1900\", \"1901\", \"1902\", \"1903\", \"1904\", \"1905\", \"1906\", \"1907\", \"1908\", \"1909\", \"1910\", \"1911\", \"1912\", \"1913\", \"1914\", \"1915\", \"1916\", \"1917\", \"1918\", \"1919\", \"1920\", \"1921\", \"1922\", \"1923\", \"1924\", \"1925\", \"1926\", \"1927\", \"1928\", \"1929\", \"1930\", \"1931\", \"1932\", \"1933\", \"1934\", \"1935\", \"1936\", \"1937\", \"1938\", \"1939\", \"1940\", \"1941\", \"1942\", \"1943\", \"1944\", \"1945\", \"1946\", \"1947\", \"1948\", \"1949\", \"1950\", \"1951\", \"1952\", \"1953\", \"1954\", \"1955\", \"1956\", \"1957\", \"1958\", \"1959\", \"1960\", \"1961\", \"1962\", \"1963\", \"1964\", \"1965\", \"1966\", \"1967\", \"1968\", \"1969\", \"1970\", \"1971\", \"1972\", \"1973\", \"1974\", \"1975\", \"1976\", \"1977\", \"1978\", \"1979\", \"1980\", \"1981\", \"1982\", \"1983\", \"1984\", \"1985\", \"1986\", \"1987\", \"1988\", \"1989\", \"1990\", \"1991\", \"1992\", \"1993\", \"1994\", \"1995\", \"1996\", \"1997\", \"1998\", \"1999\", \"2000\", \"2001\", \"2002\", \"2003\", \"2004\", \"2005\", \"2006\", \"2007\", \"2008\", \"2009\", \"2010\", \"2011\", \"2012\", \"2013\", \"2014\", \"2015\"], \"xaxis\": \"x\", \"y\": [8.719363636363637, 7.9761428571428565, 5.7798333333333325, 8.388083333333332, 8.469333333333335, 8.355583333333334, 8.849583333333333, 9.022, 6.743583333333333, 7.985083333333333, 7.185166666666667, 8.772499999999999, 8.6065, 7.496749999999999, 8.400333333333332, 8.251916666666666, 8.405666666666667, 8.221499999999999, 6.781333333333333, 7.694583333333334, 7.691916666666667, 7.8531666666666675, 8.1935, 8.2215, 8.772166666666665, 9.183083333333334, 8.304, 8.256250000000001, 8.54225, 8.98325, 9.432916666666667, 8.102583333333332, 7.901249999999998, 7.680833333333333, 7.862000000000001, 7.3629999999999995, 8.258166666666666, 8.031833333333333, 8.447166666666666, 8.334166666666667, 7.982333333333333, 8.23425, 8.089, 8.229166666666666, 8.526000000000002, 8.350333333333333, 8.270999999999999, 8.510583333333335, 8.67025, 8.505749999999999, 8.484250000000001, 8.589666666666668, 8.578166666666666, 8.503, 8.844833333333334, 8.56275, 8.434083333333332, 8.281416666666665, 7.626833333333333, 7.076416666666667, 6.922666666666665, 6.859500000000001, 7.046250000000001, 7.7399166666666686, 7.59175, 7.239333333333334, 6.9375, 6.975666666666668, 7.828916666666667, 7.3691666666666675, 7.616249999999998, 8.090083333333332, 8.188333333333334, 7.7186666666666675, 8.547166666666667, 8.389333333333333, 8.356583333333335, 8.808749999999998, 8.165333333333335, 7.941833333333332, 8.51675, 7.639166666666667, 7.450166666666667, 8.013, 8.14675, 7.392499999999999, 7.695833333333334, 7.375666666666665, 7.514916666666665, 7.632249999999999, 7.796250000000001, 7.688166666666667, 8.02275, 8.173666666666666, 7.646333333333334, 7.851166666666668, 8.55275, 8.086, 7.979500000000001, 7.984416666666667, 7.900666666666666, 8.178583333333332, 8.100166666666665, 8.041833333333333, 8.2105, 8.110749999999998, 7.995916666666666, 7.758166666666668, 8.10025, 8.252, 7.960833333333333, 7.846500000000002, 7.558583333333334, 8.111833333333333, 7.983583333333335, 8.177833333333334, 8.292166666666665, 8.436333333333334, 8.247916666666667, 8.432083333333333, 8.201333333333332, 8.115083333333333, 8.193833333333332, 8.351083333333333, 8.4335, 7.859583333333334, 8.080083333333333, 8.539583333333333, 8.829749999999999, 8.165833333333333, 8.118749999999999, 8.270916666666666, 8.128916666666667, 7.976916666666665, 7.773666666666667, 7.919666666666668, 7.954499999999999, 7.914916666666667, 8.0905, 8.318999999999999, 7.971666666666667, 8.019333333333334, 8.065833333333332, 8.05675, 8.161, 8.147, 8.214916666666666, 8.293333333333335, 8.177999999999999, 8.396333333333333, 8.501583333333333, 8.541916666666665, 8.304416666666667, 8.220166666666668, 8.090916666666667, 8.225166666666665, 8.379083333333332, 7.947166666666667, 8.186083333333334, 8.17825, 8.223, 8.177000000000001, 8.165416666666667, 8.297749999999999, 8.5905, 8.593166666666665, 8.22525, 8.023333333333332, 8.130833333333332, 8.38225, 8.35875, 8.571, 8.408, 8.422166666666666, 8.506833333333335, 8.534416666666667, 8.728833333333332, 8.522083333333333, 8.632166666666668, 8.242416666666665, 8.633583333333332, 8.71925, 8.705250000000001, 8.33825, 8.628333333333336, 8.51575, 8.554, 8.698333333333332, 8.863666666666665, 8.760333333333334, 8.764666666666667, 8.768666666666668, 8.728416666666666, 8.755083333333333, 8.845, 8.584833333333332, 8.676916666666669, 8.797083333333333, 8.74675, 8.586749999999999, 8.365250000000001, 8.625666666666666, 8.638250000000001, 8.873750000000001, 8.560666666666666, 8.62625, 8.279583333333333, 8.7325, 8.77375, 8.732666666666665, 8.58375, 8.797666666666666, 8.745916666666666, 8.856, 8.409666666666666, 8.527416666666667, 8.599333333333332, 8.700083333333334, 8.516333333333334, 8.595083333333333, 8.700916666666666, 8.59925, 8.499583333333334, 8.948249999999998, 8.4675, 8.744833333333334, 8.347249999999999, 8.850249999999999, 8.692749999999998, 8.733416666666665, 8.980333333333332, 9.165833333333333, 8.639166666666666, 9.028166666666666, 8.691833333333335, 8.658, 8.833583333333332, 8.994416666666668, 9.201583333333334, 8.921999999999999, 9.234166666666667, 9.179416666666667, 8.836583333333332, 8.866583333333333, 9.038749999999999, 9.347083333333332, 9.038916666666667, 9.202583333333333, 9.522666666666666, 9.285083333333333, 9.201166666666667, 9.414583333333335, 9.570416666666667, 9.525583333333334, 9.324583333333333, 9.700916666666666, 9.532499999999999, 9.732166666666664, 9.431750000000001, 9.505250000000002, 9.703083333333332, 9.516, 9.507333333333333, 9.606499999999999, 9.570666666666666, 9.830999999999998], \"yaxis\": \"y\"}],\n",
              "                        {\"legend\": {\"tracegroupgap\": 0}, \"template\": {\"data\": {\"bar\": [{\"error_x\": {\"color\": \"#2a3f5f\"}, \"error_y\": {\"color\": \"#2a3f5f\"}, \"marker\": {\"line\": {\"color\": \"#E5ECF6\", \"width\": 0.5}}, \"type\": \"bar\"}], \"barpolar\": [{\"marker\": {\"line\": {\"color\": \"#E5ECF6\", \"width\": 0.5}}, \"type\": \"barpolar\"}], \"carpet\": [{\"aaxis\": {\"endlinecolor\": \"#2a3f5f\", \"gridcolor\": \"white\", \"linecolor\": \"white\", \"minorgridcolor\": \"white\", \"startlinecolor\": \"#2a3f5f\"}, \"baxis\": {\"endlinecolor\": \"#2a3f5f\", \"gridcolor\": \"white\", \"linecolor\": \"white\", \"minorgridcolor\": \"white\", \"startlinecolor\": \"#2a3f5f\"}, \"type\": \"carpet\"}], \"choropleth\": [{\"colorbar\": {\"outlinewidth\": 0, \"ticks\": \"\"}, \"type\": \"choropleth\"}], \"contour\": [{\"colorbar\": {\"outlinewidth\": 0, \"ticks\": \"\"}, \"colorscale\": [[0.0, \"#0d0887\"], [0.1111111111111111, \"#46039f\"], [0.2222222222222222, \"#7201a8\"], [0.3333333333333333, \"#9c179e\"], [0.4444444444444444, \"#bd3786\"], [0.5555555555555556, \"#d8576b\"], [0.6666666666666666, \"#ed7953\"], [0.7777777777777778, \"#fb9f3a\"], [0.8888888888888888, \"#fdca26\"], [1.0, \"#f0f921\"]], \"type\": \"contour\"}], \"contourcarpet\": [{\"colorbar\": {\"outlinewidth\": 0, \"ticks\": \"\"}, \"type\": \"contourcarpet\"}], \"heatmap\": [{\"colorbar\": {\"outlinewidth\": 0, \"ticks\": \"\"}, \"colorscale\": [[0.0, \"#0d0887\"], [0.1111111111111111, \"#46039f\"], [0.2222222222222222, \"#7201a8\"], [0.3333333333333333, \"#9c179e\"], [0.4444444444444444, \"#bd3786\"], [0.5555555555555556, \"#d8576b\"], [0.6666666666666666, \"#ed7953\"], [0.7777777777777778, \"#fb9f3a\"], [0.8888888888888888, \"#fdca26\"], [1.0, \"#f0f921\"]], \"type\": \"heatmap\"}], \"heatmapgl\": [{\"colorbar\": {\"outlinewidth\": 0, \"ticks\": \"\"}, \"colorscale\": [[0.0, \"#0d0887\"], [0.1111111111111111, \"#46039f\"], [0.2222222222222222, \"#7201a8\"], [0.3333333333333333, \"#9c179e\"], [0.4444444444444444, \"#bd3786\"], [0.5555555555555556, \"#d8576b\"], [0.6666666666666666, \"#ed7953\"], [0.7777777777777778, \"#fb9f3a\"], [0.8888888888888888, \"#fdca26\"], [1.0, \"#f0f921\"]], \"type\": \"heatmapgl\"}], \"histogram\": [{\"marker\": {\"colorbar\": {\"outlinewidth\": 0, \"ticks\": \"\"}}, \"type\": \"histogram\"}], \"histogram2d\": [{\"colorbar\": {\"outlinewidth\": 0, \"ticks\": \"\"}, \"colorscale\": [[0.0, \"#0d0887\"], [0.1111111111111111, \"#46039f\"], [0.2222222222222222, \"#7201a8\"], [0.3333333333333333, \"#9c179e\"], [0.4444444444444444, \"#bd3786\"], [0.5555555555555556, \"#d8576b\"], [0.6666666666666666, \"#ed7953\"], [0.7777777777777778, \"#fb9f3a\"], [0.8888888888888888, \"#fdca26\"], [1.0, \"#f0f921\"]], \"type\": \"histogram2d\"}], \"histogram2dcontour\": [{\"colorbar\": {\"outlinewidth\": 0, \"ticks\": \"\"}, \"colorscale\": [[0.0, \"#0d0887\"], [0.1111111111111111, \"#46039f\"], [0.2222222222222222, \"#7201a8\"], [0.3333333333333333, \"#9c179e\"], [0.4444444444444444, \"#bd3786\"], [0.5555555555555556, \"#d8576b\"], [0.6666666666666666, \"#ed7953\"], [0.7777777777777778, \"#fb9f3a\"], [0.8888888888888888, \"#fdca26\"], [1.0, \"#f0f921\"]], \"type\": \"histogram2dcontour\"}], \"mesh3d\": [{\"colorbar\": {\"outlinewidth\": 0, \"ticks\": \"\"}, \"type\": \"mesh3d\"}], \"parcoords\": [{\"line\": {\"colorbar\": {\"outlinewidth\": 0, \"ticks\": \"\"}}, \"type\": \"parcoords\"}], \"pie\": [{\"automargin\": true, \"type\": \"pie\"}], \"scatter\": [{\"marker\": {\"colorbar\": {\"outlinewidth\": 0, \"ticks\": \"\"}}, \"type\": \"scatter\"}], \"scatter3d\": [{\"line\": {\"colorbar\": {\"outlinewidth\": 0, \"ticks\": \"\"}}, \"marker\": {\"colorbar\": {\"outlinewidth\": 0, \"ticks\": \"\"}}, \"type\": \"scatter3d\"}], \"scattercarpet\": [{\"marker\": {\"colorbar\": {\"outlinewidth\": 0, \"ticks\": \"\"}}, \"type\": \"scattercarpet\"}], \"scattergeo\": [{\"marker\": {\"colorbar\": {\"outlinewidth\": 0, \"ticks\": \"\"}}, \"type\": \"scattergeo\"}], \"scattergl\": [{\"marker\": {\"colorbar\": {\"outlinewidth\": 0, \"ticks\": \"\"}}, \"type\": \"scattergl\"}], \"scattermapbox\": [{\"marker\": {\"colorbar\": {\"outlinewidth\": 0, \"ticks\": \"\"}}, \"type\": \"scattermapbox\"}], \"scatterpolar\": [{\"marker\": {\"colorbar\": {\"outlinewidth\": 0, \"ticks\": \"\"}}, \"type\": \"scatterpolar\"}], \"scatterpolargl\": [{\"marker\": {\"colorbar\": {\"outlinewidth\": 0, \"ticks\": \"\"}}, \"type\": \"scatterpolargl\"}], \"scatterternary\": [{\"marker\": {\"colorbar\": {\"outlinewidth\": 0, \"ticks\": \"\"}}, \"type\": \"scatterternary\"}], \"surface\": [{\"colorbar\": {\"outlinewidth\": 0, \"ticks\": \"\"}, \"colorscale\": [[0.0, \"#0d0887\"], [0.1111111111111111, \"#46039f\"], [0.2222222222222222, \"#7201a8\"], [0.3333333333333333, \"#9c179e\"], [0.4444444444444444, \"#bd3786\"], [0.5555555555555556, \"#d8576b\"], [0.6666666666666666, \"#ed7953\"], [0.7777777777777778, \"#fb9f3a\"], [0.8888888888888888, \"#fdca26\"], [1.0, \"#f0f921\"]], \"type\": \"surface\"}], \"table\": [{\"cells\": {\"fill\": {\"color\": \"#EBF0F8\"}, \"line\": {\"color\": \"white\"}}, \"header\": {\"fill\": {\"color\": \"#C8D4E3\"}, \"line\": {\"color\": \"white\"}}, \"type\": \"table\"}]}, \"layout\": {\"annotationdefaults\": {\"arrowcolor\": \"#2a3f5f\", \"arrowhead\": 0, \"arrowwidth\": 1}, \"coloraxis\": {\"colorbar\": {\"outlinewidth\": 0, \"ticks\": \"\"}}, \"colorscale\": {\"diverging\": [[0, \"#8e0152\"], [0.1, \"#c51b7d\"], [0.2, \"#de77ae\"], [0.3, \"#f1b6da\"], [0.4, \"#fde0ef\"], [0.5, \"#f7f7f7\"], [0.6, \"#e6f5d0\"], [0.7, \"#b8e186\"], [0.8, \"#7fbc41\"], [0.9, \"#4d9221\"], [1, \"#276419\"]], \"sequential\": [[0.0, \"#0d0887\"], [0.1111111111111111, \"#46039f\"], [0.2222222222222222, \"#7201a8\"], [0.3333333333333333, \"#9c179e\"], [0.4444444444444444, \"#bd3786\"], [0.5555555555555556, \"#d8576b\"], [0.6666666666666666, \"#ed7953\"], [0.7777777777777778, \"#fb9f3a\"], [0.8888888888888888, \"#fdca26\"], [1.0, \"#f0f921\"]], \"sequentialminus\": [[0.0, \"#0d0887\"], [0.1111111111111111, \"#46039f\"], [0.2222222222222222, \"#7201a8\"], [0.3333333333333333, \"#9c179e\"], [0.4444444444444444, \"#bd3786\"], [0.5555555555555556, \"#d8576b\"], [0.6666666666666666, \"#ed7953\"], [0.7777777777777778, \"#fb9f3a\"], [0.8888888888888888, \"#fdca26\"], [1.0, \"#f0f921\"]]}, \"colorway\": [\"#636efa\", \"#EF553B\", \"#00cc96\", \"#ab63fa\", \"#FFA15A\", \"#19d3f3\", \"#FF6692\", \"#B6E880\", \"#FF97FF\", \"#FECB52\"], \"font\": {\"color\": \"#2a3f5f\"}, \"geo\": {\"bgcolor\": \"white\", \"lakecolor\": \"white\", \"landcolor\": \"#E5ECF6\", \"showlakes\": true, \"showland\": true, \"subunitcolor\": \"white\"}, \"hoverlabel\": {\"align\": \"left\"}, \"hovermode\": \"closest\", \"mapbox\": {\"style\": \"light\"}, \"paper_bgcolor\": \"white\", \"plot_bgcolor\": \"#E5ECF6\", \"polar\": {\"angularaxis\": {\"gridcolor\": \"white\", \"linecolor\": \"white\", \"ticks\": \"\"}, \"bgcolor\": \"#E5ECF6\", \"radialaxis\": {\"gridcolor\": \"white\", \"linecolor\": \"white\", \"ticks\": \"\"}}, \"scene\": {\"xaxis\": {\"backgroundcolor\": \"#E5ECF6\", \"gridcolor\": \"white\", \"gridwidth\": 2, \"linecolor\": \"white\", \"showbackground\": true, \"ticks\": \"\", \"zerolinecolor\": \"white\"}, \"yaxis\": {\"backgroundcolor\": \"#E5ECF6\", \"gridcolor\": \"white\", \"gridwidth\": 2, \"linecolor\": \"white\", \"showbackground\": true, \"ticks\": \"\", \"zerolinecolor\": \"white\"}, \"zaxis\": {\"backgroundcolor\": \"#E5ECF6\", \"gridcolor\": \"white\", \"gridwidth\": 2, \"linecolor\": \"white\", \"showbackground\": true, \"ticks\": \"\", \"zerolinecolor\": \"white\"}}, \"shapedefaults\": {\"line\": {\"color\": \"#2a3f5f\"}}, \"ternary\": {\"aaxis\": {\"gridcolor\": \"white\", \"linecolor\": \"white\", \"ticks\": \"\"}, \"baxis\": {\"gridcolor\": \"white\", \"linecolor\": \"white\", \"ticks\": \"\"}, \"bgcolor\": \"#E5ECF6\", \"caxis\": {\"gridcolor\": \"white\", \"linecolor\": \"white\", \"ticks\": \"\"}}, \"title\": {\"x\": 0.05}, \"xaxis\": {\"automargin\": true, \"gridcolor\": \"white\", \"linecolor\": \"white\", \"ticks\": \"\", \"title\": {\"standoff\": 15}, \"zerolinecolor\": \"white\", \"zerolinewidth\": 2}, \"yaxis\": {\"automargin\": true, \"gridcolor\": \"white\", \"linecolor\": \"white\", \"ticks\": \"\", \"title\": {\"standoff\": 15}, \"zerolinecolor\": \"white\", \"zerolinewidth\": 2}}}, \"title\": {\"text\": \"Avg Land Temp in World\"}, \"xaxis\": {\"anchor\": \"y\", \"domain\": [0.0, 1.0], \"title\": {\"text\": \"years\"}}, \"yaxis\": {\"anchor\": \"x\", \"domain\": [0.0, 1.0], \"title\": {\"text\": \"LandAverageTemperature\"}}},\n",
              "                        {\"responsive\": true}\n",
              "                    ).then(function(){\n",
              "                            \n",
              "var gd = document.getElementById('a7f7a619-1244-46d8-b560-514c17d3840c');\n",
              "var x = new MutationObserver(function (mutations, observer) {{\n",
              "        var display = window.getComputedStyle(gd).display;\n",
              "        if (!display || display === 'none') {{\n",
              "            console.log([gd, 'removed!']);\n",
              "            Plotly.purge(gd);\n",
              "            observer.disconnect();\n",
              "        }}\n",
              "}});\n",
              "\n",
              "// Listen for the removal of the full notebook cells\n",
              "var notebookContainer = gd.closest('#notebook-container');\n",
              "if (notebookContainer) {{\n",
              "    x.observe(notebookContainer, {childList: true});\n",
              "}}\n",
              "\n",
              "// Listen for the clearing of the current output cell\n",
              "var outputEl = gd.closest('.output');\n",
              "if (outputEl) {{\n",
              "    x.observe(outputEl, {childList: true});\n",
              "}}\n",
              "\n",
              "                        })\n",
              "                };\n",
              "                \n",
              "            </script>\n",
              "        </div>\n",
              "</body>\n",
              "</html>"
            ]
          },
          "metadata": {}
        }
      ]
    },
    {
      "cell_type": "markdown",
      "metadata": {
        "id": "dsrHZ5M29a11"
      },
      "source": [
        "**Explore Average Temperature of Each\n",
        "Season**"
      ]
    },
    {
      "cell_type": "code",
      "metadata": {
        "colab": {
          "base_uri": "https://localhost:8080/",
          "height": 309
        },
        "id": "RZqqQnRq9y1p",
        "outputId": "a937662d-370d-4786-c25b-010c3a377e1a"
      },
      "source": [
        "global_temp.head()"
      ],
      "execution_count": 14,
      "outputs": [
        {
          "output_type": "execute_result",
          "data": {
            "text/html": [
              "<div>\n",
              "<style scoped>\n",
              "    .dataframe tbody tr th:only-of-type {\n",
              "        vertical-align: middle;\n",
              "    }\n",
              "\n",
              "    .dataframe tbody tr th {\n",
              "        vertical-align: top;\n",
              "    }\n",
              "\n",
              "    .dataframe thead th {\n",
              "        text-align: right;\n",
              "    }\n",
              "</style>\n",
              "<table border=\"1\" class=\"dataframe\">\n",
              "  <thead>\n",
              "    <tr style=\"text-align: right;\">\n",
              "      <th></th>\n",
              "      <th>dt</th>\n",
              "      <th>LandAverageTemperature</th>\n",
              "      <th>LandAverageTemperatureUncertainty</th>\n",
              "      <th>LandMaxTemperature</th>\n",
              "      <th>LandMaxTemperatureUncertainty</th>\n",
              "      <th>LandMinTemperature</th>\n",
              "      <th>LandMinTemperatureUncertainty</th>\n",
              "      <th>LandAndOceanAverageTemperature</th>\n",
              "      <th>LandAndOceanAverageTemperatureUncertainty</th>\n",
              "      <th>years</th>\n",
              "    </tr>\n",
              "  </thead>\n",
              "  <tbody>\n",
              "    <tr>\n",
              "      <th>0</th>\n",
              "      <td>1750-01-01</td>\n",
              "      <td>3.034</td>\n",
              "      <td>3.574</td>\n",
              "      <td>NaN</td>\n",
              "      <td>NaN</td>\n",
              "      <td>NaN</td>\n",
              "      <td>NaN</td>\n",
              "      <td>NaN</td>\n",
              "      <td>NaN</td>\n",
              "      <td>1750</td>\n",
              "    </tr>\n",
              "    <tr>\n",
              "      <th>1</th>\n",
              "      <td>1750-02-01</td>\n",
              "      <td>3.083</td>\n",
              "      <td>3.702</td>\n",
              "      <td>NaN</td>\n",
              "      <td>NaN</td>\n",
              "      <td>NaN</td>\n",
              "      <td>NaN</td>\n",
              "      <td>NaN</td>\n",
              "      <td>NaN</td>\n",
              "      <td>1750</td>\n",
              "    </tr>\n",
              "    <tr>\n",
              "      <th>2</th>\n",
              "      <td>1750-03-01</td>\n",
              "      <td>5.626</td>\n",
              "      <td>3.076</td>\n",
              "      <td>NaN</td>\n",
              "      <td>NaN</td>\n",
              "      <td>NaN</td>\n",
              "      <td>NaN</td>\n",
              "      <td>NaN</td>\n",
              "      <td>NaN</td>\n",
              "      <td>1750</td>\n",
              "    </tr>\n",
              "    <tr>\n",
              "      <th>3</th>\n",
              "      <td>1750-04-01</td>\n",
              "      <td>8.490</td>\n",
              "      <td>2.451</td>\n",
              "      <td>NaN</td>\n",
              "      <td>NaN</td>\n",
              "      <td>NaN</td>\n",
              "      <td>NaN</td>\n",
              "      <td>NaN</td>\n",
              "      <td>NaN</td>\n",
              "      <td>1750</td>\n",
              "    </tr>\n",
              "    <tr>\n",
              "      <th>4</th>\n",
              "      <td>1750-05-01</td>\n",
              "      <td>11.573</td>\n",
              "      <td>2.072</td>\n",
              "      <td>NaN</td>\n",
              "      <td>NaN</td>\n",
              "      <td>NaN</td>\n",
              "      <td>NaN</td>\n",
              "      <td>NaN</td>\n",
              "      <td>NaN</td>\n",
              "      <td>1750</td>\n",
              "    </tr>\n",
              "  </tbody>\n",
              "</table>\n",
              "</div>"
            ],
            "text/plain": [
              "           dt  ...  years\n",
              "0  1750-01-01  ...   1750\n",
              "1  1750-02-01  ...   1750\n",
              "2  1750-03-01  ...   1750\n",
              "3  1750-04-01  ...   1750\n",
              "4  1750-05-01  ...   1750\n",
              "\n",
              "[5 rows x 10 columns]"
            ]
          },
          "metadata": {},
          "execution_count": 14
        }
      ]
    },
    {
      "cell_type": "code",
      "metadata": {
        "colab": {
          "base_uri": "https://localhost:8080/"
        },
        "id": "bOaNgn1h-nH7",
        "outputId": "8ba63b3b-eca7-4df5-bd78-4acd6eb89cbd"
      },
      "source": [
        "global_temp.dtypes"
      ],
      "execution_count": 15,
      "outputs": [
        {
          "output_type": "execute_result",
          "data": {
            "text/plain": [
              "dt                                            object\n",
              "LandAverageTemperature                       float64\n",
              "LandAverageTemperatureUncertainty            float64\n",
              "LandMaxTemperature                           float64\n",
              "LandMaxTemperatureUncertainty                float64\n",
              "LandMinTemperature                           float64\n",
              "LandMinTemperatureUncertainty                float64\n",
              "LandAndOceanAverageTemperature               float64\n",
              "LandAndOceanAverageTemperatureUncertainty    float64\n",
              "years                                         object\n",
              "dtype: object"
            ]
          },
          "metadata": {},
          "execution_count": 15
        }
      ]
    },
    {
      "cell_type": "code",
      "metadata": {
        "id": "QTe2dB22-p1U"
      },
      "source": [
        "#Mengubah tipe data menjadi datetime\n",
        "global_temp['dt'] = pd.to_datetime(global_temp['dt'])"
      ],
      "execution_count": 16,
      "outputs": []
    },
    {
      "cell_type": "code",
      "metadata": {
        "colab": {
          "base_uri": "https://localhost:8080/"
        },
        "id": "3jTuZ-jD-6ZI",
        "outputId": "cbe29443-afab-451e-dad9-d24cd41db057"
      },
      "source": [
        "global_temp.dtypes"
      ],
      "execution_count": 17,
      "outputs": [
        {
          "output_type": "execute_result",
          "data": {
            "text/plain": [
              "dt                                           datetime64[ns]\n",
              "LandAverageTemperature                              float64\n",
              "LandAverageTemperatureUncertainty                   float64\n",
              "LandMaxTemperature                                  float64\n",
              "LandMaxTemperatureUncertainty                       float64\n",
              "LandMinTemperature                                  float64\n",
              "LandMinTemperatureUncertainty                       float64\n",
              "LandAndOceanAverageTemperature                      float64\n",
              "LandAndOceanAverageTemperatureUncertainty           float64\n",
              "years                                                object\n",
              "dtype: object"
            ]
          },
          "metadata": {},
          "execution_count": 17
        }
      ]
    },
    {
      "cell_type": "code",
      "metadata": {
        "id": "a1rs29VZ_DjZ"
      },
      "source": [
        "global_temp['month'] = global_temp['dt'].dt.month"
      ],
      "execution_count": 18,
      "outputs": []
    },
    {
      "cell_type": "code",
      "metadata": {
        "colab": {
          "base_uri": "https://localhost:8080/",
          "height": 309
        },
        "id": "OY0LoYSI_S_X",
        "outputId": "6c633b68-9846-411d-d7f8-e9529f36378f"
      },
      "source": [
        "global_temp.head()"
      ],
      "execution_count": 19,
      "outputs": [
        {
          "output_type": "execute_result",
          "data": {
            "text/html": [
              "<div>\n",
              "<style scoped>\n",
              "    .dataframe tbody tr th:only-of-type {\n",
              "        vertical-align: middle;\n",
              "    }\n",
              "\n",
              "    .dataframe tbody tr th {\n",
              "        vertical-align: top;\n",
              "    }\n",
              "\n",
              "    .dataframe thead th {\n",
              "        text-align: right;\n",
              "    }\n",
              "</style>\n",
              "<table border=\"1\" class=\"dataframe\">\n",
              "  <thead>\n",
              "    <tr style=\"text-align: right;\">\n",
              "      <th></th>\n",
              "      <th>dt</th>\n",
              "      <th>LandAverageTemperature</th>\n",
              "      <th>LandAverageTemperatureUncertainty</th>\n",
              "      <th>LandMaxTemperature</th>\n",
              "      <th>LandMaxTemperatureUncertainty</th>\n",
              "      <th>LandMinTemperature</th>\n",
              "      <th>LandMinTemperatureUncertainty</th>\n",
              "      <th>LandAndOceanAverageTemperature</th>\n",
              "      <th>LandAndOceanAverageTemperatureUncertainty</th>\n",
              "      <th>years</th>\n",
              "      <th>month</th>\n",
              "    </tr>\n",
              "  </thead>\n",
              "  <tbody>\n",
              "    <tr>\n",
              "      <th>0</th>\n",
              "      <td>1750-01-01</td>\n",
              "      <td>3.034</td>\n",
              "      <td>3.574</td>\n",
              "      <td>NaN</td>\n",
              "      <td>NaN</td>\n",
              "      <td>NaN</td>\n",
              "      <td>NaN</td>\n",
              "      <td>NaN</td>\n",
              "      <td>NaN</td>\n",
              "      <td>1750</td>\n",
              "      <td>1</td>\n",
              "    </tr>\n",
              "    <tr>\n",
              "      <th>1</th>\n",
              "      <td>1750-02-01</td>\n",
              "      <td>3.083</td>\n",
              "      <td>3.702</td>\n",
              "      <td>NaN</td>\n",
              "      <td>NaN</td>\n",
              "      <td>NaN</td>\n",
              "      <td>NaN</td>\n",
              "      <td>NaN</td>\n",
              "      <td>NaN</td>\n",
              "      <td>1750</td>\n",
              "      <td>2</td>\n",
              "    </tr>\n",
              "    <tr>\n",
              "      <th>2</th>\n",
              "      <td>1750-03-01</td>\n",
              "      <td>5.626</td>\n",
              "      <td>3.076</td>\n",
              "      <td>NaN</td>\n",
              "      <td>NaN</td>\n",
              "      <td>NaN</td>\n",
              "      <td>NaN</td>\n",
              "      <td>NaN</td>\n",
              "      <td>NaN</td>\n",
              "      <td>1750</td>\n",
              "      <td>3</td>\n",
              "    </tr>\n",
              "    <tr>\n",
              "      <th>3</th>\n",
              "      <td>1750-04-01</td>\n",
              "      <td>8.490</td>\n",
              "      <td>2.451</td>\n",
              "      <td>NaN</td>\n",
              "      <td>NaN</td>\n",
              "      <td>NaN</td>\n",
              "      <td>NaN</td>\n",
              "      <td>NaN</td>\n",
              "      <td>NaN</td>\n",
              "      <td>1750</td>\n",
              "      <td>4</td>\n",
              "    </tr>\n",
              "    <tr>\n",
              "      <th>4</th>\n",
              "      <td>1750-05-01</td>\n",
              "      <td>11.573</td>\n",
              "      <td>2.072</td>\n",
              "      <td>NaN</td>\n",
              "      <td>NaN</td>\n",
              "      <td>NaN</td>\n",
              "      <td>NaN</td>\n",
              "      <td>NaN</td>\n",
              "      <td>NaN</td>\n",
              "      <td>1750</td>\n",
              "      <td>5</td>\n",
              "    </tr>\n",
              "  </tbody>\n",
              "</table>\n",
              "</div>"
            ],
            "text/plain": [
              "          dt  LandAverageTemperature  ...  years  month\n",
              "0 1750-01-01                   3.034  ...   1750      1\n",
              "1 1750-02-01                   3.083  ...   1750      2\n",
              "2 1750-03-01                   5.626  ...   1750      3\n",
              "3 1750-04-01                   8.490  ...   1750      4\n",
              "4 1750-05-01                  11.573  ...   1750      5\n",
              "\n",
              "[5 rows x 11 columns]"
            ]
          },
          "metadata": {},
          "execution_count": 19
        }
      ]
    },
    {
      "cell_type": "code",
      "metadata": {
        "id": "xCX88peR_ukP"
      },
      "source": [
        "#Membuat fungsi untuk mendapatkan kategori musim\n",
        "\n",
        "def get_season(month):\n",
        "  if month>=3 and month<=5 :\n",
        "    return 'spring'\n",
        "  elif month>=6 and month<=8 :\n",
        "    return 'summer'\n",
        "  elif month>= 9 and month<=11:\n",
        "    return 'autumn'\n",
        "  else:\n",
        "    return 'winter'"
      ],
      "execution_count": 20,
      "outputs": []
    },
    {
      "cell_type": "code",
      "metadata": {
        "id": "zNrxklN8AOE4"
      },
      "source": [
        "global_temp['season'] = global_temp['month'].apply(get_season)"
      ],
      "execution_count": 21,
      "outputs": []
    },
    {
      "cell_type": "code",
      "metadata": {
        "id": "eCcSdYtyAXyU",
        "colab": {
          "base_uri": "https://localhost:8080/",
          "height": 309
        },
        "outputId": "ecc5a17c-715d-4c74-993a-28fd5f882347"
      },
      "source": [
        "global_temp.head()"
      ],
      "execution_count": 22,
      "outputs": [
        {
          "output_type": "execute_result",
          "data": {
            "text/html": [
              "<div>\n",
              "<style scoped>\n",
              "    .dataframe tbody tr th:only-of-type {\n",
              "        vertical-align: middle;\n",
              "    }\n",
              "\n",
              "    .dataframe tbody tr th {\n",
              "        vertical-align: top;\n",
              "    }\n",
              "\n",
              "    .dataframe thead th {\n",
              "        text-align: right;\n",
              "    }\n",
              "</style>\n",
              "<table border=\"1\" class=\"dataframe\">\n",
              "  <thead>\n",
              "    <tr style=\"text-align: right;\">\n",
              "      <th></th>\n",
              "      <th>dt</th>\n",
              "      <th>LandAverageTemperature</th>\n",
              "      <th>LandAverageTemperatureUncertainty</th>\n",
              "      <th>LandMaxTemperature</th>\n",
              "      <th>LandMaxTemperatureUncertainty</th>\n",
              "      <th>LandMinTemperature</th>\n",
              "      <th>LandMinTemperatureUncertainty</th>\n",
              "      <th>LandAndOceanAverageTemperature</th>\n",
              "      <th>LandAndOceanAverageTemperatureUncertainty</th>\n",
              "      <th>years</th>\n",
              "      <th>month</th>\n",
              "      <th>season</th>\n",
              "    </tr>\n",
              "  </thead>\n",
              "  <tbody>\n",
              "    <tr>\n",
              "      <th>0</th>\n",
              "      <td>1750-01-01</td>\n",
              "      <td>3.034</td>\n",
              "      <td>3.574</td>\n",
              "      <td>NaN</td>\n",
              "      <td>NaN</td>\n",
              "      <td>NaN</td>\n",
              "      <td>NaN</td>\n",
              "      <td>NaN</td>\n",
              "      <td>NaN</td>\n",
              "      <td>1750</td>\n",
              "      <td>1</td>\n",
              "      <td>winter</td>\n",
              "    </tr>\n",
              "    <tr>\n",
              "      <th>1</th>\n",
              "      <td>1750-02-01</td>\n",
              "      <td>3.083</td>\n",
              "      <td>3.702</td>\n",
              "      <td>NaN</td>\n",
              "      <td>NaN</td>\n",
              "      <td>NaN</td>\n",
              "      <td>NaN</td>\n",
              "      <td>NaN</td>\n",
              "      <td>NaN</td>\n",
              "      <td>1750</td>\n",
              "      <td>2</td>\n",
              "      <td>winter</td>\n",
              "    </tr>\n",
              "    <tr>\n",
              "      <th>2</th>\n",
              "      <td>1750-03-01</td>\n",
              "      <td>5.626</td>\n",
              "      <td>3.076</td>\n",
              "      <td>NaN</td>\n",
              "      <td>NaN</td>\n",
              "      <td>NaN</td>\n",
              "      <td>NaN</td>\n",
              "      <td>NaN</td>\n",
              "      <td>NaN</td>\n",
              "      <td>1750</td>\n",
              "      <td>3</td>\n",
              "      <td>spring</td>\n",
              "    </tr>\n",
              "    <tr>\n",
              "      <th>3</th>\n",
              "      <td>1750-04-01</td>\n",
              "      <td>8.490</td>\n",
              "      <td>2.451</td>\n",
              "      <td>NaN</td>\n",
              "      <td>NaN</td>\n",
              "      <td>NaN</td>\n",
              "      <td>NaN</td>\n",
              "      <td>NaN</td>\n",
              "      <td>NaN</td>\n",
              "      <td>1750</td>\n",
              "      <td>4</td>\n",
              "      <td>spring</td>\n",
              "    </tr>\n",
              "    <tr>\n",
              "      <th>4</th>\n",
              "      <td>1750-05-01</td>\n",
              "      <td>11.573</td>\n",
              "      <td>2.072</td>\n",
              "      <td>NaN</td>\n",
              "      <td>NaN</td>\n",
              "      <td>NaN</td>\n",
              "      <td>NaN</td>\n",
              "      <td>NaN</td>\n",
              "      <td>NaN</td>\n",
              "      <td>1750</td>\n",
              "      <td>5</td>\n",
              "      <td>spring</td>\n",
              "    </tr>\n",
              "  </tbody>\n",
              "</table>\n",
              "</div>"
            ],
            "text/plain": [
              "          dt  LandAverageTemperature  ...  month  season\n",
              "0 1750-01-01                   3.034  ...      1  winter\n",
              "1 1750-02-01                   3.083  ...      2  winter\n",
              "2 1750-03-01                   5.626  ...      3  spring\n",
              "3 1750-04-01                   8.490  ...      4  spring\n",
              "4 1750-05-01                  11.573  ...      5  spring\n",
              "\n",
              "[5 rows x 12 columns]"
            ]
          },
          "metadata": {},
          "execution_count": 22
        }
      ]
    },
    {
      "cell_type": "code",
      "metadata": {
        "id": "DoB-ht9KtTwn"
      },
      "source": [
        "spring_temps=[]\n",
        "summer_temps=[]\n",
        "autumn_temps=[]\n",
        "winter_temps=[]"
      ],
      "execution_count": 23,
      "outputs": []
    },
    {
      "cell_type": "code",
      "metadata": {
        "id": "3EQq2makugoa"
      },
      "source": [
        "years = global_temp['years'].unique()"
      ],
      "execution_count": 24,
      "outputs": []
    },
    {
      "cell_type": "code",
      "metadata": {
        "id": "ftZjrPJVtcRM"
      },
      "source": [
        "for year in years:\n",
        "  current_df = global_temp[global_temp['years']==year]\n",
        "  spring_temps.append(current_df[current_df['season']=='spring']['LandAverageTemperature'].mean())\n",
        "  summer_temps.append(current_df[current_df['season']=='summer']['LandAverageTemperature'].mean())\n",
        "  autumn_temps.append(current_df[current_df['season']=='autumn']['LandAverageTemperature'].mean())\n",
        "  winter_temps.append(current_df[current_df['season']=='winter']['LandAverageTemperature'].mean())"
      ],
      "execution_count": 25,
      "outputs": []
    },
    {
      "cell_type": "code",
      "metadata": {
        "id": "-GtvmBqTu---"
      },
      "source": [
        "season = pd.DataFrame()"
      ],
      "execution_count": 26,
      "outputs": []
    },
    {
      "cell_type": "code",
      "metadata": {
        "id": "c3ZgehruvCDc"
      },
      "source": [
        "season['year'] = years\n",
        "season['spring_temps']=spring_temps\n",
        "season['summer_temps']=summer_temps\n",
        "season['autumn_temps']=autumn_temps\n",
        "season['winter_temps']=winter_temps"
      ],
      "execution_count": 27,
      "outputs": []
    },
    {
      "cell_type": "code",
      "metadata": {
        "colab": {
          "base_uri": "https://localhost:8080/",
          "height": 204
        },
        "id": "zZMY6KgRvfUM",
        "outputId": "df0efa53-40d6-44e0-db58-c3bd89f99e37"
      },
      "source": [
        "season.head()"
      ],
      "execution_count": 28,
      "outputs": [
        {
          "output_type": "execute_result",
          "data": {
            "text/html": [
              "<div>\n",
              "<style scoped>\n",
              "    .dataframe tbody tr th:only-of-type {\n",
              "        vertical-align: middle;\n",
              "    }\n",
              "\n",
              "    .dataframe tbody tr th {\n",
              "        vertical-align: top;\n",
              "    }\n",
              "\n",
              "    .dataframe thead th {\n",
              "        text-align: right;\n",
              "    }\n",
              "</style>\n",
              "<table border=\"1\" class=\"dataframe\">\n",
              "  <thead>\n",
              "    <tr style=\"text-align: right;\">\n",
              "      <th></th>\n",
              "      <th>year</th>\n",
              "      <th>spring_temps</th>\n",
              "      <th>summer_temps</th>\n",
              "      <th>autumn_temps</th>\n",
              "      <th>winter_temps</th>\n",
              "    </tr>\n",
              "  </thead>\n",
              "  <tbody>\n",
              "    <tr>\n",
              "      <th>0</th>\n",
              "      <td>1750</td>\n",
              "      <td>8.563000</td>\n",
              "      <td>14.518333</td>\n",
              "      <td>8.890000</td>\n",
              "      <td>2.963000</td>\n",
              "    </tr>\n",
              "    <tr>\n",
              "      <th>1</th>\n",
              "      <td>1751</td>\n",
              "      <td>6.735000</td>\n",
              "      <td>14.116000</td>\n",
              "      <td>10.673000</td>\n",
              "      <td>1.729000</td>\n",
              "    </tr>\n",
              "    <tr>\n",
              "      <th>2</th>\n",
              "      <td>1752</td>\n",
              "      <td>7.035500</td>\n",
              "      <td>NaN</td>\n",
              "      <td>7.587000</td>\n",
              "      <td>2.717000</td>\n",
              "    </tr>\n",
              "    <tr>\n",
              "      <th>3</th>\n",
              "      <td>1753</td>\n",
              "      <td>8.627333</td>\n",
              "      <td>14.608333</td>\n",
              "      <td>9.212333</td>\n",
              "      <td>1.104333</td>\n",
              "    </tr>\n",
              "    <tr>\n",
              "      <th>4</th>\n",
              "      <td>1754</td>\n",
              "      <td>9.074333</td>\n",
              "      <td>14.208333</td>\n",
              "      <td>8.957333</td>\n",
              "      <td>1.637333</td>\n",
              "    </tr>\n",
              "  </tbody>\n",
              "</table>\n",
              "</div>"
            ],
            "text/plain": [
              "   year  spring_temps  summer_temps  autumn_temps  winter_temps\n",
              "0  1750      8.563000     14.518333      8.890000      2.963000\n",
              "1  1751      6.735000     14.116000     10.673000      1.729000\n",
              "2  1752      7.035500           NaN      7.587000      2.717000\n",
              "3  1753      8.627333     14.608333      9.212333      1.104333\n",
              "4  1754      9.074333     14.208333      8.957333      1.637333"
            ]
          },
          "metadata": {},
          "execution_count": 28
        }
      ]
    },
    {
      "cell_type": "code",
      "metadata": {
        "colab": {
          "base_uri": "https://localhost:8080/",
          "height": 542
        },
        "id": "xSAGa16Jvr_z",
        "outputId": "654c62c4-5880-4956-9dae-0c6b29f2ab85"
      },
      "source": [
        "#fig = px.line(season, x='year', y=['spring_temps', 'summer_temps', 'autumn_temps', 'winter_temps'])\n",
        "fig = px.line(season, x='year', y='winter_temps')\n",
        "fig.show()"
      ],
      "execution_count": 30,
      "outputs": [
        {
          "output_type": "display_data",
          "data": {
            "text/html": [
              "<html>\n",
              "<head><meta charset=\"utf-8\" /></head>\n",
              "<body>\n",
              "    <div>\n",
              "            <script src=\"https://cdnjs.cloudflare.com/ajax/libs/mathjax/2.7.5/MathJax.js?config=TeX-AMS-MML_SVG\"></script><script type=\"text/javascript\">if (window.MathJax) {MathJax.Hub.Config({SVG: {font: \"STIX-Web\"}});}</script>\n",
              "                <script type=\"text/javascript\">window.PlotlyConfig = {MathJaxConfig: 'local'};</script>\n",
              "        <script src=\"https://cdn.plot.ly/plotly-latest.min.js\"></script>    \n",
              "            <div id=\"d379c314-afbe-45fd-9f46-2d86f68dbbd3\" class=\"plotly-graph-div\" style=\"height:525px; width:100%;\"></div>\n",
              "            <script type=\"text/javascript\">\n",
              "                \n",
              "                    window.PLOTLYENV=window.PLOTLYENV || {};\n",
              "                    \n",
              "                if (document.getElementById(\"d379c314-afbe-45fd-9f46-2d86f68dbbd3\")) {\n",
              "                    Plotly.newPlot(\n",
              "                        'd379c314-afbe-45fd-9f46-2d86f68dbbd3',\n",
              "                        [{\"hoverlabel\": {\"namelength\": 0}, \"hovertemplate\": \"year=%{x}<br>winter_temps=%{y}\", \"legendgroup\": \"\", \"line\": {\"color\": \"#636efa\", \"dash\": \"solid\"}, \"mode\": \"lines\", \"name\": \"\", \"showlegend\": false, \"type\": \"scatter\", \"x\": [\"1750\", \"1751\", \"1752\", \"1753\", \"1754\", \"1755\", \"1756\", \"1757\", \"1758\", \"1759\", \"1760\", \"1761\", \"1762\", \"1763\", \"1764\", \"1765\", \"1766\", \"1767\", \"1768\", \"1769\", \"1770\", \"1771\", \"1772\", \"1773\", \"1774\", \"1775\", \"1776\", \"1777\", \"1778\", \"1779\", \"1780\", \"1781\", \"1782\", \"1783\", \"1784\", \"1785\", \"1786\", \"1787\", \"1788\", \"1789\", \"1790\", \"1791\", \"1792\", \"1793\", \"1794\", \"1795\", \"1796\", \"1797\", \"1798\", \"1799\", \"1800\", \"1801\", \"1802\", \"1803\", \"1804\", \"1805\", \"1806\", \"1807\", \"1808\", \"1809\", \"1810\", \"1811\", \"1812\", \"1813\", \"1814\", \"1815\", \"1816\", \"1817\", \"1818\", \"1819\", \"1820\", \"1821\", \"1822\", \"1823\", \"1824\", \"1825\", \"1826\", \"1827\", \"1828\", \"1829\", \"1830\", \"1831\", \"1832\", \"1833\", \"1834\", \"1835\", \"1836\", \"1837\", \"1838\", \"1839\", \"1840\", \"1841\", \"1842\", \"1843\", \"1844\", \"1845\", \"1846\", \"1847\", \"1848\", \"1849\", \"1850\", \"1851\", \"1852\", \"1853\", \"1854\", \"1855\", \"1856\", \"1857\", \"1858\", \"1859\", \"1860\", \"1861\", \"1862\", \"1863\", \"1864\", \"1865\", \"1866\", \"1867\", \"1868\", \"1869\", \"1870\", \"1871\", \"1872\", \"1873\", \"1874\", \"1875\", \"1876\", \"1877\", \"1878\", \"1879\", \"1880\", \"1881\", \"1882\", \"1883\", \"1884\", \"1885\", \"1886\", \"1887\", \"1888\", \"1889\", \"1890\", \"1891\", \"1892\", \"1893\", \"1894\", \"1895\", \"1896\", \"1897\", \"1898\", \"1899\", \"1900\", \"1901\", \"1902\", \"1903\", \"1904\", \"1905\", \"1906\", \"1907\", \"1908\", \"1909\", \"1910\", \"1911\", \"1912\", \"1913\", \"1914\", \"1915\", \"1916\", \"1917\", \"1918\", \"1919\", \"1920\", \"1921\", \"1922\", \"1923\", \"1924\", \"1925\", \"1926\", \"1927\", \"1928\", \"1929\", \"1930\", \"1931\", \"1932\", \"1933\", \"1934\", \"1935\", \"1936\", \"1937\", \"1938\", \"1939\", \"1940\", \"1941\", \"1942\", \"1943\", \"1944\", \"1945\", \"1946\", \"1947\", \"1948\", \"1949\", \"1950\", \"1951\", \"1952\", \"1953\", \"1954\", \"1955\", \"1956\", \"1957\", \"1958\", \"1959\", \"1960\", \"1961\", \"1962\", \"1963\", \"1964\", \"1965\", \"1966\", \"1967\", \"1968\", \"1969\", \"1970\", \"1971\", \"1972\", \"1973\", \"1974\", \"1975\", \"1976\", \"1977\", \"1978\", \"1979\", \"1980\", \"1981\", \"1982\", \"1983\", \"1984\", \"1985\", \"1986\", \"1987\", \"1988\", \"1989\", \"1990\", \"1991\", \"1992\", \"1993\", \"1994\", \"1995\", \"1996\", \"1997\", \"1998\", \"1999\", \"2000\", \"2001\", \"2002\", \"2003\", \"2004\", \"2005\", \"2006\", \"2007\", \"2008\", \"2009\", \"2010\", \"2011\", \"2012\", \"2013\", \"2014\", \"2015\"], \"xaxis\": \"x\", \"y\": [2.9630000000000005, 1.729, 2.7170000000000005, 1.1043333333333332, 1.6373333333333333, 1.1743333333333332, 3.906, 1.4829999999999999, 0.8506666666666667, 3.1143333333333327, 1.3926666666666667, 0.8326666666666666, 4.930000000000001, 1.8413333333333333, 4.406, 3.3369999999999997, 2.1453333333333333, 1.4926666666666666, 0.36433333333333334, 1.1636666666666666, 3.6043333333333334, 2.449666666666667, 2.747666666666667, 2.0249999999999995, 1.6330000000000002, 3.9906666666666673, 3.013333333333333, 4.6690000000000005, 3.571999999999999, 2.9596666666666667, 3.0596666666666668, 2.6519999999999997, 0.967, 2.029, 2.3333333333333335, 1.261, 1.3846666666666667, 2.4013333333333335, 1.856, 2.8266666666666667, 2.724, 2.828333333333333, 2.452, 2.4343333333333335, 3.411, 3.2313333333333336, 2.279666666666667, 4.209333333333333, 2.639666666666667, 2.496, 3.4376666666666664, 3.4713333333333334, 3.1496666666666666, 1.4573333333333334, 2.202666666666667, 3.179, 3.281, 3.1899999999999995, 1.3866666666666667, 1.047, 1.9796666666666667, 1.6660000000000001, 0.8186666666666668, 1.0146666666666666, 3.0066666666666673, 1.8483333333333334, 1.457, 1.7863333333333333, 1.4886666666666664, 1.7140000000000002, 1.5513333333333332, 3.158, 2.7483333333333335, 1.8983333333333334, 3.468666666666667, 3.1139999999999994, 2.767333333333333, 3.576666666666666, 1.8003333333333336, 2.066333333333333, 3.8409999999999997, 2.308666666666667, 1.444, 2.4596666666666667, 1.9183333333333337, 2.238666666666667, 2.300333333333333, 2.281333333333333, 1.2063333333333335, 2.2373333333333334, 2.1906666666666665, 1.8883333333333334, 2.7176666666666667, 3.5530000000000004, 1.9323333333333335, 2.008, 3.455, 2.6936666666666667, 2.111666666666667, 2.167333333333333, 2.207666666666667, 2.693, 2.9003333333333337, 2.2906666666666666, 2.2263333333333333, 2.5726666666666667, 2.7889999999999997, 2.6056666666666666, 2.489, 2.663666666666667, 2.114333333333333, 1.8116666666666668, 1.359, 2.9793333333333334, 2.1076666666666664, 2.5910000000000006, 3.1193333333333335, 3.0276666666666667, 2.405666666666667, 2.895, 2.148, 2.1153333333333335, 2.2096666666666667, 3.0180000000000002, 3.0536666666666665, 2.1523333333333334, 2.2223333333333333, 2.736666666666667, 3.029666666666667, 2.5260000000000002, 2.3043333333333336, 2.7610000000000006, 2.808666666666667, 2.1923333333333335, 2.5406666666666666, 2.296666666666667, 2.2436666666666665, 1.9176666666666666, 2.323, 2.7566666666666664, 2.4403333333333332, 2.3866666666666667, 2.5860000000000003, 1.7696666666666665, 2.582333333333333, 2.252333333333333, 2.7699999999999996, 2.497666666666667, 2.832666666666667, 2.6333333333333333, 2.738, 2.872666666666667, 3.001, 2.9890000000000003, 2.436, 2.5116666666666667, 2.7099999999999995, 2.2903333333333333, 2.7146666666666666, 2.441333333333334, 2.598666666666667, 2.501, 2.9416666666666664, 2.8539999999999996, 3.392, 3.0656666666666665, 2.6296666666666666, 2.2466666666666666, 2.412333333333333, 2.7533333333333334, 2.7416666666666667, 3.2560000000000002, 2.731, 2.9766666666666666, 2.904, 3.1223333333333336, 3.512, 2.8926666666666665, 3.4173333333333336, 2.2656666666666667, 3.128, 3.1653333333333333, 3.373333333333333, 2.6433333333333335, 3.3866666666666667, 3.241, 2.892, 3.1613333333333333, 3.279, 3.7076666666666664, 3.297333333333333, 3.3706666666666667, 3.301666666666667, 3.3806666666666665, 3.5096666666666665, 2.7763333333333335, 3.191333333333333, 3.176666666666667, 3.359, 3.142333333333333, 2.752333333333333, 2.932666666666666, 3.368, 3.5303333333333335, 2.9006666666666665, 3.285, 2.9483333333333337, 3.312, 3.6970000000000005, 3.3529999999999998, 3.59, 3.369666666666667, 3.546333333333333, 3.557, 3.1223333333333336, 3.2213333333333334, 3.054, 3.176666666666667, 2.946, 2.8753333333333337, 3.3640000000000003, 3.2336666666666667, 2.7563333333333335, 3.5893333333333337, 2.7976666666666667, 3.373666666666667, 3.1986666666666665, 3.2373333333333334, 3.300333333333333, 3.3733333333333335, 3.5413333333333337, 4.108333333333333, 3.388666666666667, 3.696, 3.0730000000000004, 3.1663333333333328, 3.6856666666666666, 3.920666666666667, 3.7463333333333337, 3.589, 3.7703333333333333, 3.7660000000000005, 3.861666666666667, 3.6936666666666667, 3.3156666666666665, 4.1063333333333345, 3.7330000000000005, 3.782666666666666, 4.282333333333334, 4.267666666666667, 3.6656666666666666, 3.8543333333333334, 4.256, 4.399666666666666, 4.093666666666667, 4.202, 4.234333333333333, 4.441, 3.6016666666666666, 4.030333333333332, 4.142666666666666, 3.893333333333333, 3.629, 4.210333333333334, 4.027333333333334, 4.687666666666666], \"yaxis\": \"y\"}],\n",
              "                        {\"legend\": {\"tracegroupgap\": 0}, \"margin\": {\"t\": 60}, \"template\": {\"data\": {\"bar\": [{\"error_x\": {\"color\": \"#2a3f5f\"}, \"error_y\": {\"color\": \"#2a3f5f\"}, \"marker\": {\"line\": {\"color\": \"#E5ECF6\", \"width\": 0.5}}, \"type\": \"bar\"}], \"barpolar\": [{\"marker\": {\"line\": {\"color\": \"#E5ECF6\", \"width\": 0.5}}, \"type\": \"barpolar\"}], \"carpet\": [{\"aaxis\": {\"endlinecolor\": \"#2a3f5f\", \"gridcolor\": \"white\", \"linecolor\": \"white\", \"minorgridcolor\": \"white\", \"startlinecolor\": \"#2a3f5f\"}, \"baxis\": {\"endlinecolor\": \"#2a3f5f\", \"gridcolor\": \"white\", \"linecolor\": \"white\", \"minorgridcolor\": \"white\", \"startlinecolor\": \"#2a3f5f\"}, \"type\": \"carpet\"}], \"choropleth\": [{\"colorbar\": {\"outlinewidth\": 0, \"ticks\": \"\"}, \"type\": \"choropleth\"}], \"contour\": [{\"colorbar\": {\"outlinewidth\": 0, \"ticks\": \"\"}, \"colorscale\": [[0.0, \"#0d0887\"], [0.1111111111111111, \"#46039f\"], [0.2222222222222222, \"#7201a8\"], [0.3333333333333333, \"#9c179e\"], [0.4444444444444444, \"#bd3786\"], [0.5555555555555556, \"#d8576b\"], [0.6666666666666666, \"#ed7953\"], [0.7777777777777778, \"#fb9f3a\"], [0.8888888888888888, \"#fdca26\"], [1.0, \"#f0f921\"]], \"type\": \"contour\"}], \"contourcarpet\": [{\"colorbar\": {\"outlinewidth\": 0, \"ticks\": \"\"}, \"type\": \"contourcarpet\"}], \"heatmap\": [{\"colorbar\": {\"outlinewidth\": 0, \"ticks\": \"\"}, \"colorscale\": [[0.0, \"#0d0887\"], [0.1111111111111111, \"#46039f\"], [0.2222222222222222, \"#7201a8\"], [0.3333333333333333, \"#9c179e\"], [0.4444444444444444, \"#bd3786\"], [0.5555555555555556, \"#d8576b\"], [0.6666666666666666, \"#ed7953\"], [0.7777777777777778, \"#fb9f3a\"], [0.8888888888888888, \"#fdca26\"], [1.0, \"#f0f921\"]], \"type\": \"heatmap\"}], \"heatmapgl\": [{\"colorbar\": {\"outlinewidth\": 0, \"ticks\": \"\"}, \"colorscale\": [[0.0, \"#0d0887\"], [0.1111111111111111, \"#46039f\"], [0.2222222222222222, \"#7201a8\"], [0.3333333333333333, \"#9c179e\"], [0.4444444444444444, \"#bd3786\"], [0.5555555555555556, \"#d8576b\"], [0.6666666666666666, \"#ed7953\"], [0.7777777777777778, \"#fb9f3a\"], [0.8888888888888888, \"#fdca26\"], [1.0, \"#f0f921\"]], \"type\": \"heatmapgl\"}], \"histogram\": [{\"marker\": {\"colorbar\": {\"outlinewidth\": 0, \"ticks\": \"\"}}, \"type\": \"histogram\"}], \"histogram2d\": [{\"colorbar\": {\"outlinewidth\": 0, \"ticks\": \"\"}, \"colorscale\": [[0.0, \"#0d0887\"], [0.1111111111111111, \"#46039f\"], [0.2222222222222222, \"#7201a8\"], [0.3333333333333333, \"#9c179e\"], [0.4444444444444444, \"#bd3786\"], [0.5555555555555556, \"#d8576b\"], [0.6666666666666666, \"#ed7953\"], [0.7777777777777778, \"#fb9f3a\"], [0.8888888888888888, \"#fdca26\"], [1.0, \"#f0f921\"]], \"type\": \"histogram2d\"}], \"histogram2dcontour\": [{\"colorbar\": {\"outlinewidth\": 0, \"ticks\": \"\"}, \"colorscale\": [[0.0, \"#0d0887\"], [0.1111111111111111, \"#46039f\"], [0.2222222222222222, \"#7201a8\"], [0.3333333333333333, \"#9c179e\"], [0.4444444444444444, \"#bd3786\"], [0.5555555555555556, \"#d8576b\"], [0.6666666666666666, \"#ed7953\"], [0.7777777777777778, \"#fb9f3a\"], [0.8888888888888888, \"#fdca26\"], [1.0, \"#f0f921\"]], \"type\": \"histogram2dcontour\"}], \"mesh3d\": [{\"colorbar\": {\"outlinewidth\": 0, \"ticks\": \"\"}, \"type\": \"mesh3d\"}], \"parcoords\": [{\"line\": {\"colorbar\": {\"outlinewidth\": 0, \"ticks\": \"\"}}, \"type\": \"parcoords\"}], \"pie\": [{\"automargin\": true, \"type\": \"pie\"}], \"scatter\": [{\"marker\": {\"colorbar\": {\"outlinewidth\": 0, \"ticks\": \"\"}}, \"type\": \"scatter\"}], \"scatter3d\": [{\"line\": {\"colorbar\": {\"outlinewidth\": 0, \"ticks\": \"\"}}, \"marker\": {\"colorbar\": {\"outlinewidth\": 0, \"ticks\": \"\"}}, \"type\": \"scatter3d\"}], \"scattercarpet\": [{\"marker\": {\"colorbar\": {\"outlinewidth\": 0, \"ticks\": \"\"}}, \"type\": \"scattercarpet\"}], \"scattergeo\": [{\"marker\": {\"colorbar\": {\"outlinewidth\": 0, \"ticks\": \"\"}}, \"type\": \"scattergeo\"}], \"scattergl\": [{\"marker\": {\"colorbar\": {\"outlinewidth\": 0, \"ticks\": \"\"}}, \"type\": \"scattergl\"}], \"scattermapbox\": [{\"marker\": {\"colorbar\": {\"outlinewidth\": 0, \"ticks\": \"\"}}, \"type\": \"scattermapbox\"}], \"scatterpolar\": [{\"marker\": {\"colorbar\": {\"outlinewidth\": 0, \"ticks\": \"\"}}, \"type\": \"scatterpolar\"}], \"scatterpolargl\": [{\"marker\": {\"colorbar\": {\"outlinewidth\": 0, \"ticks\": \"\"}}, \"type\": \"scatterpolargl\"}], \"scatterternary\": [{\"marker\": {\"colorbar\": {\"outlinewidth\": 0, \"ticks\": \"\"}}, \"type\": \"scatterternary\"}], \"surface\": [{\"colorbar\": {\"outlinewidth\": 0, \"ticks\": \"\"}, \"colorscale\": [[0.0, \"#0d0887\"], [0.1111111111111111, \"#46039f\"], [0.2222222222222222, \"#7201a8\"], [0.3333333333333333, \"#9c179e\"], [0.4444444444444444, \"#bd3786\"], [0.5555555555555556, \"#d8576b\"], [0.6666666666666666, \"#ed7953\"], [0.7777777777777778, \"#fb9f3a\"], [0.8888888888888888, \"#fdca26\"], [1.0, \"#f0f921\"]], \"type\": \"surface\"}], \"table\": [{\"cells\": {\"fill\": {\"color\": \"#EBF0F8\"}, \"line\": {\"color\": \"white\"}}, \"header\": {\"fill\": {\"color\": \"#C8D4E3\"}, \"line\": {\"color\": \"white\"}}, \"type\": \"table\"}]}, \"layout\": {\"annotationdefaults\": {\"arrowcolor\": \"#2a3f5f\", \"arrowhead\": 0, \"arrowwidth\": 1}, \"coloraxis\": {\"colorbar\": {\"outlinewidth\": 0, \"ticks\": \"\"}}, \"colorscale\": {\"diverging\": [[0, \"#8e0152\"], [0.1, \"#c51b7d\"], [0.2, \"#de77ae\"], [0.3, \"#f1b6da\"], [0.4, \"#fde0ef\"], [0.5, \"#f7f7f7\"], [0.6, \"#e6f5d0\"], [0.7, \"#b8e186\"], [0.8, \"#7fbc41\"], [0.9, \"#4d9221\"], [1, \"#276419\"]], \"sequential\": [[0.0, \"#0d0887\"], [0.1111111111111111, \"#46039f\"], [0.2222222222222222, \"#7201a8\"], [0.3333333333333333, \"#9c179e\"], [0.4444444444444444, \"#bd3786\"], [0.5555555555555556, \"#d8576b\"], [0.6666666666666666, \"#ed7953\"], [0.7777777777777778, \"#fb9f3a\"], [0.8888888888888888, \"#fdca26\"], [1.0, \"#f0f921\"]], \"sequentialminus\": [[0.0, \"#0d0887\"], [0.1111111111111111, \"#46039f\"], [0.2222222222222222, \"#7201a8\"], [0.3333333333333333, \"#9c179e\"], [0.4444444444444444, \"#bd3786\"], [0.5555555555555556, \"#d8576b\"], [0.6666666666666666, \"#ed7953\"], [0.7777777777777778, \"#fb9f3a\"], [0.8888888888888888, \"#fdca26\"], [1.0, \"#f0f921\"]]}, \"colorway\": [\"#636efa\", \"#EF553B\", \"#00cc96\", \"#ab63fa\", \"#FFA15A\", \"#19d3f3\", \"#FF6692\", \"#B6E880\", \"#FF97FF\", \"#FECB52\"], \"font\": {\"color\": \"#2a3f5f\"}, \"geo\": {\"bgcolor\": \"white\", \"lakecolor\": \"white\", \"landcolor\": \"#E5ECF6\", \"showlakes\": true, \"showland\": true, \"subunitcolor\": \"white\"}, \"hoverlabel\": {\"align\": \"left\"}, \"hovermode\": \"closest\", \"mapbox\": {\"style\": \"light\"}, \"paper_bgcolor\": \"white\", \"plot_bgcolor\": \"#E5ECF6\", \"polar\": {\"angularaxis\": {\"gridcolor\": \"white\", \"linecolor\": \"white\", \"ticks\": \"\"}, \"bgcolor\": \"#E5ECF6\", \"radialaxis\": {\"gridcolor\": \"white\", \"linecolor\": \"white\", \"ticks\": \"\"}}, \"scene\": {\"xaxis\": {\"backgroundcolor\": \"#E5ECF6\", \"gridcolor\": \"white\", \"gridwidth\": 2, \"linecolor\": \"white\", \"showbackground\": true, \"ticks\": \"\", \"zerolinecolor\": \"white\"}, \"yaxis\": {\"backgroundcolor\": \"#E5ECF6\", \"gridcolor\": \"white\", \"gridwidth\": 2, \"linecolor\": \"white\", \"showbackground\": true, \"ticks\": \"\", \"zerolinecolor\": \"white\"}, \"zaxis\": {\"backgroundcolor\": \"#E5ECF6\", \"gridcolor\": \"white\", \"gridwidth\": 2, \"linecolor\": \"white\", \"showbackground\": true, \"ticks\": \"\", \"zerolinecolor\": \"white\"}}, \"shapedefaults\": {\"line\": {\"color\": \"#2a3f5f\"}}, \"ternary\": {\"aaxis\": {\"gridcolor\": \"white\", \"linecolor\": \"white\", \"ticks\": \"\"}, \"baxis\": {\"gridcolor\": \"white\", \"linecolor\": \"white\", \"ticks\": \"\"}, \"bgcolor\": \"#E5ECF6\", \"caxis\": {\"gridcolor\": \"white\", \"linecolor\": \"white\", \"ticks\": \"\"}}, \"title\": {\"x\": 0.05}, \"xaxis\": {\"automargin\": true, \"gridcolor\": \"white\", \"linecolor\": \"white\", \"ticks\": \"\", \"title\": {\"standoff\": 15}, \"zerolinecolor\": \"white\", \"zerolinewidth\": 2}, \"yaxis\": {\"automargin\": true, \"gridcolor\": \"white\", \"linecolor\": \"white\", \"ticks\": \"\", \"title\": {\"standoff\": 15}, \"zerolinecolor\": \"white\", \"zerolinewidth\": 2}}}, \"xaxis\": {\"anchor\": \"y\", \"domain\": [0.0, 1.0], \"title\": {\"text\": \"year\"}}, \"yaxis\": {\"anchor\": \"x\", \"domain\": [0.0, 1.0], \"title\": {\"text\": \"winter_temps\"}}},\n",
              "                        {\"responsive\": true}\n",
              "                    ).then(function(){\n",
              "                            \n",
              "var gd = document.getElementById('d379c314-afbe-45fd-9f46-2d86f68dbbd3');\n",
              "var x = new MutationObserver(function (mutations, observer) {{\n",
              "        var display = window.getComputedStyle(gd).display;\n",
              "        if (!display || display === 'none') {{\n",
              "            console.log([gd, 'removed!']);\n",
              "            Plotly.purge(gd);\n",
              "            observer.disconnect();\n",
              "        }}\n",
              "}});\n",
              "\n",
              "// Listen for the removal of the full notebook cells\n",
              "var notebookContainer = gd.closest('#notebook-container');\n",
              "if (notebookContainer) {{\n",
              "    x.observe(notebookContainer, {childList: true});\n",
              "}}\n",
              "\n",
              "// Listen for the clearing of the current output cell\n",
              "var outputEl = gd.closest('.output');\n",
              "if (outputEl) {{\n",
              "    x.observe(outputEl, {childList: true});\n",
              "}}\n",
              "\n",
              "                        })\n",
              "                };\n",
              "                \n",
              "            </script>\n",
              "        </div>\n",
              "</body>\n",
              "</html>"
            ]
          },
          "metadata": {}
        }
      ]
    },
    {
      "cell_type": "markdown",
      "metadata": {
        "id": "__WczyVOKv1I"
      },
      "source": [
        "**Perform Data Pre-Processing on your data**"
      ]
    },
    {
      "cell_type": "code",
      "metadata": {
        "colab": {
          "base_uri": "https://localhost:8080/"
        },
        "id": "prDhA074K04E",
        "outputId": "48b43349-f281-46d0-b2c0-236fba8d772d"
      },
      "source": [
        "drive.mount('/content/drive')\n",
        "cities = pd.read_csv(\"/content/drive/My Drive/dataset/GlobalLandTemperaturesByCity.csv\")"
      ],
      "execution_count": 34,
      "outputs": [
        {
          "output_type": "stream",
          "name": "stdout",
          "text": [
            "Drive already mounted at /content/drive; to attempt to forcibly remount, call drive.mount(\"/content/drive\", force_remount=True).\n"
          ]
        }
      ]
    },
    {
      "cell_type": "code",
      "metadata": {
        "colab": {
          "base_uri": "https://localhost:8080/",
          "height": 204
        },
        "id": "eEvg68nnLete",
        "outputId": "dd9986d0-0937-40ea-9176-f674776d3a1b"
      },
      "source": [
        "cities.head()"
      ],
      "execution_count": 33,
      "outputs": [
        {
          "output_type": "execute_result",
          "data": {
            "text/html": [
              "<div>\n",
              "<style scoped>\n",
              "    .dataframe tbody tr th:only-of-type {\n",
              "        vertical-align: middle;\n",
              "    }\n",
              "\n",
              "    .dataframe tbody tr th {\n",
              "        vertical-align: top;\n",
              "    }\n",
              "\n",
              "    .dataframe thead th {\n",
              "        text-align: right;\n",
              "    }\n",
              "</style>\n",
              "<table border=\"1\" class=\"dataframe\">\n",
              "  <thead>\n",
              "    <tr style=\"text-align: right;\">\n",
              "      <th></th>\n",
              "      <th>dt</th>\n",
              "      <th>AverageTemperature</th>\n",
              "      <th>AverageTemperatureUncertainty</th>\n",
              "      <th>City</th>\n",
              "      <th>Country</th>\n",
              "      <th>Latitude</th>\n",
              "      <th>Longitude</th>\n",
              "    </tr>\n",
              "  </thead>\n",
              "  <tbody>\n",
              "    <tr>\n",
              "      <th>0</th>\n",
              "      <td>1743-11-01</td>\n",
              "      <td>6.068</td>\n",
              "      <td>1.737</td>\n",
              "      <td>Århus</td>\n",
              "      <td>Denmark</td>\n",
              "      <td>57.05N</td>\n",
              "      <td>10.33E</td>\n",
              "    </tr>\n",
              "    <tr>\n",
              "      <th>1</th>\n",
              "      <td>1743-12-01</td>\n",
              "      <td>NaN</td>\n",
              "      <td>NaN</td>\n",
              "      <td>Århus</td>\n",
              "      <td>Denmark</td>\n",
              "      <td>57.05N</td>\n",
              "      <td>10.33E</td>\n",
              "    </tr>\n",
              "    <tr>\n",
              "      <th>2</th>\n",
              "      <td>1744-01-01</td>\n",
              "      <td>NaN</td>\n",
              "      <td>NaN</td>\n",
              "      <td>Århus</td>\n",
              "      <td>Denmark</td>\n",
              "      <td>57.05N</td>\n",
              "      <td>10.33E</td>\n",
              "    </tr>\n",
              "    <tr>\n",
              "      <th>3</th>\n",
              "      <td>1744-02-01</td>\n",
              "      <td>NaN</td>\n",
              "      <td>NaN</td>\n",
              "      <td>Århus</td>\n",
              "      <td>Denmark</td>\n",
              "      <td>57.05N</td>\n",
              "      <td>10.33E</td>\n",
              "    </tr>\n",
              "    <tr>\n",
              "      <th>4</th>\n",
              "      <td>1744-03-01</td>\n",
              "      <td>NaN</td>\n",
              "      <td>NaN</td>\n",
              "      <td>Århus</td>\n",
              "      <td>Denmark</td>\n",
              "      <td>57.05N</td>\n",
              "      <td>10.33E</td>\n",
              "    </tr>\n",
              "  </tbody>\n",
              "</table>\n",
              "</div>"
            ],
            "text/plain": [
              "           dt  AverageTemperature  ...  Latitude Longitude\n",
              "0  1743-11-01               6.068  ...    57.05N    10.33E\n",
              "1  1743-12-01                 NaN  ...    57.05N    10.33E\n",
              "2  1744-01-01                 NaN  ...    57.05N    10.33E\n",
              "3  1744-02-01                 NaN  ...    57.05N    10.33E\n",
              "4  1744-03-01                 NaN  ...    57.05N    10.33E\n",
              "\n",
              "[5 rows x 7 columns]"
            ]
          },
          "metadata": {},
          "execution_count": 33
        }
      ]
    },
    {
      "cell_type": "code",
      "metadata": {
        "colab": {
          "base_uri": "https://localhost:8080/"
        },
        "id": "qhG-DUlFLqwV",
        "outputId": "718da46d-a79e-4956-a0f0-18b0d0c71086"
      },
      "source": [
        "cities.shape"
      ],
      "execution_count": 35,
      "outputs": [
        {
          "output_type": "execute_result",
          "data": {
            "text/plain": [
              "(8599212, 7)"
            ]
          },
          "metadata": {},
          "execution_count": 35
        }
      ]
    },
    {
      "cell_type": "code",
      "metadata": {
        "id": "RT8DZH1VLt5J"
      },
      "source": [
        "#Data USA\n",
        "usa = cities[cities['Country']=='United States']"
      ],
      "execution_count": 40,
      "outputs": []
    },
    {
      "cell_type": "code",
      "metadata": {
        "colab": {
          "base_uri": "https://localhost:8080/"
        },
        "id": "jOD5t21eMFvb",
        "outputId": "aa97a77d-f3fd-4f49-b7ef-516f0e8df9ca"
      },
      "source": [
        "usa.shape"
      ],
      "execution_count": 41,
      "outputs": [
        {
          "output_type": "execute_result",
          "data": {
            "text/plain": [
              "(687289, 7)"
            ]
          },
          "metadata": {},
          "execution_count": 41
        }
      ]
    },
    {
      "cell_type": "code",
      "metadata": {
        "id": "34nJw0TlMUZ7"
      },
      "source": [
        "#Filter untuk 2 kota\n",
        "data = ['New York', 'Los Angeles', 'San Francisco']"
      ],
      "execution_count": 44,
      "outputs": []
    },
    {
      "cell_type": "code",
      "metadata": {
        "colab": {
          "base_uri": "https://localhost:8080/",
          "height": 204
        },
        "id": "L3cvBRWiMmnE",
        "outputId": "7c0ba921-36f2-468c-ab8e-402b14dc8d71"
      },
      "source": [
        "data2 = usa[usa['City'].isin(data)]\n",
        "data2.head()"
      ],
      "execution_count": 43,
      "outputs": [
        {
          "output_type": "execute_result",
          "data": {
            "text/html": [
              "<div>\n",
              "<style scoped>\n",
              "    .dataframe tbody tr th:only-of-type {\n",
              "        vertical-align: middle;\n",
              "    }\n",
              "\n",
              "    .dataframe tbody tr th {\n",
              "        vertical-align: top;\n",
              "    }\n",
              "\n",
              "    .dataframe thead th {\n",
              "        text-align: right;\n",
              "    }\n",
              "</style>\n",
              "<table border=\"1\" class=\"dataframe\">\n",
              "  <thead>\n",
              "    <tr style=\"text-align: right;\">\n",
              "      <th></th>\n",
              "      <th>dt</th>\n",
              "      <th>AverageTemperature</th>\n",
              "      <th>AverageTemperatureUncertainty</th>\n",
              "      <th>City</th>\n",
              "      <th>Country</th>\n",
              "      <th>Latitude</th>\n",
              "      <th>Longitude</th>\n",
              "    </tr>\n",
              "  </thead>\n",
              "  <tbody>\n",
              "    <tr>\n",
              "      <th>4356748</th>\n",
              "      <td>1849-01-01</td>\n",
              "      <td>8.819</td>\n",
              "      <td>2.558</td>\n",
              "      <td>Los Angeles</td>\n",
              "      <td>United States</td>\n",
              "      <td>34.56N</td>\n",
              "      <td>118.70W</td>\n",
              "    </tr>\n",
              "    <tr>\n",
              "      <th>4356749</th>\n",
              "      <td>1849-02-01</td>\n",
              "      <td>9.577</td>\n",
              "      <td>1.970</td>\n",
              "      <td>Los Angeles</td>\n",
              "      <td>United States</td>\n",
              "      <td>34.56N</td>\n",
              "      <td>118.70W</td>\n",
              "    </tr>\n",
              "    <tr>\n",
              "      <th>4356750</th>\n",
              "      <td>1849-03-01</td>\n",
              "      <td>11.814</td>\n",
              "      <td>2.173</td>\n",
              "      <td>Los Angeles</td>\n",
              "      <td>United States</td>\n",
              "      <td>34.56N</td>\n",
              "      <td>118.70W</td>\n",
              "    </tr>\n",
              "    <tr>\n",
              "      <th>4356751</th>\n",
              "      <td>1849-04-01</td>\n",
              "      <td>13.704</td>\n",
              "      <td>2.902</td>\n",
              "      <td>Los Angeles</td>\n",
              "      <td>United States</td>\n",
              "      <td>34.56N</td>\n",
              "      <td>118.70W</td>\n",
              "    </tr>\n",
              "    <tr>\n",
              "      <th>4356752</th>\n",
              "      <td>1849-05-01</td>\n",
              "      <td>14.834</td>\n",
              "      <td>2.017</td>\n",
              "      <td>Los Angeles</td>\n",
              "      <td>United States</td>\n",
              "      <td>34.56N</td>\n",
              "      <td>118.70W</td>\n",
              "    </tr>\n",
              "  </tbody>\n",
              "</table>\n",
              "</div>"
            ],
            "text/plain": [
              "                 dt  AverageTemperature  ...  Latitude Longitude\n",
              "4356748  1849-01-01               8.819  ...    34.56N   118.70W\n",
              "4356749  1849-02-01               9.577  ...    34.56N   118.70W\n",
              "4356750  1849-03-01              11.814  ...    34.56N   118.70W\n",
              "4356751  1849-04-01              13.704  ...    34.56N   118.70W\n",
              "4356752  1849-05-01              14.834  ...    34.56N   118.70W\n",
              "\n",
              "[5 rows x 7 columns]"
            ]
          },
          "metadata": {},
          "execution_count": 43
        }
      ]
    },
    {
      "cell_type": "code",
      "metadata": {
        "id": "8l75fMP_NUS0"
      },
      "source": [
        "#Filter untuk membuat dataframe yang kolom dt dan AverageTemperature\n",
        "data2 = data2[['dt','AverageTemperature']]"
      ],
      "execution_count": 46,
      "outputs": []
    },
    {
      "cell_type": "code",
      "metadata": {
        "colab": {
          "base_uri": "https://localhost:8080/",
          "height": 204
        },
        "id": "XMrg5VUzNlNO",
        "outputId": "71b6ed5c-1b8b-4c9e-ca4a-c472a1bb7190"
      },
      "source": [
        "data2.head()"
      ],
      "execution_count": 47,
      "outputs": [
        {
          "output_type": "execute_result",
          "data": {
            "text/html": [
              "<div>\n",
              "<style scoped>\n",
              "    .dataframe tbody tr th:only-of-type {\n",
              "        vertical-align: middle;\n",
              "    }\n",
              "\n",
              "    .dataframe tbody tr th {\n",
              "        vertical-align: top;\n",
              "    }\n",
              "\n",
              "    .dataframe thead th {\n",
              "        text-align: right;\n",
              "    }\n",
              "</style>\n",
              "<table border=\"1\" class=\"dataframe\">\n",
              "  <thead>\n",
              "    <tr style=\"text-align: right;\">\n",
              "      <th></th>\n",
              "      <th>dt</th>\n",
              "      <th>AverageTemperature</th>\n",
              "    </tr>\n",
              "  </thead>\n",
              "  <tbody>\n",
              "    <tr>\n",
              "      <th>4356748</th>\n",
              "      <td>1849-01-01</td>\n",
              "      <td>8.819</td>\n",
              "    </tr>\n",
              "    <tr>\n",
              "      <th>4356749</th>\n",
              "      <td>1849-02-01</td>\n",
              "      <td>9.577</td>\n",
              "    </tr>\n",
              "    <tr>\n",
              "      <th>4356750</th>\n",
              "      <td>1849-03-01</td>\n",
              "      <td>11.814</td>\n",
              "    </tr>\n",
              "    <tr>\n",
              "      <th>4356751</th>\n",
              "      <td>1849-04-01</td>\n",
              "      <td>13.704</td>\n",
              "    </tr>\n",
              "    <tr>\n",
              "      <th>4356752</th>\n",
              "      <td>1849-05-01</td>\n",
              "      <td>14.834</td>\n",
              "    </tr>\n",
              "  </tbody>\n",
              "</table>\n",
              "</div>"
            ],
            "text/plain": [
              "                 dt  AverageTemperature\n",
              "4356748  1849-01-01               8.819\n",
              "4356749  1849-02-01               9.577\n",
              "4356750  1849-03-01              11.814\n",
              "4356751  1849-04-01              13.704\n",
              "4356752  1849-05-01              14.834"
            ]
          },
          "metadata": {},
          "execution_count": 47
        }
      ]
    },
    {
      "cell_type": "code",
      "metadata": {
        "id": "S--yuHtBPfbg"
      },
      "source": [
        "data2.columns = ['Date','Temp']"
      ],
      "execution_count": 56,
      "outputs": []
    },
    {
      "cell_type": "code",
      "metadata": {
        "colab": {
          "base_uri": "https://localhost:8080/",
          "height": 204
        },
        "id": "kdPbQFXqPkwL",
        "outputId": "544e52f5-e025-45f2-a133-c33957fd3570"
      },
      "source": [
        "data2.head()"
      ],
      "execution_count": 57,
      "outputs": [
        {
          "output_type": "execute_result",
          "data": {
            "text/html": [
              "<div>\n",
              "<style scoped>\n",
              "    .dataframe tbody tr th:only-of-type {\n",
              "        vertical-align: middle;\n",
              "    }\n",
              "\n",
              "    .dataframe tbody tr th {\n",
              "        vertical-align: top;\n",
              "    }\n",
              "\n",
              "    .dataframe thead th {\n",
              "        text-align: right;\n",
              "    }\n",
              "</style>\n",
              "<table border=\"1\" class=\"dataframe\">\n",
              "  <thead>\n",
              "    <tr style=\"text-align: right;\">\n",
              "      <th></th>\n",
              "      <th>Date</th>\n",
              "      <th>Temp</th>\n",
              "    </tr>\n",
              "  </thead>\n",
              "  <tbody>\n",
              "    <tr>\n",
              "      <th>4356748</th>\n",
              "      <td>1849-01-01</td>\n",
              "      <td>8.819</td>\n",
              "    </tr>\n",
              "    <tr>\n",
              "      <th>4356749</th>\n",
              "      <td>1849-02-01</td>\n",
              "      <td>9.577</td>\n",
              "    </tr>\n",
              "    <tr>\n",
              "      <th>4356750</th>\n",
              "      <td>1849-03-01</td>\n",
              "      <td>11.814</td>\n",
              "    </tr>\n",
              "    <tr>\n",
              "      <th>4356751</th>\n",
              "      <td>1849-04-01</td>\n",
              "      <td>13.704</td>\n",
              "    </tr>\n",
              "    <tr>\n",
              "      <th>4356752</th>\n",
              "      <td>1849-05-01</td>\n",
              "      <td>14.834</td>\n",
              "    </tr>\n",
              "  </tbody>\n",
              "</table>\n",
              "</div>"
            ],
            "text/plain": [
              "              Date    Temp\n",
              "4356748 1849-01-01   8.819\n",
              "4356749 1849-02-01   9.577\n",
              "4356750 1849-03-01  11.814\n",
              "4356751 1849-04-01  13.704\n",
              "4356752 1849-05-01  14.834"
            ]
          },
          "metadata": {},
          "execution_count": 57
        }
      ]
    },
    {
      "cell_type": "code",
      "metadata": {
        "id": "aOLElAB-ODFP"
      },
      "source": [
        "#Mengubah tipe data dt menjadi datetime\n",
        "data2['Date'] = pd.to_datetime(data2['Date'])"
      ],
      "execution_count": 60,
      "outputs": []
    },
    {
      "cell_type": "code",
      "metadata": {
        "colab": {
          "base_uri": "https://localhost:8080/"
        },
        "id": "lVyGnpbmOMi5",
        "outputId": "034d25e1-42f4-480b-d36b-d7acb92d451f"
      },
      "source": [
        "data2.dtypes"
      ],
      "execution_count": 61,
      "outputs": [
        {
          "output_type": "execute_result",
          "data": {
            "text/plain": [
              "Date    datetime64[ns]\n",
              "Temp           float64\n",
              "dtype: object"
            ]
          },
          "metadata": {},
          "execution_count": 61
        }
      ]
    },
    {
      "cell_type": "code",
      "metadata": {
        "id": "5I01M3-KOZVV"
      },
      "source": [
        "#Menghapus Missing Value\n",
        "data2.dropna(inplace=True)"
      ],
      "execution_count": 52,
      "outputs": []
    },
    {
      "cell_type": "code",
      "metadata": {
        "colab": {
          "base_uri": "https://localhost:8080/"
        },
        "id": "7mao_S8FOiCj",
        "outputId": "b409f5e6-3625-406a-d385-42f98af6a769"
      },
      "source": [
        "data2.isna().sum()"
      ],
      "execution_count": 63,
      "outputs": [
        {
          "output_type": "execute_result",
          "data": {
            "text/plain": [
              "Date    0\n",
              "Temp    0\n",
              "dtype: int64"
            ]
          },
          "metadata": {},
          "execution_count": 63
        }
      ]
    },
    {
      "cell_type": "code",
      "metadata": {
        "colab": {
          "base_uri": "https://localhost:8080/"
        },
        "id": "RZzPR8vnO3S_",
        "outputId": "af549e06-4adb-4407-eaba-8028b3754561"
      },
      "source": [
        "data2.shape"
      ],
      "execution_count": 64,
      "outputs": [
        {
          "output_type": "execute_result",
          "data": {
            "text/plain": [
              "(7073, 2)"
            ]
          },
          "metadata": {},
          "execution_count": 64
        }
      ]
    },
    {
      "cell_type": "code",
      "metadata": {
        "id": "DjvwODD3PHt1"
      },
      "source": [
        "#Memperbaharui index data\n",
        "data2.set_index('Date',inplace=True)"
      ],
      "execution_count": 65,
      "outputs": []
    },
    {
      "cell_type": "code",
      "metadata": {
        "colab": {
          "base_uri": "https://localhost:8080/",
          "height": 235
        },
        "id": "VjBOXtQuP4bg",
        "outputId": "034543df-36bc-43f7-cdc9-43695502c08a"
      },
      "source": [
        "data2.head()"
      ],
      "execution_count": 67,
      "outputs": [
        {
          "output_type": "execute_result",
          "data": {
            "text/html": [
              "<div>\n",
              "<style scoped>\n",
              "    .dataframe tbody tr th:only-of-type {\n",
              "        vertical-align: middle;\n",
              "    }\n",
              "\n",
              "    .dataframe tbody tr th {\n",
              "        vertical-align: top;\n",
              "    }\n",
              "\n",
              "    .dataframe thead th {\n",
              "        text-align: right;\n",
              "    }\n",
              "</style>\n",
              "<table border=\"1\" class=\"dataframe\">\n",
              "  <thead>\n",
              "    <tr style=\"text-align: right;\">\n",
              "      <th></th>\n",
              "      <th>Temp</th>\n",
              "    </tr>\n",
              "    <tr>\n",
              "      <th>Date</th>\n",
              "      <th></th>\n",
              "    </tr>\n",
              "  </thead>\n",
              "  <tbody>\n",
              "    <tr>\n",
              "      <th>1849-01-01</th>\n",
              "      <td>8.819</td>\n",
              "    </tr>\n",
              "    <tr>\n",
              "      <th>1849-02-01</th>\n",
              "      <td>9.577</td>\n",
              "    </tr>\n",
              "    <tr>\n",
              "      <th>1849-03-01</th>\n",
              "      <td>11.814</td>\n",
              "    </tr>\n",
              "    <tr>\n",
              "      <th>1849-04-01</th>\n",
              "      <td>13.704</td>\n",
              "    </tr>\n",
              "    <tr>\n",
              "      <th>1849-05-01</th>\n",
              "      <td>14.834</td>\n",
              "    </tr>\n",
              "  </tbody>\n",
              "</table>\n",
              "</div>"
            ],
            "text/plain": [
              "              Temp\n",
              "Date              \n",
              "1849-01-01   8.819\n",
              "1849-02-01   9.577\n",
              "1849-03-01  11.814\n",
              "1849-04-01  13.704\n",
              "1849-05-01  14.834"
            ]
          },
          "metadata": {},
          "execution_count": 67
        }
      ]
    },
    {
      "cell_type": "markdown",
      "metadata": {
        "id": "2d846OyoRP4H"
      },
      "source": [
        "**How to check Whether Data is\n",
        "Stationery or not**"
      ]
    },
    {
      "cell_type": "code",
      "metadata": {
        "colab": {
          "base_uri": "https://localhost:8080/",
          "height": 623
        },
        "id": "8np3_ImdRQ-Y",
        "outputId": "d63e9022-be19-415d-c181-103ebbf5432a"
      },
      "source": [
        "plt.figure(figsize=(20,10))\n",
        "\n",
        "import seaborn as sns\n",
        "sns.lineplot(x=data2.index, y=data2['Temp'])"
      ],
      "execution_count": 70,
      "outputs": [
        {
          "output_type": "execute_result",
          "data": {
            "text/plain": [
              "<matplotlib.axes._subplots.AxesSubplot at 0x7f1328288410>"
            ]
          },
          "metadata": {},
          "execution_count": 70
        },
        {
          "output_type": "display_data",
          "data": {
            "image/png": "[encoded data removed]",
            "text/plain": [
              "<Figure size 1440x720 with 1 Axes>"
            ]
          },
          "metadata": {
            "needs_background": "light"
          }
        }
      ]
    },
    {
      "cell_type": "code",
      "metadata": {
        "id": "cfUXJFB9SIbH"
      },
      "source": [
        "from statsmodels.tsa.stattools import adfuller"
      ],
      "execution_count": 71,
      "outputs": []
    },
    {
      "cell_type": "code",
      "metadata": {
        "colab": {
          "base_uri": "https://localhost:8080/"
        },
        "id": "am4Hx5uXTMJl",
        "outputId": "f97e105e-5078-4694-e22f-f4e56bce2d31"
      },
      "source": [
        "adfuller(data2['Temp'])"
      ],
      "execution_count": 72,
      "outputs": [
        {
          "output_type": "execute_result",
          "data": {
            "text/plain": [
              "(-2.0063893036757956,\n",
              " 0.28377865833332594,\n",
              " 35,\n",
              " 7037,\n",
              " {'1%': -3.431279613044704,\n",
              "  '10%': -2.5669886726127307,\n",
              "  '5%': -2.8619508146206374},\n",
              " 28011.222669408726)"
            ]
          },
          "metadata": {},
          "execution_count": 72
        }
      ]
    },
    {
      "cell_type": "code",
      "metadata": {
        "id": "iokxPMEmU6uk"
      },
      "source": [
        "def adfuller_test(Temp):\n",
        "  result = adfuller(Temp)\n",
        "  labels = ['ADF Test stats','p-value','flags used','no of observation used']\n",
        "\n",
        "  for value,label in zip(result,labels):\n",
        "    print('{} : {}'.format(label,value))\n",
        "  \n",
        "  if result[1]<=0.05:\n",
        "    print('Strong Evidence Against the null hypo, hence we can reject the null hypo and data is stationery')\n",
        "  else :\n",
        "    print('Weak Evidence Against the null hypo, hence we have failed to reject the null hypo and data is not stationery')"
      ],
      "execution_count": 73,
      "outputs": []
    },
    {
      "cell_type": "code",
      "metadata": {
        "colab": {
          "base_uri": "https://localhost:8080/"
        },
        "id": "pqYyj1LIWwLp",
        "outputId": "088c2e44-6aba-43f9-bc2b-056ea076deb0"
      },
      "source": [
        "adfuller_test(data2['Temp'])"
      ],
      "execution_count": 74,
      "outputs": [
        {
          "output_type": "stream",
          "name": "stdout",
          "text": [
            "ADF Test stats : -2.0063893036757956\n",
            "p-value : 0.28377865833332594\n",
            "flags used : 35\n",
            "no of observation used : 7037\n",
            "Weak Evidence Against the null hypo, hence we have failed to reject the null hypo and data is not stationery\n"
          ]
        }
      ]
    },
    {
      "cell_type": "markdown",
      "metadata": {
        "id": "TozwKnv2XJWf"
      },
      "source": [
        "**How to make your Data Stationary ?**"
      ]
    },
    {
      "cell_type": "code",
      "metadata": {
        "id": "jHu4DGeYXMws"
      },
      "source": [
        "#Membuat backup DataFrame\n",
        "df = data2.copy()"
      ],
      "execution_count": 75,
      "outputs": []
    },
    {
      "cell_type": "code",
      "metadata": {
        "colab": {
          "base_uri": "https://localhost:8080/",
          "height": 235
        },
        "id": "YkAColeiXsPN",
        "outputId": "6d13d254-8722-431c-ab86-2a9e9be63edb"
      },
      "source": [
        "df.head()"
      ],
      "execution_count": 76,
      "outputs": [
        {
          "output_type": "execute_result",
          "data": {
            "text/html": [
              "<div>\n",
              "<style scoped>\n",
              "    .dataframe tbody tr th:only-of-type {\n",
              "        vertical-align: middle;\n",
              "    }\n",
              "\n",
              "    .dataframe tbody tr th {\n",
              "        vertical-align: top;\n",
              "    }\n",
              "\n",
              "    .dataframe thead th {\n",
              "        text-align: right;\n",
              "    }\n",
              "</style>\n",
              "<table border=\"1\" class=\"dataframe\">\n",
              "  <thead>\n",
              "    <tr style=\"text-align: right;\">\n",
              "      <th></th>\n",
              "      <th>Temp</th>\n",
              "    </tr>\n",
              "    <tr>\n",
              "      <th>Date</th>\n",
              "      <th></th>\n",
              "    </tr>\n",
              "  </thead>\n",
              "  <tbody>\n",
              "    <tr>\n",
              "      <th>1849-01-01</th>\n",
              "      <td>8.819</td>\n",
              "    </tr>\n",
              "    <tr>\n",
              "      <th>1849-02-01</th>\n",
              "      <td>9.577</td>\n",
              "    </tr>\n",
              "    <tr>\n",
              "      <th>1849-03-01</th>\n",
              "      <td>11.814</td>\n",
              "    </tr>\n",
              "    <tr>\n",
              "      <th>1849-04-01</th>\n",
              "      <td>13.704</td>\n",
              "    </tr>\n",
              "    <tr>\n",
              "      <th>1849-05-01</th>\n",
              "      <td>14.834</td>\n",
              "    </tr>\n",
              "  </tbody>\n",
              "</table>\n",
              "</div>"
            ],
            "text/plain": [
              "              Temp\n",
              "Date              \n",
              "1849-01-01   8.819\n",
              "1849-02-01   9.577\n",
              "1849-03-01  11.814\n",
              "1849-04-01  13.704\n",
              "1849-05-01  14.834"
            ]
          },
          "metadata": {},
          "execution_count": 76
        }
      ]
    },
    {
      "cell_type": "code",
      "metadata": {
        "id": "0qzMMET2XuPi"
      },
      "source": [
        "df['first_diff_temp'] = df['Temp'] - df['Temp'].shift(12)"
      ],
      "execution_count": 77,
      "outputs": []
    },
    {
      "cell_type": "code",
      "metadata": {
        "colab": {
          "base_uri": "https://localhost:8080/",
          "height": 700
        },
        "id": "gdiaky7hZI3j",
        "outputId": "0e40a181-af7b-4d1a-8981-3c2b18faac02"
      },
      "source": [
        "df.head(20)"
      ],
      "execution_count": 78,
      "outputs": [
        {
          "output_type": "execute_result",
          "data": {
            "text/html": [
              "<div>\n",
              "<style scoped>\n",
              "    .dataframe tbody tr th:only-of-type {\n",
              "        vertical-align: middle;\n",
              "    }\n",
              "\n",
              "    .dataframe tbody tr th {\n",
              "        vertical-align: top;\n",
              "    }\n",
              "\n",
              "    .dataframe thead th {\n",
              "        text-align: right;\n",
              "    }\n",
              "</style>\n",
              "<table border=\"1\" class=\"dataframe\">\n",
              "  <thead>\n",
              "    <tr style=\"text-align: right;\">\n",
              "      <th></th>\n",
              "      <th>Temp</th>\n",
              "      <th>first_diff_temp</th>\n",
              "    </tr>\n",
              "    <tr>\n",
              "      <th>Date</th>\n",
              "      <th></th>\n",
              "      <th></th>\n",
              "    </tr>\n",
              "  </thead>\n",
              "  <tbody>\n",
              "    <tr>\n",
              "      <th>1849-01-01</th>\n",
              "      <td>8.819</td>\n",
              "      <td>NaN</td>\n",
              "    </tr>\n",
              "    <tr>\n",
              "      <th>1849-02-01</th>\n",
              "      <td>9.577</td>\n",
              "      <td>NaN</td>\n",
              "    </tr>\n",
              "    <tr>\n",
              "      <th>1849-03-01</th>\n",
              "      <td>11.814</td>\n",
              "      <td>NaN</td>\n",
              "    </tr>\n",
              "    <tr>\n",
              "      <th>1849-04-01</th>\n",
              "      <td>13.704</td>\n",
              "      <td>NaN</td>\n",
              "    </tr>\n",
              "    <tr>\n",
              "      <th>1849-05-01</th>\n",
              "      <td>14.834</td>\n",
              "      <td>NaN</td>\n",
              "    </tr>\n",
              "    <tr>\n",
              "      <th>1849-06-01</th>\n",
              "      <td>21.173</td>\n",
              "      <td>NaN</td>\n",
              "    </tr>\n",
              "    <tr>\n",
              "      <th>1849-07-01</th>\n",
              "      <td>26.159</td>\n",
              "      <td>NaN</td>\n",
              "    </tr>\n",
              "    <tr>\n",
              "      <th>1849-08-01</th>\n",
              "      <td>26.099</td>\n",
              "      <td>NaN</td>\n",
              "    </tr>\n",
              "    <tr>\n",
              "      <th>1849-09-01</th>\n",
              "      <td>21.848</td>\n",
              "      <td>NaN</td>\n",
              "    </tr>\n",
              "    <tr>\n",
              "      <th>1849-10-01</th>\n",
              "      <td>16.549</td>\n",
              "      <td>NaN</td>\n",
              "    </tr>\n",
              "    <tr>\n",
              "      <th>1849-11-01</th>\n",
              "      <td>10.907</td>\n",
              "      <td>NaN</td>\n",
              "    </tr>\n",
              "    <tr>\n",
              "      <th>1849-12-01</th>\n",
              "      <td>7.032</td>\n",
              "      <td>NaN</td>\n",
              "    </tr>\n",
              "    <tr>\n",
              "      <th>1850-01-01</th>\n",
              "      <td>7.087</td>\n",
              "      <td>-1.732</td>\n",
              "    </tr>\n",
              "    <tr>\n",
              "      <th>1850-02-01</th>\n",
              "      <td>8.575</td>\n",
              "      <td>-1.002</td>\n",
              "    </tr>\n",
              "    <tr>\n",
              "      <th>1850-03-01</th>\n",
              "      <td>10.365</td>\n",
              "      <td>-1.449</td>\n",
              "    </tr>\n",
              "    <tr>\n",
              "      <th>1850-04-01</th>\n",
              "      <td>13.735</td>\n",
              "      <td>0.031</td>\n",
              "    </tr>\n",
              "    <tr>\n",
              "      <th>1850-05-01</th>\n",
              "      <td>16.633</td>\n",
              "      <td>1.799</td>\n",
              "    </tr>\n",
              "    <tr>\n",
              "      <th>1850-06-01</th>\n",
              "      <td>20.241</td>\n",
              "      <td>-0.932</td>\n",
              "    </tr>\n",
              "    <tr>\n",
              "      <th>1850-07-01</th>\n",
              "      <td>23.445</td>\n",
              "      <td>-2.714</td>\n",
              "    </tr>\n",
              "    <tr>\n",
              "      <th>1850-08-01</th>\n",
              "      <td>25.935</td>\n",
              "      <td>-0.164</td>\n",
              "    </tr>\n",
              "  </tbody>\n",
              "</table>\n",
              "</div>"
            ],
            "text/plain": [
              "              Temp  first_diff_temp\n",
              "Date                               \n",
              "1849-01-01   8.819              NaN\n",
              "1849-02-01   9.577              NaN\n",
              "1849-03-01  11.814              NaN\n",
              "1849-04-01  13.704              NaN\n",
              "1849-05-01  14.834              NaN\n",
              "1849-06-01  21.173              NaN\n",
              "1849-07-01  26.159              NaN\n",
              "1849-08-01  26.099              NaN\n",
              "1849-09-01  21.848              NaN\n",
              "1849-10-01  16.549              NaN\n",
              "1849-11-01  10.907              NaN\n",
              "1849-12-01   7.032              NaN\n",
              "1850-01-01   7.087           -1.732\n",
              "1850-02-01   8.575           -1.002\n",
              "1850-03-01  10.365           -1.449\n",
              "1850-04-01  13.735            0.031\n",
              "1850-05-01  16.633            1.799\n",
              "1850-06-01  20.241           -0.932\n",
              "1850-07-01  23.445           -2.714\n",
              "1850-08-01  25.935           -0.164"
            ]
          },
          "metadata": {},
          "execution_count": 78
        }
      ]
    },
    {
      "cell_type": "code",
      "metadata": {
        "colab": {
          "base_uri": "https://localhost:8080/"
        },
        "id": "3cZxdzIVZOEn",
        "outputId": "3eb9f07d-79fc-4ffb-f475-363f3ede0f53"
      },
      "source": [
        "adfuller_test(df['first_diff_temp'].dropna())"
      ],
      "execution_count": 79,
      "outputs": [
        {
          "output_type": "stream",
          "name": "stdout",
          "text": [
            "ADF Test stats : -21.23965040491091\n",
            "p-value : 0.0\n",
            "flags used : 35\n",
            "no of observation used : 7025\n",
            "Strong Evidence Against the null hypo, hence we can reject the null hypo and data is stationery\n"
          ]
        }
      ]
    },
    {
      "cell_type": "code",
      "metadata": {
        "colab": {
          "base_uri": "https://localhost:8080/",
          "height": 580
        },
        "id": "cqJp-0E4Zq76",
        "outputId": "89904ece-550f-486f-b21f-c82e7bc48f48"
      },
      "source": [
        "df[['first_diff_temp']].plot(figsize=(12,10))"
      ],
      "execution_count": 81,
      "outputs": [
        {
          "output_type": "execute_result",
          "data": {
            "text/plain": [
              "<matplotlib.axes._subplots.AxesSubplot at 0x7f132f417490>"
            ]
          },
          "metadata": {},
          "execution_count": 81
        },
        {
          "output_type": "display_data",
          "data": {
            "image/png": "[encoded data removed]",
            "text/plain": [
              "<Figure size 864x720 with 1 Axes>"
            ]
          },
          "metadata": {
            "needs_background": "light"
          }
        }
      ]
    }
  ]
}