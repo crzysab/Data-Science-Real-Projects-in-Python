{
  "nbformat": 4,
  "nbformat_minor": 0,
  "metadata": {
    "colab": {
      "name": "Predict Stock Price using Time Series Analysis.ipynb",
      "provenance": [],
      "authorship_tag": "ABX9TyORqtRwuw6KDsXv3MKA/RTP",
      "include_colab_link": true
    },
    "kernelspec": {
      "name": "python3",
      "display_name": "Python 3"
    },
    "language_info": {
      "name": "python"
    }
  },
  "cells": [
    {
      "cell_type": "markdown",
      "metadata": {
        "id": "view-in-github",
        "colab_type": "text"
      },
      "source": [
        "<a href=\"https://colab.research.google.com/github/sabsabrina/Data-Science-Real-Projects-in-Python/blob/main/Predict_Stock_Price_using_Time_Series_Analysis.ipynb\" target=\"_parent\"><img src=\"https://colab.research.google.com/assets/colab-badge.svg\" alt=\"Open In Colab\"/></a>"
      ]
    },
    {
      "cell_type": "markdown",
      "metadata": {
        "id": "hp2h8AViAa8O"
      },
      "source": [
        "Analyzing Time Series Data"
      ]
    },
    {
      "cell_type": "code",
      "metadata": {
        "colab": {
          "base_uri": "https://localhost:8080/",
          "height": 221
        },
        "id": "G6WYOrgqATZv",
        "outputId": "09c24c37-b8e2-4854-d061-88013ebf06b0"
      },
      "source": [
        "import pandas as pd\n",
        "import numpy as np\n",
        "from google.colab import drive\n",
        "\n",
        "drive.mount('/content/drive')\n",
        "df = pd.read_csv(\"/content/drive/My Drive/dataset/BAJFINANCE.csv\")\n",
        "df.head()"
      ],
      "execution_count": 1,
      "outputs": [
        {
          "output_type": "stream",
          "text": [
            "Mounted at /content/drive\n"
          ],
          "name": "stdout"
        },
        {
          "output_type": "execute_result",
          "data": {
            "text/html": [
              "<div>\n",
              "<style scoped>\n",
              "    .dataframe tbody tr th:only-of-type {\n",
              "        vertical-align: middle;\n",
              "    }\n",
              "\n",
              "    .dataframe tbody tr th {\n",
              "        vertical-align: top;\n",
              "    }\n",
              "\n",
              "    .dataframe thead th {\n",
              "        text-align: right;\n",
              "    }\n",
              "</style>\n",
              "<table border=\"1\" class=\"dataframe\">\n",
              "  <thead>\n",
              "    <tr style=\"text-align: right;\">\n",
              "      <th></th>\n",
              "      <th>Date</th>\n",
              "      <th>Symbol</th>\n",
              "      <th>Series</th>\n",
              "      <th>Prev Close</th>\n",
              "      <th>Open</th>\n",
              "      <th>High</th>\n",
              "      <th>Low</th>\n",
              "      <th>Last</th>\n",
              "      <th>Close</th>\n",
              "      <th>VWAP</th>\n",
              "      <th>Volume</th>\n",
              "      <th>Turnover</th>\n",
              "      <th>Trades</th>\n",
              "      <th>Deliverable Volume</th>\n",
              "      <th>%Deliverble</th>\n",
              "    </tr>\n",
              "  </thead>\n",
              "  <tbody>\n",
              "    <tr>\n",
              "      <th>0</th>\n",
              "      <td>2000-01-03</td>\n",
              "      <td>BAJAUTOFIN</td>\n",
              "      <td>EQ</td>\n",
              "      <td>46.95</td>\n",
              "      <td>49.45</td>\n",
              "      <td>50.75</td>\n",
              "      <td>46.5</td>\n",
              "      <td>50.75</td>\n",
              "      <td>50.75</td>\n",
              "      <td>50.05</td>\n",
              "      <td>7600</td>\n",
              "      <td>3.803800e+10</td>\n",
              "      <td>NaN</td>\n",
              "      <td>NaN</td>\n",
              "      <td>NaN</td>\n",
              "    </tr>\n",
              "    <tr>\n",
              "      <th>1</th>\n",
              "      <td>2000-01-04</td>\n",
              "      <td>BAJAUTOFIN</td>\n",
              "      <td>EQ</td>\n",
              "      <td>50.75</td>\n",
              "      <td>53.20</td>\n",
              "      <td>53.20</td>\n",
              "      <td>47.9</td>\n",
              "      <td>48.00</td>\n",
              "      <td>48.10</td>\n",
              "      <td>48.56</td>\n",
              "      <td>5000</td>\n",
              "      <td>2.428000e+10</td>\n",
              "      <td>NaN</td>\n",
              "      <td>NaN</td>\n",
              "      <td>NaN</td>\n",
              "    </tr>\n",
              "    <tr>\n",
              "      <th>2</th>\n",
              "      <td>2000-01-05</td>\n",
              "      <td>BAJAUTOFIN</td>\n",
              "      <td>EQ</td>\n",
              "      <td>48.10</td>\n",
              "      <td>46.55</td>\n",
              "      <td>47.40</td>\n",
              "      <td>44.6</td>\n",
              "      <td>44.60</td>\n",
              "      <td>44.60</td>\n",
              "      <td>45.47</td>\n",
              "      <td>3500</td>\n",
              "      <td>1.591450e+10</td>\n",
              "      <td>NaN</td>\n",
              "      <td>NaN</td>\n",
              "      <td>NaN</td>\n",
              "    </tr>\n",
              "    <tr>\n",
              "      <th>3</th>\n",
              "      <td>2000-01-06</td>\n",
              "      <td>BAJAUTOFIN</td>\n",
              "      <td>EQ</td>\n",
              "      <td>44.60</td>\n",
              "      <td>43.50</td>\n",
              "      <td>46.00</td>\n",
              "      <td>42.1</td>\n",
              "      <td>46.00</td>\n",
              "      <td>45.25</td>\n",
              "      <td>44.43</td>\n",
              "      <td>6200</td>\n",
              "      <td>2.754750e+10</td>\n",
              "      <td>NaN</td>\n",
              "      <td>NaN</td>\n",
              "      <td>NaN</td>\n",
              "    </tr>\n",
              "    <tr>\n",
              "      <th>4</th>\n",
              "      <td>2000-01-07</td>\n",
              "      <td>BAJAUTOFIN</td>\n",
              "      <td>EQ</td>\n",
              "      <td>45.25</td>\n",
              "      <td>48.00</td>\n",
              "      <td>48.00</td>\n",
              "      <td>42.0</td>\n",
              "      <td>42.90</td>\n",
              "      <td>42.90</td>\n",
              "      <td>44.44</td>\n",
              "      <td>3500</td>\n",
              "      <td>1.555550e+10</td>\n",
              "      <td>NaN</td>\n",
              "      <td>NaN</td>\n",
              "      <td>NaN</td>\n",
              "    </tr>\n",
              "  </tbody>\n",
              "</table>\n",
              "</div>"
            ],
            "text/plain": [
              "         Date      Symbol Series  ...  Trades  Deliverable Volume  %Deliverble\n",
              "0  2000-01-03  BAJAUTOFIN     EQ  ...     NaN                 NaN          NaN\n",
              "1  2000-01-04  BAJAUTOFIN     EQ  ...     NaN                 NaN          NaN\n",
              "2  2000-01-05  BAJAUTOFIN     EQ  ...     NaN                 NaN          NaN\n",
              "3  2000-01-06  BAJAUTOFIN     EQ  ...     NaN                 NaN          NaN\n",
              "4  2000-01-07  BAJAUTOFIN     EQ  ...     NaN                 NaN          NaN\n",
              "\n",
              "[5 rows x 15 columns]"
            ]
          },
          "metadata": {
            "tags": []
          },
          "execution_count": 1
        }
      ]
    },
    {
      "cell_type": "code",
      "metadata": {
        "id": "_c_niEZ7ApXT"
      },
      "source": [
        "df.set_index('Date',inplace=True)"
      ],
      "execution_count": 2,
      "outputs": []
    },
    {
      "cell_type": "code",
      "metadata": {
        "colab": {
          "base_uri": "https://localhost:8080/",
          "height": 299
        },
        "id": "0wwzTv13As5q",
        "outputId": "05dd0867-5a11-4be9-9e36-dd488867c3ce"
      },
      "source": [
        "df['VWAP'].plot()"
      ],
      "execution_count": 3,
      "outputs": [
        {
          "output_type": "execute_result",
          "data": {
            "text/plain": [
              "<matplotlib.axes._subplots.AxesSubplot at 0x7f2c8378d450>"
            ]
          },
          "metadata": {
            "tags": []
          },
          "execution_count": 3
        },
        {
          "output_type": "display_data",
          "data": {
            "image/png": "[encoded data removed]",
            "text/plain": [
              "<Figure size 432x288 with 1 Axes>"
            ]
          },
          "metadata": {
            "tags": [],
            "needs_background": "light"
          }
        }
      ]
    },
    {
      "cell_type": "code",
      "metadata": {
        "colab": {
          "base_uri": "https://localhost:8080/"
        },
        "id": "ybm4-RQIAx30",
        "outputId": "f3719f5e-c2f4-494e-ee01-3465114aaee3"
      },
      "source": [
        "df.shape"
      ],
      "execution_count": 4,
      "outputs": [
        {
          "output_type": "execute_result",
          "data": {
            "text/plain": [
              "(5070, 14)"
            ]
          },
          "metadata": {
            "tags": []
          },
          "execution_count": 4
        }
      ]
    },
    {
      "cell_type": "code",
      "metadata": {
        "colab": {
          "base_uri": "https://localhost:8080/"
        },
        "id": "u_sHPNJ2Azjb",
        "outputId": "1f4bbb66-f2c7-4b26-d33f-75e1c5b028ae"
      },
      "source": [
        "df.isna().sum()"
      ],
      "execution_count": 5,
      "outputs": [
        {
          "output_type": "execute_result",
          "data": {
            "text/plain": [
              "Symbol                   0\n",
              "Series                   0\n",
              "Prev Close               0\n",
              "Open                     0\n",
              "High                     0\n",
              "Low                      0\n",
              "Last                     0\n",
              "Close                    0\n",
              "VWAP                     0\n",
              "Volume                   0\n",
              "Turnover                 0\n",
              "Trades                2779\n",
              "Deliverable Volume     446\n",
              "%Deliverble            446\n",
              "dtype: int64"
            ]
          },
          "metadata": {
            "tags": []
          },
          "execution_count": 5
        }
      ]
    },
    {
      "cell_type": "code",
      "metadata": {
        "id": "aJIBwymcA33O"
      },
      "source": [
        "df.dropna(inplace=True)"
      ],
      "execution_count": 6,
      "outputs": []
    },
    {
      "cell_type": "code",
      "metadata": {
        "colab": {
          "base_uri": "https://localhost:8080/"
        },
        "id": "jsoxTjk3A8C-",
        "outputId": "91a1b5b2-ed69-47ee-d2d3-41bd88ab0fcb"
      },
      "source": [
        "df.isna().sum()"
      ],
      "execution_count": 7,
      "outputs": [
        {
          "output_type": "execute_result",
          "data": {
            "text/plain": [
              "Symbol                0\n",
              "Series                0\n",
              "Prev Close            0\n",
              "Open                  0\n",
              "High                  0\n",
              "Low                   0\n",
              "Last                  0\n",
              "Close                 0\n",
              "VWAP                  0\n",
              "Volume                0\n",
              "Turnover              0\n",
              "Trades                0\n",
              "Deliverable Volume    0\n",
              "%Deliverble           0\n",
              "dtype: int64"
            ]
          },
          "metadata": {
            "tags": []
          },
          "execution_count": 7
        }
      ]
    },
    {
      "cell_type": "code",
      "metadata": {
        "colab": {
          "base_uri": "https://localhost:8080/"
        },
        "id": "mJJzPDu8BAuZ",
        "outputId": "9dca4936-a1a9-4a13-e011-76e9a8cba106"
      },
      "source": [
        "df.shape"
      ],
      "execution_count": 8,
      "outputs": [
        {
          "output_type": "execute_result",
          "data": {
            "text/plain": [
              "(2291, 14)"
            ]
          },
          "metadata": {
            "tags": []
          },
          "execution_count": 8
        }
      ]
    },
    {
      "cell_type": "code",
      "metadata": {
        "id": "qmK1PjO0BC8A"
      },
      "source": [
        "data=df.copy()"
      ],
      "execution_count": 9,
      "outputs": []
    },
    {
      "cell_type": "code",
      "metadata": {
        "colab": {
          "base_uri": "https://localhost:8080/"
        },
        "id": "wD27T6KLBHn6",
        "outputId": "0f9256b7-92d8-40d9-cd02-c084f777ec1d"
      },
      "source": [
        "data.dtypes"
      ],
      "execution_count": 10,
      "outputs": [
        {
          "output_type": "execute_result",
          "data": {
            "text/plain": [
              "Symbol                 object\n",
              "Series                 object\n",
              "Prev Close            float64\n",
              "Open                  float64\n",
              "High                  float64\n",
              "Low                   float64\n",
              "Last                  float64\n",
              "Close                 float64\n",
              "VWAP                  float64\n",
              "Volume                  int64\n",
              "Turnover              float64\n",
              "Trades                float64\n",
              "Deliverable Volume    float64\n",
              "%Deliverble           float64\n",
              "dtype: object"
            ]
          },
          "metadata": {
            "tags": []
          },
          "execution_count": 10
        }
      ]
    },
    {
      "cell_type": "markdown",
      "metadata": {
        "id": "iibUwxS5Blyi"
      },
      "source": [
        "Data Preparation for Time Series Forecasting"
      ]
    },
    {
      "cell_type": "code",
      "metadata": {
        "colab": {
          "base_uri": "https://localhost:8080/"
        },
        "id": "-UH9H-5LBLhH",
        "outputId": "9371c990-919e-4aed-8467-827f7d917132"
      },
      "source": [
        "data.columns"
      ],
      "execution_count": 11,
      "outputs": [
        {
          "output_type": "execute_result",
          "data": {
            "text/plain": [
              "Index(['Symbol', 'Series', 'Prev Close', 'Open', 'High', 'Low', 'Last',\n",
              "       'Close', 'VWAP', 'Volume', 'Turnover', 'Trades', 'Deliverable Volume',\n",
              "       '%Deliverble'],\n",
              "      dtype='object')"
            ]
          },
          "metadata": {
            "tags": []
          },
          "execution_count": 11
        }
      ]
    },
    {
      "cell_type": "code",
      "metadata": {
        "id": "irr65NVICe53"
      },
      "source": [
        "lag_features = ['High','Low','Volume','Turnover','Trades']\n",
        "window1 = 3\n",
        "window2 = 7"
      ],
      "execution_count": 12,
      "outputs": []
    },
    {
      "cell_type": "code",
      "metadata": {
        "id": "9Y8xyHjkDN42"
      },
      "source": [
        "for feature in lag_features:\n",
        "  data[feature +'rolling_mean_3'] = data[feature].rolling(window = window1).mean()\n",
        "  data[feature +'rolling_mean_7'] = data[feature].rolling(window = window2).mean()"
      ],
      "execution_count": 13,
      "outputs": []
    },
    {
      "cell_type": "code",
      "metadata": {
        "id": "46Hi9ix9DuI7"
      },
      "source": [
        "for feature in lag_features:\n",
        "  data[feature +'rolling_std_3'] = data[feature].rolling(window = window1).std()\n",
        "  data[feature +'rolling_std_7'] = data[feature].rolling(window = window2).std()"
      ],
      "execution_count": 14,
      "outputs": []
    },
    {
      "cell_type": "code",
      "metadata": {
        "colab": {
          "base_uri": "https://localhost:8080/",
          "height": 442
        },
        "id": "EGLKmWJsD2d-",
        "outputId": "948a3cb0-23a1-4519-8d8f-42b8f5194464"
      },
      "source": [
        "data.head()"
      ],
      "execution_count": 15,
      "outputs": [
        {
          "output_type": "execute_result",
          "data": {
            "text/html": [
              "<div>\n",
              "<style scoped>\n",
              "    .dataframe tbody tr th:only-of-type {\n",
              "        vertical-align: middle;\n",
              "    }\n",
              "\n",
              "    .dataframe tbody tr th {\n",
              "        vertical-align: top;\n",
              "    }\n",
              "\n",
              "    .dataframe thead th {\n",
              "        text-align: right;\n",
              "    }\n",
              "</style>\n",
              "<table border=\"1\" class=\"dataframe\">\n",
              "  <thead>\n",
              "    <tr style=\"text-align: right;\">\n",
              "      <th></th>\n",
              "      <th>Symbol</th>\n",
              "      <th>Series</th>\n",
              "      <th>Prev Close</th>\n",
              "      <th>Open</th>\n",
              "      <th>High</th>\n",
              "      <th>Low</th>\n",
              "      <th>Last</th>\n",
              "      <th>Close</th>\n",
              "      <th>VWAP</th>\n",
              "      <th>Volume</th>\n",
              "      <th>Turnover</th>\n",
              "      <th>Trades</th>\n",
              "      <th>Deliverable Volume</th>\n",
              "      <th>%Deliverble</th>\n",
              "      <th>Highrolling_mean_3</th>\n",
              "      <th>Highrolling_mean_7</th>\n",
              "      <th>Lowrolling_mean_3</th>\n",
              "      <th>Lowrolling_mean_7</th>\n",
              "      <th>Volumerolling_mean_3</th>\n",
              "      <th>Volumerolling_mean_7</th>\n",
              "      <th>Turnoverrolling_mean_3</th>\n",
              "      <th>Turnoverrolling_mean_7</th>\n",
              "      <th>Tradesrolling_mean_3</th>\n",
              "      <th>Tradesrolling_mean_7</th>\n",
              "      <th>Highrolling_std_3</th>\n",
              "      <th>Highrolling_std_7</th>\n",
              "      <th>Lowrolling_std_3</th>\n",
              "      <th>Lowrolling_std_7</th>\n",
              "      <th>Volumerolling_std_3</th>\n",
              "      <th>Volumerolling_std_7</th>\n",
              "      <th>Turnoverrolling_std_3</th>\n",
              "      <th>Turnoverrolling_std_7</th>\n",
              "      <th>Tradesrolling_std_3</th>\n",
              "      <th>Tradesrolling_std_7</th>\n",
              "    </tr>\n",
              "    <tr>\n",
              "      <th>Date</th>\n",
              "      <th></th>\n",
              "      <th></th>\n",
              "      <th></th>\n",
              "      <th></th>\n",
              "      <th></th>\n",
              "      <th></th>\n",
              "      <th></th>\n",
              "      <th></th>\n",
              "      <th></th>\n",
              "      <th></th>\n",
              "      <th></th>\n",
              "      <th></th>\n",
              "      <th></th>\n",
              "      <th></th>\n",
              "      <th></th>\n",
              "      <th></th>\n",
              "      <th></th>\n",
              "      <th></th>\n",
              "      <th></th>\n",
              "      <th></th>\n",
              "      <th></th>\n",
              "      <th></th>\n",
              "      <th></th>\n",
              "      <th></th>\n",
              "      <th></th>\n",
              "      <th></th>\n",
              "      <th></th>\n",
              "      <th></th>\n",
              "      <th></th>\n",
              "      <th></th>\n",
              "      <th></th>\n",
              "      <th></th>\n",
              "      <th></th>\n",
              "      <th></th>\n",
              "    </tr>\n",
              "  </thead>\n",
              "  <tbody>\n",
              "    <tr>\n",
              "      <th>2011-06-01</th>\n",
              "      <td>BAJFINANCE</td>\n",
              "      <td>EQ</td>\n",
              "      <td>616.70</td>\n",
              "      <td>617.00</td>\n",
              "      <td>636.50</td>\n",
              "      <td>616.00</td>\n",
              "      <td>627.00</td>\n",
              "      <td>631.85</td>\n",
              "      <td>627.01</td>\n",
              "      <td>6894</td>\n",
              "      <td>4.322621e+11</td>\n",
              "      <td>1416.0</td>\n",
              "      <td>3427.0</td>\n",
              "      <td>0.4971</td>\n",
              "      <td>NaN</td>\n",
              "      <td>NaN</td>\n",
              "      <td>NaN</td>\n",
              "      <td>NaN</td>\n",
              "      <td>NaN</td>\n",
              "      <td>NaN</td>\n",
              "      <td>NaN</td>\n",
              "      <td>NaN</td>\n",
              "      <td>NaN</td>\n",
              "      <td>NaN</td>\n",
              "      <td>NaN</td>\n",
              "      <td>NaN</td>\n",
              "      <td>NaN</td>\n",
              "      <td>NaN</td>\n",
              "      <td>NaN</td>\n",
              "      <td>NaN</td>\n",
              "      <td>NaN</td>\n",
              "      <td>NaN</td>\n",
              "      <td>NaN</td>\n",
              "      <td>NaN</td>\n",
              "    </tr>\n",
              "    <tr>\n",
              "      <th>2011-06-02</th>\n",
              "      <td>BAJFINANCE</td>\n",
              "      <td>EQ</td>\n",
              "      <td>631.85</td>\n",
              "      <td>625.00</td>\n",
              "      <td>638.90</td>\n",
              "      <td>620.00</td>\n",
              "      <td>634.00</td>\n",
              "      <td>633.45</td>\n",
              "      <td>636.04</td>\n",
              "      <td>2769</td>\n",
              "      <td>1.761205e+11</td>\n",
              "      <td>432.0</td>\n",
              "      <td>1718.0</td>\n",
              "      <td>0.6204</td>\n",
              "      <td>NaN</td>\n",
              "      <td>NaN</td>\n",
              "      <td>NaN</td>\n",
              "      <td>NaN</td>\n",
              "      <td>NaN</td>\n",
              "      <td>NaN</td>\n",
              "      <td>NaN</td>\n",
              "      <td>NaN</td>\n",
              "      <td>NaN</td>\n",
              "      <td>NaN</td>\n",
              "      <td>NaN</td>\n",
              "      <td>NaN</td>\n",
              "      <td>NaN</td>\n",
              "      <td>NaN</td>\n",
              "      <td>NaN</td>\n",
              "      <td>NaN</td>\n",
              "      <td>NaN</td>\n",
              "      <td>NaN</td>\n",
              "      <td>NaN</td>\n",
              "      <td>NaN</td>\n",
              "    </tr>\n",
              "    <tr>\n",
              "      <th>2011-06-03</th>\n",
              "      <td>BAJFINANCE</td>\n",
              "      <td>EQ</td>\n",
              "      <td>633.45</td>\n",
              "      <td>625.15</td>\n",
              "      <td>637.80</td>\n",
              "      <td>620.00</td>\n",
              "      <td>623.00</td>\n",
              "      <td>625.00</td>\n",
              "      <td>625.09</td>\n",
              "      <td>51427</td>\n",
              "      <td>3.214631e+12</td>\n",
              "      <td>135.0</td>\n",
              "      <td>50912.0</td>\n",
              "      <td>0.9900</td>\n",
              "      <td>637.733333</td>\n",
              "      <td>NaN</td>\n",
              "      <td>618.666667</td>\n",
              "      <td>NaN</td>\n",
              "      <td>20363.333333</td>\n",
              "      <td>NaN</td>\n",
              "      <td>1.274338e+12</td>\n",
              "      <td>NaN</td>\n",
              "      <td>661.000000</td>\n",
              "      <td>NaN</td>\n",
              "      <td>1.201388</td>\n",
              "      <td>NaN</td>\n",
              "      <td>2.309401</td>\n",
              "      <td>NaN</td>\n",
              "      <td>26980.871860</td>\n",
              "      <td>NaN</td>\n",
              "      <td>1.685217e+12</td>\n",
              "      <td>NaN</td>\n",
              "      <td>670.500559</td>\n",
              "      <td>NaN</td>\n",
              "    </tr>\n",
              "    <tr>\n",
              "      <th>2011-06-06</th>\n",
              "      <td>BAJFINANCE</td>\n",
              "      <td>EQ</td>\n",
              "      <td>625.00</td>\n",
              "      <td>620.00</td>\n",
              "      <td>641.00</td>\n",
              "      <td>611.35</td>\n",
              "      <td>611.35</td>\n",
              "      <td>614.00</td>\n",
              "      <td>616.03</td>\n",
              "      <td>5446</td>\n",
              "      <td>3.354910e+11</td>\n",
              "      <td>268.0</td>\n",
              "      <td>4312.0</td>\n",
              "      <td>0.7918</td>\n",
              "      <td>639.233333</td>\n",
              "      <td>NaN</td>\n",
              "      <td>617.116667</td>\n",
              "      <td>NaN</td>\n",
              "      <td>19880.666667</td>\n",
              "      <td>NaN</td>\n",
              "      <td>1.242081e+12</td>\n",
              "      <td>NaN</td>\n",
              "      <td>278.333333</td>\n",
              "      <td>NaN</td>\n",
              "      <td>1.625833</td>\n",
              "      <td>NaN</td>\n",
              "      <td>4.994080</td>\n",
              "      <td>NaN</td>\n",
              "      <td>27352.695339</td>\n",
              "      <td>NaN</td>\n",
              "      <td>1.710136e+12</td>\n",
              "      <td>NaN</td>\n",
              "      <td>148.769396</td>\n",
              "      <td>NaN</td>\n",
              "    </tr>\n",
              "    <tr>\n",
              "      <th>2011-06-07</th>\n",
              "      <td>BAJFINANCE</td>\n",
              "      <td>EQ</td>\n",
              "      <td>614.00</td>\n",
              "      <td>604.00</td>\n",
              "      <td>623.95</td>\n",
              "      <td>604.00</td>\n",
              "      <td>619.90</td>\n",
              "      <td>619.15</td>\n",
              "      <td>617.73</td>\n",
              "      <td>5991</td>\n",
              "      <td>3.700840e+11</td>\n",
              "      <td>273.0</td>\n",
              "      <td>4073.0</td>\n",
              "      <td>0.6799</td>\n",
              "      <td>634.250000</td>\n",
              "      <td>NaN</td>\n",
              "      <td>611.783333</td>\n",
              "      <td>NaN</td>\n",
              "      <td>20954.666667</td>\n",
              "      <td>NaN</td>\n",
              "      <td>1.306735e+12</td>\n",
              "      <td>NaN</td>\n",
              "      <td>225.333333</td>\n",
              "      <td>NaN</td>\n",
              "      <td>9.062422</td>\n",
              "      <td>NaN</td>\n",
              "      <td>8.008797</td>\n",
              "      <td>NaN</td>\n",
              "      <td>26391.221653</td>\n",
              "      <td>NaN</td>\n",
              "      <td>1.652377e+12</td>\n",
              "      <td>NaN</td>\n",
              "      <td>78.270897</td>\n",
              "      <td>NaN</td>\n",
              "    </tr>\n",
              "  </tbody>\n",
              "</table>\n",
              "</div>"
            ],
            "text/plain": [
              "                Symbol Series  ...  Tradesrolling_std_3  Tradesrolling_std_7\n",
              "Date                           ...                                          \n",
              "2011-06-01  BAJFINANCE     EQ  ...                  NaN                  NaN\n",
              "2011-06-02  BAJFINANCE     EQ  ...                  NaN                  NaN\n",
              "2011-06-03  BAJFINANCE     EQ  ...           670.500559                  NaN\n",
              "2011-06-06  BAJFINANCE     EQ  ...           148.769396                  NaN\n",
              "2011-06-07  BAJFINANCE     EQ  ...            78.270897                  NaN\n",
              "\n",
              "[5 rows x 34 columns]"
            ]
          },
          "metadata": {
            "tags": []
          },
          "execution_count": 15
        }
      ]
    },
    {
      "cell_type": "code",
      "metadata": {
        "colab": {
          "base_uri": "https://localhost:8080/"
        },
        "id": "fUjSmSmOEFnr",
        "outputId": "81b4f811-c60b-4c8b-ab24-df2fc319c877"
      },
      "source": [
        "data.columns"
      ],
      "execution_count": 16,
      "outputs": [
        {
          "output_type": "execute_result",
          "data": {
            "text/plain": [
              "Index(['Symbol', 'Series', 'Prev Close', 'Open', 'High', 'Low', 'Last',\n",
              "       'Close', 'VWAP', 'Volume', 'Turnover', 'Trades', 'Deliverable Volume',\n",
              "       '%Deliverble', 'Highrolling_mean_3', 'Highrolling_mean_7',\n",
              "       'Lowrolling_mean_3', 'Lowrolling_mean_7', 'Volumerolling_mean_3',\n",
              "       'Volumerolling_mean_7', 'Turnoverrolling_mean_3',\n",
              "       'Turnoverrolling_mean_7', 'Tradesrolling_mean_3',\n",
              "       'Tradesrolling_mean_7', 'Highrolling_std_3', 'Highrolling_std_7',\n",
              "       'Lowrolling_std_3', 'Lowrolling_std_7', 'Volumerolling_std_3',\n",
              "       'Volumerolling_std_7', 'Turnoverrolling_std_3', 'Turnoverrolling_std_7',\n",
              "       'Tradesrolling_std_3', 'Tradesrolling_std_7'],\n",
              "      dtype='object')"
            ]
          },
          "metadata": {
            "tags": []
          },
          "execution_count": 16
        }
      ]
    },
    {
      "cell_type": "code",
      "metadata": {
        "colab": {
          "base_uri": "https://localhost:8080/"
        },
        "id": "EHLksH20EQT4",
        "outputId": "53a109d4-8836-4c6a-d956-7c25f25ca838"
      },
      "source": [
        "data.shape"
      ],
      "execution_count": 17,
      "outputs": [
        {
          "output_type": "execute_result",
          "data": {
            "text/plain": [
              "(2291, 34)"
            ]
          },
          "metadata": {
            "tags": []
          },
          "execution_count": 17
        }
      ]
    },
    {
      "cell_type": "code",
      "metadata": {
        "colab": {
          "base_uri": "https://localhost:8080/"
        },
        "id": "l8qZQNcfEZNp",
        "outputId": "582d44b5-1c37-4a98-c66c-dc7bc6823767"
      },
      "source": [
        "data.isna().sum()"
      ],
      "execution_count": 18,
      "outputs": [
        {
          "output_type": "execute_result",
          "data": {
            "text/plain": [
              "Symbol                    0\n",
              "Series                    0\n",
              "Prev Close                0\n",
              "Open                      0\n",
              "High                      0\n",
              "Low                       0\n",
              "Last                      0\n",
              "Close                     0\n",
              "VWAP                      0\n",
              "Volume                    0\n",
              "Turnover                  0\n",
              "Trades                    0\n",
              "Deliverable Volume        0\n",
              "%Deliverble               0\n",
              "Highrolling_mean_3        2\n",
              "Highrolling_mean_7        6\n",
              "Lowrolling_mean_3         2\n",
              "Lowrolling_mean_7         6\n",
              "Volumerolling_mean_3      2\n",
              "Volumerolling_mean_7      6\n",
              "Turnoverrolling_mean_3    2\n",
              "Turnoverrolling_mean_7    6\n",
              "Tradesrolling_mean_3      2\n",
              "Tradesrolling_mean_7      6\n",
              "Highrolling_std_3         2\n",
              "Highrolling_std_7         6\n",
              "Lowrolling_std_3          2\n",
              "Lowrolling_std_7          6\n",
              "Volumerolling_std_3       2\n",
              "Volumerolling_std_7       6\n",
              "Turnoverrolling_std_3     2\n",
              "Turnoverrolling_std_7     6\n",
              "Tradesrolling_std_3       2\n",
              "Tradesrolling_std_7       6\n",
              "dtype: int64"
            ]
          },
          "metadata": {
            "tags": []
          },
          "execution_count": 18
        }
      ]
    },
    {
      "cell_type": "code",
      "metadata": {
        "id": "Tb72i_1xEjJp"
      },
      "source": [
        "data.dropna(inplace=True)"
      ],
      "execution_count": 19,
      "outputs": []
    },
    {
      "cell_type": "code",
      "metadata": {
        "colab": {
          "base_uri": "https://localhost:8080/"
        },
        "id": "B7VdF52EEzOX",
        "outputId": "86cb0579-c9ab-452f-a4c4-4bfd7a0830d6"
      },
      "source": [
        "data.columns"
      ],
      "execution_count": 20,
      "outputs": [
        {
          "output_type": "execute_result",
          "data": {
            "text/plain": [
              "Index(['Symbol', 'Series', 'Prev Close', 'Open', 'High', 'Low', 'Last',\n",
              "       'Close', 'VWAP', 'Volume', 'Turnover', 'Trades', 'Deliverable Volume',\n",
              "       '%Deliverble', 'Highrolling_mean_3', 'Highrolling_mean_7',\n",
              "       'Lowrolling_mean_3', 'Lowrolling_mean_7', 'Volumerolling_mean_3',\n",
              "       'Volumerolling_mean_7', 'Turnoverrolling_mean_3',\n",
              "       'Turnoverrolling_mean_7', 'Tradesrolling_mean_3',\n",
              "       'Tradesrolling_mean_7', 'Highrolling_std_3', 'Highrolling_std_7',\n",
              "       'Lowrolling_std_3', 'Lowrolling_std_7', 'Volumerolling_std_3',\n",
              "       'Volumerolling_std_7', 'Turnoverrolling_std_3', 'Turnoverrolling_std_7',\n",
              "       'Tradesrolling_std_3', 'Tradesrolling_std_7'],\n",
              "      dtype='object')"
            ]
          },
          "metadata": {
            "tags": []
          },
          "execution_count": 20
        }
      ]
    },
    {
      "cell_type": "code",
      "metadata": {
        "id": "2CXwogEAE2lS"
      },
      "source": [
        "ind_features = ['Highrolling_mean_3', 'Highrolling_mean_7',\n",
        "       'Lowrolling_mean_3', 'Lowrolling_mean_7', 'Volumerolling_mean_3',\n",
        "       'Volumerolling_mean_7', 'Turnoverrolling_mean_3',\n",
        "       'Turnoverrolling_mean_7', 'Tradesrolling_mean_3',\n",
        "       'Tradesrolling_mean_7', 'Highrolling_std_3', 'Highrolling_std_7',\n",
        "       'Lowrolling_std_3', 'Lowrolling_std_7', 'Volumerolling_std_3',\n",
        "       'Volumerolling_std_7', 'Turnoverrolling_std_3', 'Turnoverrolling_std_7',\n",
        "       'Tradesrolling_std_3', 'Tradesrolling_std_7']"
      ],
      "execution_count": 21,
      "outputs": []
    },
    {
      "cell_type": "code",
      "metadata": {
        "id": "J6G-X9EHFfaG"
      },
      "source": [
        "training_data = data[0:1000]\n",
        "test_data = data[1000:]"
      ],
      "execution_count": 22,
      "outputs": []
    },
    {
      "cell_type": "code",
      "metadata": {
        "colab": {
          "base_uri": "https://localhost:8080/",
          "height": 657
        },
        "id": "zvWzwfzCFpq_",
        "outputId": "3942dcc0-8815-4825-9d5e-027c646cd553"
      },
      "source": [
        "training_data"
      ],
      "execution_count": 23,
      "outputs": [
        {
          "output_type": "execute_result",
          "data": {
            "text/html": [
              "<div>\n",
              "<style scoped>\n",
              "    .dataframe tbody tr th:only-of-type {\n",
              "        vertical-align: middle;\n",
              "    }\n",
              "\n",
              "    .dataframe tbody tr th {\n",
              "        vertical-align: top;\n",
              "    }\n",
              "\n",
              "    .dataframe thead th {\n",
              "        text-align: right;\n",
              "    }\n",
              "</style>\n",
              "<table border=\"1\" class=\"dataframe\">\n",
              "  <thead>\n",
              "    <tr style=\"text-align: right;\">\n",
              "      <th></th>\n",
              "      <th>Symbol</th>\n",
              "      <th>Series</th>\n",
              "      <th>Prev Close</th>\n",
              "      <th>Open</th>\n",
              "      <th>High</th>\n",
              "      <th>Low</th>\n",
              "      <th>Last</th>\n",
              "      <th>Close</th>\n",
              "      <th>VWAP</th>\n",
              "      <th>Volume</th>\n",
              "      <th>Turnover</th>\n",
              "      <th>Trades</th>\n",
              "      <th>Deliverable Volume</th>\n",
              "      <th>%Deliverble</th>\n",
              "      <th>Highrolling_mean_3</th>\n",
              "      <th>Highrolling_mean_7</th>\n",
              "      <th>Lowrolling_mean_3</th>\n",
              "      <th>Lowrolling_mean_7</th>\n",
              "      <th>Volumerolling_mean_3</th>\n",
              "      <th>Volumerolling_mean_7</th>\n",
              "      <th>Turnoverrolling_mean_3</th>\n",
              "      <th>Turnoverrolling_mean_7</th>\n",
              "      <th>Tradesrolling_mean_3</th>\n",
              "      <th>Tradesrolling_mean_7</th>\n",
              "      <th>Highrolling_std_3</th>\n",
              "      <th>Highrolling_std_7</th>\n",
              "      <th>Lowrolling_std_3</th>\n",
              "      <th>Lowrolling_std_7</th>\n",
              "      <th>Volumerolling_std_3</th>\n",
              "      <th>Volumerolling_std_7</th>\n",
              "      <th>Turnoverrolling_std_3</th>\n",
              "      <th>Turnoverrolling_std_7</th>\n",
              "      <th>Tradesrolling_std_3</th>\n",
              "      <th>Tradesrolling_std_7</th>\n",
              "    </tr>\n",
              "    <tr>\n",
              "      <th>Date</th>\n",
              "      <th></th>\n",
              "      <th></th>\n",
              "      <th></th>\n",
              "      <th></th>\n",
              "      <th></th>\n",
              "      <th></th>\n",
              "      <th></th>\n",
              "      <th></th>\n",
              "      <th></th>\n",
              "      <th></th>\n",
              "      <th></th>\n",
              "      <th></th>\n",
              "      <th></th>\n",
              "      <th></th>\n",
              "      <th></th>\n",
              "      <th></th>\n",
              "      <th></th>\n",
              "      <th></th>\n",
              "      <th></th>\n",
              "      <th></th>\n",
              "      <th></th>\n",
              "      <th></th>\n",
              "      <th></th>\n",
              "      <th></th>\n",
              "      <th></th>\n",
              "      <th></th>\n",
              "      <th></th>\n",
              "      <th></th>\n",
              "      <th></th>\n",
              "      <th></th>\n",
              "      <th></th>\n",
              "      <th></th>\n",
              "      <th></th>\n",
              "      <th></th>\n",
              "    </tr>\n",
              "  </thead>\n",
              "  <tbody>\n",
              "    <tr>\n",
              "      <th>2011-06-09</th>\n",
              "      <td>BAJFINANCE</td>\n",
              "      <td>EQ</td>\n",
              "      <td>635.60</td>\n",
              "      <td>639.80</td>\n",
              "      <td>647.00</td>\n",
              "      <td>630.00</td>\n",
              "      <td>630.00</td>\n",
              "      <td>631.10</td>\n",
              "      <td>638.27</td>\n",
              "      <td>31252</td>\n",
              "      <td>1.994715e+12</td>\n",
              "      <td>894.0</td>\n",
              "      <td>18626.0</td>\n",
              "      <td>0.5960</td>\n",
              "      <td>638.650000</td>\n",
              "      <td>638.592857</td>\n",
              "      <td>612.666667</td>\n",
              "      <td>615.050000</td>\n",
              "      <td>21368.666667</td>\n",
              "      <td>18663.142857</td>\n",
              "      <td>1.356553e+12</td>\n",
              "      <td>1.175452e+12</td>\n",
              "      <td>682.666667</td>\n",
              "      <td>614.142857</td>\n",
              "      <td>12.769789</td>\n",
              "      <td>7.494911</td>\n",
              "      <td>15.011107</td>\n",
              "      <td>9.410145</td>\n",
              "      <td>13497.047986</td>\n",
              "      <td>18373.894011</td>\n",
              "      <td>8.665128e+11</td>\n",
              "      <td>1.155773e+12</td>\n",
              "      <td>354.841279</td>\n",
              "      <td>463.942320</td>\n",
              "    </tr>\n",
              "    <tr>\n",
              "      <th>2011-06-10</th>\n",
              "      <td>BAJFINANCE</td>\n",
              "      <td>EQ</td>\n",
              "      <td>631.10</td>\n",
              "      <td>641.85</td>\n",
              "      <td>648.25</td>\n",
              "      <td>618.55</td>\n",
              "      <td>621.10</td>\n",
              "      <td>622.20</td>\n",
              "      <td>634.16</td>\n",
              "      <td>30885</td>\n",
              "      <td>1.958588e+12</td>\n",
              "      <td>1360.0</td>\n",
              "      <td>12656.0</td>\n",
              "      <td>0.4098</td>\n",
              "      <td>646.750000</td>\n",
              "      <td>640.271429</td>\n",
              "      <td>617.516667</td>\n",
              "      <td>615.414286</td>\n",
              "      <td>29666.666667</td>\n",
              "      <td>22090.428571</td>\n",
              "      <td>1.886054e+12</td>\n",
              "      <td>1.393498e+12</td>\n",
              "      <td>1045.000000</td>\n",
              "      <td>606.142857</td>\n",
              "      <td>1.639360</td>\n",
              "      <td>8.227994</td>\n",
              "      <td>13.030765</td>\n",
              "      <td>9.501961</td>\n",
              "      <td>2434.970705</td>\n",
              "      <td>18047.331029</td>\n",
              "      <td>1.579562e+11</td>\n",
              "      <td>1.136003e+12</td>\n",
              "      <td>272.875429</td>\n",
              "      <td>448.020620</td>\n",
              "    </tr>\n",
              "    <tr>\n",
              "      <th>2011-06-13</th>\n",
              "      <td>BAJFINANCE</td>\n",
              "      <td>EQ</td>\n",
              "      <td>622.20</td>\n",
              "      <td>616.00</td>\n",
              "      <td>627.85</td>\n",
              "      <td>616.00</td>\n",
              "      <td>622.75</td>\n",
              "      <td>624.95</td>\n",
              "      <td>622.92</td>\n",
              "      <td>3981</td>\n",
              "      <td>2.479856e+11</td>\n",
              "      <td>250.0</td>\n",
              "      <td>1745.0</td>\n",
              "      <td>0.4383</td>\n",
              "      <td>641.033333</td>\n",
              "      <td>638.692857</td>\n",
              "      <td>621.516667</td>\n",
              "      <td>614.842857</td>\n",
              "      <td>22039.333333</td>\n",
              "      <td>22263.571429</td>\n",
              "      <td>1.400430e+12</td>\n",
              "      <td>1.403765e+12</td>\n",
              "      <td>834.666667</td>\n",
              "      <td>580.142857</td>\n",
              "      <td>11.434196</td>\n",
              "      <td>9.497080</td>\n",
              "      <td>7.456597</td>\n",
              "      <td>9.298317</td>\n",
              "      <td>15640.051929</td>\n",
              "      <td>17835.642665</td>\n",
              "      <td>9.982094e+11</td>\n",
              "      <td>1.123423e+12</td>\n",
              "      <td>557.373603</td>\n",
              "      <td>464.778596</td>\n",
              "    </tr>\n",
              "    <tr>\n",
              "      <th>2011-06-14</th>\n",
              "      <td>BAJFINANCE</td>\n",
              "      <td>EQ</td>\n",
              "      <td>624.95</td>\n",
              "      <td>625.00</td>\n",
              "      <td>628.95</td>\n",
              "      <td>619.95</td>\n",
              "      <td>621.20</td>\n",
              "      <td>622.10</td>\n",
              "      <td>625.35</td>\n",
              "      <td>5597</td>\n",
              "      <td>3.500088e+11</td>\n",
              "      <td>198.0</td>\n",
              "      <td>3717.0</td>\n",
              "      <td>0.6641</td>\n",
              "      <td>635.016667</td>\n",
              "      <td>637.428571</td>\n",
              "      <td>618.166667</td>\n",
              "      <td>614.835714</td>\n",
              "      <td>13487.666667</td>\n",
              "      <td>15716.428571</td>\n",
              "      <td>8.521943e+11</td>\n",
              "      <td>9.945331e+11</td>\n",
              "      <td>602.666667</td>\n",
              "      <td>589.142857</td>\n",
              "      <td>11.473593</td>\n",
              "      <td>10.198891</td>\n",
              "      <td>2.002707</td>\n",
              "      <td>9.293713</td>\n",
              "      <td>15088.183102</td>\n",
              "      <td>13139.472184</td>\n",
              "      <td>9.595224e+11</td>\n",
              "      <td>8.397765e+11</td>\n",
              "      <td>656.385050</td>\n",
              "      <td>455.234163</td>\n",
              "    </tr>\n",
              "    <tr>\n",
              "      <th>2011-06-15</th>\n",
              "      <td>BAJFINANCE</td>\n",
              "      <td>EQ</td>\n",
              "      <td>622.10</td>\n",
              "      <td>612.00</td>\n",
              "      <td>623.00</td>\n",
              "      <td>598.10</td>\n",
              "      <td>605.00</td>\n",
              "      <td>601.70</td>\n",
              "      <td>606.90</td>\n",
              "      <td>12590</td>\n",
              "      <td>7.640851e+11</td>\n",
              "      <td>481.0</td>\n",
              "      <td>9021.0</td>\n",
              "      <td>0.7165</td>\n",
              "      <td>626.600000</td>\n",
              "      <td>634.857143</td>\n",
              "      <td>611.350000</td>\n",
              "      <td>612.942857</td>\n",
              "      <td>7389.333333</td>\n",
              "      <td>16737.000000</td>\n",
              "      <td>4.540265e+11</td>\n",
              "      <td>1.055761e+12</td>\n",
              "      <td>309.666667</td>\n",
              "      <td>619.571429</td>\n",
              "      <td>3.165833</td>\n",
              "      <td>11.352292</td>\n",
              "      <td>11.643560</td>\n",
              "      <td>11.262712</td>\n",
              "      <td>4575.812970</td>\n",
              "      <td>12469.137006</td>\n",
              "      <td>2.733211e+11</td>\n",
              "      <td>7.983186e+11</td>\n",
              "      <td>150.639747</td>\n",
              "      <td>436.941971</td>\n",
              "    </tr>\n",
              "    <tr>\n",
              "      <th>...</th>\n",
              "      <td>...</td>\n",
              "      <td>...</td>\n",
              "      <td>...</td>\n",
              "      <td>...</td>\n",
              "      <td>...</td>\n",
              "      <td>...</td>\n",
              "      <td>...</td>\n",
              "      <td>...</td>\n",
              "      <td>...</td>\n",
              "      <td>...</td>\n",
              "      <td>...</td>\n",
              "      <td>...</td>\n",
              "      <td>...</td>\n",
              "      <td>...</td>\n",
              "      <td>...</td>\n",
              "      <td>...</td>\n",
              "      <td>...</td>\n",
              "      <td>...</td>\n",
              "      <td>...</td>\n",
              "      <td>...</td>\n",
              "      <td>...</td>\n",
              "      <td>...</td>\n",
              "      <td>...</td>\n",
              "      <td>...</td>\n",
              "      <td>...</td>\n",
              "      <td>...</td>\n",
              "      <td>...</td>\n",
              "      <td>...</td>\n",
              "      <td>...</td>\n",
              "      <td>...</td>\n",
              "      <td>...</td>\n",
              "      <td>...</td>\n",
              "      <td>...</td>\n",
              "      <td>...</td>\n",
              "    </tr>\n",
              "    <tr>\n",
              "      <th>2015-06-15</th>\n",
              "      <td>BAJFINANCE</td>\n",
              "      <td>EQ</td>\n",
              "      <td>4676.45</td>\n",
              "      <td>4681.25</td>\n",
              "      <td>4732.80</td>\n",
              "      <td>4654.00</td>\n",
              "      <td>4705.00</td>\n",
              "      <td>4715.30</td>\n",
              "      <td>4702.58</td>\n",
              "      <td>26787</td>\n",
              "      <td>1.259681e+13</td>\n",
              "      <td>2648.0</td>\n",
              "      <td>18339.0</td>\n",
              "      <td>0.6846</td>\n",
              "      <td>4739.633333</td>\n",
              "      <td>4633.957143</td>\n",
              "      <td>4563.133333</td>\n",
              "      <td>4471.371429</td>\n",
              "      <td>50543.000000</td>\n",
              "      <td>41104.571429</td>\n",
              "      <td>2.362658e+13</td>\n",
              "      <td>1.885133e+13</td>\n",
              "      <td>7378.000000</td>\n",
              "      <td>5679.857143</td>\n",
              "      <td>29.548660</td>\n",
              "      <td>109.326786</td>\n",
              "      <td>79.172302</td>\n",
              "      <td>113.847716</td>\n",
              "      <td>31248.969471</td>\n",
              "      <td>22844.071863</td>\n",
              "      <td>1.455539e+13</td>\n",
              "      <td>1.070953e+13</td>\n",
              "      <td>6362.161504</td>\n",
              "      <td>4151.761451</td>\n",
              "    </tr>\n",
              "    <tr>\n",
              "      <th>2015-06-16</th>\n",
              "      <td>BAJFINANCE</td>\n",
              "      <td>EQ</td>\n",
              "      <td>4715.30</td>\n",
              "      <td>4715.00</td>\n",
              "      <td>4720.00</td>\n",
              "      <td>4635.15</td>\n",
              "      <td>4696.50</td>\n",
              "      <td>4700.15</td>\n",
              "      <td>4672.66</td>\n",
              "      <td>22336</td>\n",
              "      <td>1.043685e+13</td>\n",
              "      <td>2786.0</td>\n",
              "      <td>12088.0</td>\n",
              "      <td>0.5412</td>\n",
              "      <td>4722.300000</td>\n",
              "      <td>4666.100000</td>\n",
              "      <td>4599.383333</td>\n",
              "      <td>4519.250000</td>\n",
              "      <td>29341.000000</td>\n",
              "      <td>39589.714286</td>\n",
              "      <td>1.373084e+13</td>\n",
              "      <td>1.825627e+13</td>\n",
              "      <td>3436.333333</td>\n",
              "      <td>5514.142857</td>\n",
              "      <td>9.559812</td>\n",
              "      <td>93.609312</td>\n",
              "      <td>78.839653</td>\n",
              "      <td>99.311434</td>\n",
              "      <td>8572.264053</td>\n",
              "      <td>23807.020034</td>\n",
              "      <td>3.983959e+12</td>\n",
              "      <td>1.109380e+13</td>\n",
              "      <td>1247.831052</td>\n",
              "      <td>4254.383207</td>\n",
              "    </tr>\n",
              "    <tr>\n",
              "      <th>2015-06-17</th>\n",
              "      <td>BAJFINANCE</td>\n",
              "      <td>EQ</td>\n",
              "      <td>4700.15</td>\n",
              "      <td>4702.50</td>\n",
              "      <td>4790.00</td>\n",
              "      <td>4696.80</td>\n",
              "      <td>4765.50</td>\n",
              "      <td>4776.20</td>\n",
              "      <td>4762.45</td>\n",
              "      <td>98150</td>\n",
              "      <td>4.674346e+13</td>\n",
              "      <td>16070.0</td>\n",
              "      <td>63537.0</td>\n",
              "      <td>0.6473</td>\n",
              "      <td>4747.600000</td>\n",
              "      <td>4706.128571</td>\n",
              "      <td>4661.983333</td>\n",
              "      <td>4560.921429</td>\n",
              "      <td>49091.000000</td>\n",
              "      <td>50146.142857</td>\n",
              "      <td>2.325904e+13</td>\n",
              "      <td>2.338932e+13</td>\n",
              "      <td>7168.000000</td>\n",
              "      <td>7358.857143</td>\n",
              "      <td>37.273047</td>\n",
              "      <td>73.350454</td>\n",
              "      <td>31.590835</td>\n",
              "      <td>104.494648</td>\n",
              "      <td>42544.587917</td>\n",
              "      <td>31130.723112</td>\n",
              "      <td>2.036676e+13</td>\n",
              "      <td>1.477668e+13</td>\n",
              "      <td>7709.666919</td>\n",
              "      <td>5636.900166</td>\n",
              "    </tr>\n",
              "    <tr>\n",
              "      <th>2015-06-18</th>\n",
              "      <td>BAJFINANCE</td>\n",
              "      <td>EQ</td>\n",
              "      <td>4776.20</td>\n",
              "      <td>4776.20</td>\n",
              "      <td>4918.00</td>\n",
              "      <td>4776.20</td>\n",
              "      <td>4904.00</td>\n",
              "      <td>4902.90</td>\n",
              "      <td>4875.61</td>\n",
              "      <td>81039</td>\n",
              "      <td>3.951148e+13</td>\n",
              "      <td>10388.0</td>\n",
              "      <td>46390.0</td>\n",
              "      <td>0.5724</td>\n",
              "      <td>4809.333333</td>\n",
              "      <td>4748.842857</td>\n",
              "      <td>4702.716667</td>\n",
              "      <td>4614.650000</td>\n",
              "      <td>67175.000000</td>\n",
              "      <td>53707.428571</td>\n",
              "      <td>3.223060e+13</td>\n",
              "      <td>2.542072e+13</td>\n",
              "      <td>9748.000000</td>\n",
              "      <td>7886.857143</td>\n",
              "      <td>100.405843</td>\n",
              "      <td>97.303886</td>\n",
              "      <td>70.710896</td>\n",
              "      <td>104.712945</td>\n",
              "      <td>39763.029575</td>\n",
              "      <td>33278.504743</td>\n",
              "      <td>1.921721e+13</td>\n",
              "      <td>1.600791e+13</td>\n",
              "      <td>6665.085446</td>\n",
              "      <td>5736.249949</td>\n",
              "    </tr>\n",
              "    <tr>\n",
              "      <th>2015-06-19</th>\n",
              "      <td>BAJFINANCE</td>\n",
              "      <td>EQ</td>\n",
              "      <td>4902.90</td>\n",
              "      <td>4904.00</td>\n",
              "      <td>5240.80</td>\n",
              "      <td>4904.00</td>\n",
              "      <td>5160.40</td>\n",
              "      <td>5158.05</td>\n",
              "      <td>5037.36</td>\n",
              "      <td>78630</td>\n",
              "      <td>3.960878e+13</td>\n",
              "      <td>8378.0</td>\n",
              "      <td>37666.0</td>\n",
              "      <td>0.4790</td>\n",
              "      <td>4982.933333</td>\n",
              "      <td>4841.100000</td>\n",
              "      <td>4792.333333</td>\n",
              "      <td>4671.650000</td>\n",
              "      <td>85939.666667</td>\n",
              "      <td>61683.428571</td>\n",
              "      <td>4.195457e+13</td>\n",
              "      <td>2.959719e+13</td>\n",
              "      <td>11612.000000</td>\n",
              "      <td>8536.571429</td>\n",
              "      <td>232.308875</td>\n",
              "      <td>189.553343</td>\n",
              "      <td>104.537904</td>\n",
              "      <td>138.290820</td>\n",
              "      <td>10642.837983</td>\n",
              "      <td>31265.473576</td>\n",
              "      <td>4.147585e+12</td>\n",
              "      <td>1.522225e+13</td>\n",
              "      <td>3989.404467</td>\n",
              "      <td>5450.620939</td>\n",
              "    </tr>\n",
              "  </tbody>\n",
              "</table>\n",
              "<p>1000 rows × 34 columns</p>\n",
              "</div>"
            ],
            "text/plain": [
              "                Symbol Series  ...  Tradesrolling_std_3  Tradesrolling_std_7\n",
              "Date                           ...                                          \n",
              "2011-06-09  BAJFINANCE     EQ  ...           354.841279           463.942320\n",
              "2011-06-10  BAJFINANCE     EQ  ...           272.875429           448.020620\n",
              "2011-06-13  BAJFINANCE     EQ  ...           557.373603           464.778596\n",
              "2011-06-14  BAJFINANCE     EQ  ...           656.385050           455.234163\n",
              "2011-06-15  BAJFINANCE     EQ  ...           150.639747           436.941971\n",
              "...                ...    ...  ...                  ...                  ...\n",
              "2015-06-15  BAJFINANCE     EQ  ...          6362.161504          4151.761451\n",
              "2015-06-16  BAJFINANCE     EQ  ...          1247.831052          4254.383207\n",
              "2015-06-17  BAJFINANCE     EQ  ...          7709.666919          5636.900166\n",
              "2015-06-18  BAJFINANCE     EQ  ...          6665.085446          5736.249949\n",
              "2015-06-19  BAJFINANCE     EQ  ...          3989.404467          5450.620939\n",
              "\n",
              "[1000 rows x 34 columns]"
            ]
          },
          "metadata": {
            "tags": []
          },
          "execution_count": 23
        }
      ]
    },
    {
      "cell_type": "markdown",
      "metadata": {
        "id": "XcF1wWJGVnzL"
      },
      "source": [
        "Apply Auto-Arima on Data"
      ]
    },
    {
      "cell_type": "code",
      "metadata": {
        "colab": {
          "base_uri": "https://localhost:8080/"
        },
        "id": "pteZJav0Ssxr",
        "outputId": "4d329974-171c-4b3a-d2d1-38cf210b84e4"
      },
      "source": [
        "!pip install pmdarima"
      ],
      "execution_count": 27,
      "outputs": [
        {
          "output_type": "stream",
          "text": [
            "Collecting pmdarima\n",
            "  Downloading pmdarima-1.8.2-cp37-cp37m-manylinux1_x86_64.whl (1.5 MB)\n",
            "\u001b[?25l\r\u001b[K     |▎                               | 10 kB 28.1 MB/s eta 0:00:01\r\u001b[K     |▌                               | 20 kB 36.3 MB/s eta 0:00:01\r\u001b[K     |▊                               | 30 kB 38.4 MB/s eta 0:00:01\r\u001b[K     |█                               | 40 kB 42.2 MB/s eta 0:00:01\r\u001b[K     |█▏                              | 51 kB 16.5 MB/s eta 0:00:01\r\u001b[K     |█▍                              | 61 kB 18.2 MB/s eta 0:00:01\r\u001b[K     |█▋                              | 71 kB 12.8 MB/s eta 0:00:01\r\u001b[K     |█▉                              | 81 kB 14.1 MB/s eta 0:00:01\r\u001b[K     |██                              | 92 kB 13.8 MB/s eta 0:00:01\r\u001b[K     |██▎                             | 102 kB 14.3 MB/s eta 0:00:01\r\u001b[K     |██▌                             | 112 kB 14.3 MB/s eta 0:00:01\r\u001b[K     |██▊                             | 122 kB 14.3 MB/s eta 0:00:01\r\u001b[K     |███                             | 133 kB 14.3 MB/s eta 0:00:01\r\u001b[K     |███▏                            | 143 kB 14.3 MB/s eta 0:00:01\r\u001b[K     |███▍                            | 153 kB 14.3 MB/s eta 0:00:01\r\u001b[K     |███▋                            | 163 kB 14.3 MB/s eta 0:00:01\r\u001b[K     |███▉                            | 174 kB 14.3 MB/s eta 0:00:01\r\u001b[K     |████                            | 184 kB 14.3 MB/s eta 0:00:01\r\u001b[K     |████▎                           | 194 kB 14.3 MB/s eta 0:00:01\r\u001b[K     |████▌                           | 204 kB 14.3 MB/s eta 0:00:01\r\u001b[K     |████▊                           | 215 kB 14.3 MB/s eta 0:00:01\r\u001b[K     |█████                           | 225 kB 14.3 MB/s eta 0:00:01\r\u001b[K     |█████▏                          | 235 kB 14.3 MB/s eta 0:00:01\r\u001b[K     |█████▍                          | 245 kB 14.3 MB/s eta 0:00:01\r\u001b[K     |█████▋                          | 256 kB 14.3 MB/s eta 0:00:01\r\u001b[K     |█████▉                          | 266 kB 14.3 MB/s eta 0:00:01\r\u001b[K     |██████                          | 276 kB 14.3 MB/s eta 0:00:01\r\u001b[K     |██████▎                         | 286 kB 14.3 MB/s eta 0:00:01\r\u001b[K     |██████▌                         | 296 kB 14.3 MB/s eta 0:00:01\r\u001b[K     |██████▊                         | 307 kB 14.3 MB/s eta 0:00:01\r\u001b[K     |███████                         | 317 kB 14.3 MB/s eta 0:00:01\r\u001b[K     |███████▏                        | 327 kB 14.3 MB/s eta 0:00:01\r\u001b[K     |███████▍                        | 337 kB 14.3 MB/s eta 0:00:01\r\u001b[K     |███████▋                        | 348 kB 14.3 MB/s eta 0:00:01\r\u001b[K     |███████▉                        | 358 kB 14.3 MB/s eta 0:00:01\r\u001b[K     |████████                        | 368 kB 14.3 MB/s eta 0:00:01\r\u001b[K     |████████▎                       | 378 kB 14.3 MB/s eta 0:00:01\r\u001b[K     |████████▌                       | 389 kB 14.3 MB/s eta 0:00:01\r\u001b[K     |████████▊                       | 399 kB 14.3 MB/s eta 0:00:01\r\u001b[K     |█████████                       | 409 kB 14.3 MB/s eta 0:00:01\r\u001b[K     |█████████▎                      | 419 kB 14.3 MB/s eta 0:00:01\r\u001b[K     |█████████▌                      | 430 kB 14.3 MB/s eta 0:00:01\r\u001b[K     |█████████▊                      | 440 kB 14.3 MB/s eta 0:00:01\r\u001b[K     |██████████                      | 450 kB 14.3 MB/s eta 0:00:01\r\u001b[K     |██████████▏                     | 460 kB 14.3 MB/s eta 0:00:01\r\u001b[K     |██████████▍                     | 471 kB 14.3 MB/s eta 0:00:01\r\u001b[K     |██████████▋                     | 481 kB 14.3 MB/s eta 0:00:01\r\u001b[K     |██████████▉                     | 491 kB 14.3 MB/s eta 0:00:01\r\u001b[K     |███████████                     | 501 kB 14.3 MB/s eta 0:00:01\r\u001b[K     |███████████▎                    | 512 kB 14.3 MB/s eta 0:00:01\r\u001b[K     |███████████▌                    | 522 kB 14.3 MB/s eta 0:00:01\r\u001b[K     |███████████▊                    | 532 kB 14.3 MB/s eta 0:00:01\r\u001b[K     |████████████                    | 542 kB 14.3 MB/s eta 0:00:01\r\u001b[K     |████████████▏                   | 552 kB 14.3 MB/s eta 0:00:01\r\u001b[K     |████████████▍                   | 563 kB 14.3 MB/s eta 0:00:01\r\u001b[K     |████████████▋                   | 573 kB 14.3 MB/s eta 0:00:01\r\u001b[K     |████████████▉                   | 583 kB 14.3 MB/s eta 0:00:01\r\u001b[K     |█████████████                   | 593 kB 14.3 MB/s eta 0:00:01\r\u001b[K     |█████████████▎                  | 604 kB 14.3 MB/s eta 0:00:01\r\u001b[K     |█████████████▌                  | 614 kB 14.3 MB/s eta 0:00:01\r\u001b[K     |█████████████▊                  | 624 kB 14.3 MB/s eta 0:00:01\r\u001b[K     |██████████████                  | 634 kB 14.3 MB/s eta 0:00:01\r\u001b[K     |██████████████▏                 | 645 kB 14.3 MB/s eta 0:00:01\r\u001b[K     |██████████████▍                 | 655 kB 14.3 MB/s eta 0:00:01\r\u001b[K     |██████████████▋                 | 665 kB 14.3 MB/s eta 0:00:01\r\u001b[K     |██████████████▉                 | 675 kB 14.3 MB/s eta 0:00:01\r\u001b[K     |███████████████                 | 686 kB 14.3 MB/s eta 0:00:01\r\u001b[K     |███████████████▎                | 696 kB 14.3 MB/s eta 0:00:01\r\u001b[K     |███████████████▌                | 706 kB 14.3 MB/s eta 0:00:01\r\u001b[K     |███████████████▊                | 716 kB 14.3 MB/s eta 0:00:01\r\u001b[K     |████████████████                | 727 kB 14.3 MB/s eta 0:00:01\r\u001b[K     |████████████████▏               | 737 kB 14.3 MB/s eta 0:00:01\r\u001b[K     |████████████████▍               | 747 kB 14.3 MB/s eta 0:00:01\r\u001b[K     |████████████████▋               | 757 kB 14.3 MB/s eta 0:00:01\r\u001b[K     |████████████████▉               | 768 kB 14.3 MB/s eta 0:00:01\r\u001b[K     |█████████████████               | 778 kB 14.3 MB/s eta 0:00:01\r\u001b[K     |█████████████████▎              | 788 kB 14.3 MB/s eta 0:00:01\r\u001b[K     |█████████████████▌              | 798 kB 14.3 MB/s eta 0:00:01\r\u001b[K     |█████████████████▊              | 808 kB 14.3 MB/s eta 0:00:01\r\u001b[K     |██████████████████              | 819 kB 14.3 MB/s eta 0:00:01\r\u001b[K     |██████████████████▎             | 829 kB 14.3 MB/s eta 0:00:01\r\u001b[K     |██████████████████▌             | 839 kB 14.3 MB/s eta 0:00:01\r\u001b[K     |██████████████████▊             | 849 kB 14.3 MB/s eta 0:00:01\r\u001b[K     |███████████████████             | 860 kB 14.3 MB/s eta 0:00:01\r\u001b[K     |███████████████████▏            | 870 kB 14.3 MB/s eta 0:00:01\r\u001b[K     |███████████████████▍            | 880 kB 14.3 MB/s eta 0:00:01\r\u001b[K     |███████████████████▋            | 890 kB 14.3 MB/s eta 0:00:01\r\u001b[K     |███████████████████▉            | 901 kB 14.3 MB/s eta 0:00:01\r\u001b[K     |████████████████████            | 911 kB 14.3 MB/s eta 0:00:01\r\u001b[K     |████████████████████▎           | 921 kB 14.3 MB/s eta 0:00:01\r\u001b[K     |████████████████████▌           | 931 kB 14.3 MB/s eta 0:00:01\r\u001b[K     |████████████████████▊           | 942 kB 14.3 MB/s eta 0:00:01\r\u001b[K     |█████████████████████           | 952 kB 14.3 MB/s eta 0:00:01\r\u001b[K     |█████████████████████▏          | 962 kB 14.3 MB/s eta 0:00:01\r\u001b[K     |█████████████████████▍          | 972 kB 14.3 MB/s eta 0:00:01\r\u001b[K     |█████████████████████▋          | 983 kB 14.3 MB/s eta 0:00:01\r\u001b[K     |█████████████████████▉          | 993 kB 14.3 MB/s eta 0:00:01\r\u001b[K     |██████████████████████          | 1.0 MB 14.3 MB/s eta 0:00:01\r\u001b[K     |██████████████████████▎         | 1.0 MB 14.3 MB/s eta 0:00:01\r\u001b[K     |██████████████████████▌         | 1.0 MB 14.3 MB/s eta 0:00:01\r\u001b[K     |██████████████████████▊         | 1.0 MB 14.3 MB/s eta 0:00:01\r\u001b[K     |███████████████████████         | 1.0 MB 14.3 MB/s eta 0:00:01\r\u001b[K     |███████████████████████▏        | 1.1 MB 14.3 MB/s eta 0:00:01\r\u001b[K     |███████████████████████▍        | 1.1 MB 14.3 MB/s eta 0:00:01\r\u001b[K     |███████████████████████▋        | 1.1 MB 14.3 MB/s eta 0:00:01\r\u001b[K     |███████████████████████▉        | 1.1 MB 14.3 MB/s eta 0:00:01\r\u001b[K     |████████████████████████        | 1.1 MB 14.3 MB/s eta 0:00:01\r\u001b[K     |████████████████████████▎       | 1.1 MB 14.3 MB/s eta 0:00:01\r\u001b[K     |████████████████████████▌       | 1.1 MB 14.3 MB/s eta 0:00:01\r\u001b[K     |████████████████████████▊       | 1.1 MB 14.3 MB/s eta 0:00:01\r\u001b[K     |█████████████████████████       | 1.1 MB 14.3 MB/s eta 0:00:01\r\u001b[K     |█████████████████████████▏      | 1.1 MB 14.3 MB/s eta 0:00:01\r\u001b[K     |█████████████████████████▍      | 1.2 MB 14.3 MB/s eta 0:00:01\r\u001b[K     |█████████████████████████▋      | 1.2 MB 14.3 MB/s eta 0:00:01\r\u001b[K     |█████████████████████████▉      | 1.2 MB 14.3 MB/s eta 0:00:01\r\u001b[K     |██████████████████████████      | 1.2 MB 14.3 MB/s eta 0:00:01\r\u001b[K     |██████████████████████████▎     | 1.2 MB 14.3 MB/s eta 0:00:01\r\u001b[K     |██████████████████████████▌     | 1.2 MB 14.3 MB/s eta 0:00:01\r\u001b[K     |██████████████████████████▊     | 1.2 MB 14.3 MB/s eta 0:00:01\r\u001b[K     |███████████████████████████     | 1.2 MB 14.3 MB/s eta 0:00:01\r\u001b[K     |███████████████████████████▎    | 1.2 MB 14.3 MB/s eta 0:00:01\r\u001b[K     |███████████████████████████▌    | 1.2 MB 14.3 MB/s eta 0:00:01\r\u001b[K     |███████████████████████████▊    | 1.3 MB 14.3 MB/s eta 0:00:01\r\u001b[K     |████████████████████████████    | 1.3 MB 14.3 MB/s eta 0:00:01\r\u001b[K     |████████████████████████████▏   | 1.3 MB 14.3 MB/s eta 0:00:01\r\u001b[K     |████████████████████████████▍   | 1.3 MB 14.3 MB/s eta 0:00:01\r\u001b[K     |████████████████████████████▋   | 1.3 MB 14.3 MB/s eta 0:00:01\r\u001b[K     |████████████████████████████▉   | 1.3 MB 14.3 MB/s eta 0:00:01\r\u001b[K     |█████████████████████████████   | 1.3 MB 14.3 MB/s eta 0:00:01\r\u001b[K     |█████████████████████████████▎  | 1.3 MB 14.3 MB/s eta 0:00:01\r\u001b[K     |█████████████████████████████▌  | 1.3 MB 14.3 MB/s eta 0:00:01\r\u001b[K     |█████████████████████████████▊  | 1.4 MB 14.3 MB/s eta 0:00:01\r\u001b[K     |██████████████████████████████  | 1.4 MB 14.3 MB/s eta 0:00:01\r\u001b[K     |██████████████████████████████▏ | 1.4 MB 14.3 MB/s eta 0:00:01\r\u001b[K     |██████████████████████████████▍ | 1.4 MB 14.3 MB/s eta 0:00:01\r\u001b[K     |██████████████████████████████▋ | 1.4 MB 14.3 MB/s eta 0:00:01\r\u001b[K     |██████████████████████████████▉ | 1.4 MB 14.3 MB/s eta 0:00:01\r\u001b[K     |███████████████████████████████ | 1.4 MB 14.3 MB/s eta 0:00:01\r\u001b[K     |███████████████████████████████▎| 1.4 MB 14.3 MB/s eta 0:00:01\r\u001b[K     |███████████████████████████████▌| 1.4 MB 14.3 MB/s eta 0:00:01\r\u001b[K     |███████████████████████████████▊| 1.4 MB 14.3 MB/s eta 0:00:01\r\u001b[K     |████████████████████████████████| 1.5 MB 14.3 MB/s eta 0:00:01\r\u001b[K     |████████████████████████████████| 1.5 MB 14.3 MB/s \n",
            "\u001b[?25hRequirement already satisfied: scipy>=1.3.2 in /usr/local/lib/python3.7/dist-packages (from pmdarima) (1.4.1)\n",
            "Requirement already satisfied: numpy~=1.19.0 in /usr/local/lib/python3.7/dist-packages (from pmdarima) (1.19.5)\n",
            "Requirement already satisfied: scikit-learn>=0.22 in /usr/local/lib/python3.7/dist-packages (from pmdarima) (0.22.2.post1)\n",
            "Requirement already satisfied: joblib>=0.11 in /usr/local/lib/python3.7/dist-packages (from pmdarima) (1.0.1)\n",
            "Requirement already satisfied: setuptools!=50.0.0,>=38.6.0 in /usr/local/lib/python3.7/dist-packages (from pmdarima) (57.4.0)\n",
            "Collecting statsmodels!=0.12.0,>=0.11\n",
            "  Downloading statsmodels-0.12.2-cp37-cp37m-manylinux1_x86_64.whl (9.5 MB)\n",
            "\u001b[K     |████████████████████████████████| 9.5 MB 71.6 MB/s \n",
            "\u001b[?25hRequirement already satisfied: urllib3 in /usr/local/lib/python3.7/dist-packages (from pmdarima) (1.24.3)\n",
            "Requirement already satisfied: pandas>=0.19 in /usr/local/lib/python3.7/dist-packages (from pmdarima) (1.1.5)\n",
            "Requirement already satisfied: Cython!=0.29.18,>=0.29 in /usr/local/lib/python3.7/dist-packages (from pmdarima) (0.29.24)\n",
            "Requirement already satisfied: pytz>=2017.2 in /usr/local/lib/python3.7/dist-packages (from pandas>=0.19->pmdarima) (2018.9)\n",
            "Requirement already satisfied: python-dateutil>=2.7.3 in /usr/local/lib/python3.7/dist-packages (from pandas>=0.19->pmdarima) (2.8.2)\n",
            "Requirement already satisfied: six>=1.5 in /usr/local/lib/python3.7/dist-packages (from python-dateutil>=2.7.3->pandas>=0.19->pmdarima) (1.15.0)\n",
            "Requirement already satisfied: patsy>=0.5 in /usr/local/lib/python3.7/dist-packages (from statsmodels!=0.12.0,>=0.11->pmdarima) (0.5.1)\n",
            "Installing collected packages: statsmodels, pmdarima\n",
            "  Attempting uninstall: statsmodels\n",
            "    Found existing installation: statsmodels 0.10.2\n",
            "    Uninstalling statsmodels-0.10.2:\n",
            "      Successfully uninstalled statsmodels-0.10.2\n",
            "Successfully installed pmdarima-1.8.2 statsmodels-0.12.2\n"
          ],
          "name": "stdout"
        }
      ]
    },
    {
      "cell_type": "code",
      "metadata": {
        "id": "BE7mvDaUW0VN"
      },
      "source": [
        "from pmdarima import auto_arima"
      ],
      "execution_count": 28,
      "outputs": []
    },
    {
      "cell_type": "code",
      "metadata": {
        "id": "xBqK9hS4XrwD"
      },
      "source": [
        "import warnings\n",
        "warnings.filterwarnings('ignore')"
      ],
      "execution_count": 29,
      "outputs": []
    },
    {
      "cell_type": "code",
      "metadata": {
        "colab": {
          "base_uri": "https://localhost:8080/"
        },
        "id": "CMLmxs5fXFGh",
        "outputId": "c57cdbdf-fd1c-4a9f-b6b0-7e49ceb13770"
      },
      "source": [
        "model = auto_arima(y=training_data['VWAP'],exogenous=training_data[ind_features],trace=True)"
      ],
      "execution_count": 31,
      "outputs": [
        {
          "output_type": "stream",
          "text": [
            "Performing stepwise search to minimize aic\n",
            " ARIMA(2,0,2)(0,0,0)[0] intercept   : AIC=9124.472, Time=2.67 sec\n",
            " ARIMA(0,0,0)(0,0,0)[0] intercept   : AIC=9412.450, Time=1.32 sec\n",
            " ARIMA(1,0,0)(0,0,0)[0] intercept   : AIC=9285.660, Time=1.40 sec\n",
            " ARIMA(0,0,1)(0,0,0)[0] intercept   : AIC=9175.471, Time=1.96 sec\n",
            " ARIMA(0,0,0)(0,0,0)[0]             : AIC=15319.214, Time=1.26 sec\n",
            " ARIMA(1,0,2)(0,0,0)[0] intercept   : AIC=9149.751, Time=2.43 sec\n",
            " ARIMA(2,0,1)(0,0,0)[0] intercept   : AIC=9124.248, Time=2.08 sec\n",
            " ARIMA(1,0,1)(0,0,0)[0] intercept   : AIC=9173.787, Time=2.18 sec\n",
            " ARIMA(2,0,0)(0,0,0)[0] intercept   : AIC=9123.714, Time=1.99 sec\n",
            " ARIMA(3,0,0)(0,0,0)[0] intercept   : AIC=9124.531, Time=2.24 sec\n",
            " ARIMA(3,0,1)(0,0,0)[0] intercept   : AIC=9125.783, Time=2.35 sec\n",
            " ARIMA(2,0,0)(0,0,0)[0]             : AIC=9121.731, Time=1.97 sec\n",
            " ARIMA(1,0,0)(0,0,0)[0]             : AIC=9283.665, Time=1.34 sec\n",
            " ARIMA(3,0,0)(0,0,0)[0]             : AIC=9122.547, Time=2.23 sec\n",
            " ARIMA(2,0,1)(0,0,0)[0]             : AIC=9122.263, Time=1.92 sec\n",
            " ARIMA(1,0,1)(0,0,0)[0]             : AIC=9171.791, Time=2.15 sec\n",
            " ARIMA(3,0,1)(0,0,0)[0]             : AIC=9123.797, Time=2.25 sec\n",
            "\n",
            "Best model:  ARIMA(2,0,0)(0,0,0)[0]          \n",
            "Total fit time: 33.800 seconds\n"
          ],
          "name": "stdout"
        }
      ]
    },
    {
      "cell_type": "code",
      "metadata": {
        "colab": {
          "base_uri": "https://localhost:8080/"
        },
        "id": "K5d4w6hBYZ7n",
        "outputId": "0af7b4e4-9503-4721-ff9e-774857885bb2"
      },
      "source": [
        "model.fit(training_data['VWAP'],training_data[ind_features])"
      ],
      "execution_count": 32,
      "outputs": [
        {
          "output_type": "execute_result",
          "data": {
            "text/plain": [
              "ARIMA(maxiter=50, method='lbfgs', order=(2, 0, 0), out_of_sample_size=0,\n",
              "      scoring='mse', scoring_args={}, seasonal_order=(0, 0, 0, 0),\n",
              "      start_params=None, suppress_warnings=True, trend=None,\n",
              "      with_intercept=False)"
            ]
          },
          "metadata": {
            "tags": []
          },
          "execution_count": 32
        }
      ]
    },
    {
      "cell_type": "code",
      "metadata": {
        "id": "X71Dj-aDY1Ir"
      },
      "source": [
        "forecast = model.predict(n_periods=len(test_data),exogenous=test_data[ind_features])"
      ],
      "execution_count": 34,
      "outputs": []
    },
    {
      "cell_type": "code",
      "metadata": {
        "id": "xiBFXfDKZdWM"
      },
      "source": [
        "test_data['Forecast_ARIMA']=forecast"
      ],
      "execution_count": 35,
      "outputs": []
    },
    {
      "cell_type": "code",
      "metadata": {
        "colab": {
          "base_uri": "https://localhost:8080/",
          "height": 459
        },
        "id": "6tfSN7chZt9P",
        "outputId": "37e29874-6bd8-4dd6-f678-1a2879f2212f"
      },
      "source": [
        "test_data[['VWAP','Forecast_ARIMA']].plot(figsize=(14,7))"
      ],
      "execution_count": 40,
      "outputs": [
        {
          "output_type": "execute_result",
          "data": {
            "text/plain": [
              "<matplotlib.axes._subplots.AxesSubplot at 0x7f2c51256b10>"
            ]
          },
          "metadata": {
            "tags": []
          },
          "execution_count": 40
        },
        {
          "output_type": "display_data",
          "data": {
            "image/png": "[encoded data removed]",
            "text/plain": [
              "<Figure size 1008x504 with 1 Axes>"
            ]
          },
          "metadata": {
            "tags": [],
            "needs_background": "light"
          }
        }
      ]
    },
    {
      "cell_type": "markdown",
      "metadata": {
        "id": "-Q5JSgl7gyyI"
      },
      "source": [
        "Evaluating Time Series Model"
      ]
    },
    {
      "cell_type": "markdown",
      "metadata": {
        "id": "aEHg_N2pgyt0"
      },
      "source": [
        ""
      ]
    },
    {
      "cell_type": "code",
      "metadata": {
        "id": "w5a588WUa8VT"
      },
      "source": [
        "from sklearn.metrics import mean_absolute_error,mean_squared_error"
      ],
      "execution_count": 41,
      "outputs": []
    },
    {
      "cell_type": "code",
      "metadata": {
        "colab": {
          "base_uri": "https://localhost:8080/"
        },
        "id": "uVslxIzNbPFf",
        "outputId": "f7fa6770-fffb-4911-b6d2-f45a3ccf061e"
      },
      "source": [
        "np.sqrt(mean_squared_error(test_data['VWAP'],test_data['Forecast_ARIMA']))"
      ],
      "execution_count": 43,
      "outputs": [
        {
          "output_type": "execute_result",
          "data": {
            "text/plain": [
              "411.7625815010635"
            ]
          },
          "metadata": {
            "tags": []
          },
          "execution_count": 43
        }
      ]
    },
    {
      "cell_type": "code",
      "metadata": {
        "colab": {
          "base_uri": "https://localhost:8080/"
        },
        "id": "PGzKjzaebTeZ",
        "outputId": "d8f19e47-a96c-449a-8e10-5e0aee37fa0e"
      },
      "source": [
        "mean_absolute_error(test_data['VWAP'],test_data['Forecast_ARIMA'])"
      ],
      "execution_count": 44,
      "outputs": [
        {
          "output_type": "execute_result",
          "data": {
            "text/plain": [
              "127.41375179033983"
            ]
          },
          "metadata": {
            "tags": []
          },
          "execution_count": 44
        }
      ]
    }
  ]
}